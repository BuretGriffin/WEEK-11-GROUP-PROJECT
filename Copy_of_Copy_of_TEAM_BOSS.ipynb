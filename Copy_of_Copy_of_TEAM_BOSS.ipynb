{
  "nbformat": 4,
  "nbformat_minor": 0,
  "metadata": {
    "colab": {
      "name": "Copy of Copy of TEAM BOSS.ipynb",
      "provenance": [],
      "collapsed_sections": [
        "-wE_HxUNadgW"
      ],
      "toc_visible": true,
      "include_colab_link": true
    },
    "kernelspec": {
      "name": "python3",
      "display_name": "Python 3"
    },
    "language_info": {
      "name": "python"
    }
  },
  "cells": [
    {
      "cell_type": "markdown",
      "metadata": {
        "id": "view-in-github",
        "colab_type": "text"
      },
      "source": [
        "<a href=\"https://colab.research.google.com/github/BuretGriffin/WEEK-11-GROUP-PROJECT/blob/main/Copy_of_Copy_of_TEAM_BOSS.ipynb\" target=\"_parent\"><img src=\"https://colab.research.google.com/assets/colab-badge.svg\" alt=\"Open In Colab\"/></a>"
      ]
    },
    {
      "cell_type": "markdown",
      "source": [
        "# **Supervised Learning with Exploratory Data Analysis for Loan Defaulting Prediction**"
      ],
      "metadata": {
        "id": "XBsAthk_pUsq"
      }
    },
    {
      "cell_type": "markdown",
      "source": [
        "**1. Defining the Question**"
      ],
      "metadata": {
        "id": "5ZDAfuK8pbBc"
      }
    },
    {
      "cell_type": "markdown",
      "source": [
        "**a) Specifying the Question**"
      ],
      "metadata": {
        "id": "GoRkDmYIpfIH"
      }
    },
    {
      "cell_type": "markdown",
      "source": [
        "NBFIs are struggling to make profits due to an increase in defaults in the vehicle loan category. Our aim is to determine the client’s loan repayment abilities and understand the relative importance of each parameter contributing to a borrower’s ability to repay the loan.\n",
        "\n",
        "The goal of the problem is to predict whether a client will default on the vehicle loan payment or not"
      ],
      "metadata": {
        "id": "acXLCwHRplub"
      }
    },
    {
      "cell_type": "markdown",
      "source": [
        "**b) Defining the Metric for Success**"
      ],
      "metadata": {
        "id": "lDSKBa6nponq"
      }
    },
    {
      "cell_type": "markdown",
      "source": [
        "A model with more than 70% accuracy in predcting whether a customer will default on their automobile loan"
      ],
      "metadata": {
        "id": "MtG4TUCppsOM"
      }
    },
    {
      "cell_type": "markdown",
      "source": [
        "**c) Understanding the context**"
      ],
      "metadata": {
        "id": "GmnxlPLGpveJ"
      }
    },
    {
      "cell_type": "markdown",
      "source": [
        "A non-banking financial institution (NBFI) or non-bank financial company (NBFC) is a Financial Institution that does not have a full banking license or is not supervised by a national or international banking regulatory agency. NBFC facilitates bank-related financial services, such as investment, risk pooling, contractual savings, and market brokering. NBFIs offer loans to its customers to bridge various financial needs and that include car loans. They compete with various other financial institutions to make this lucrative business opportunity profitable. They can give full car financing or a certain percentage of the total request depending on the various attributes of the customer."
      ],
      "metadata": {
        "id": "2SLD0mCnpzXD"
      }
    },
    {
      "cell_type": "markdown",
      "source": [
        "**d) Recording the Experimental Design**"
      ],
      "metadata": {
        "id": "Lwxqk8_Ap2eJ"
      }
    },
    {
      "cell_type": "markdown",
      "source": [
        "As to how we will tackle the presented challenge, we as a group will allocate tasks among ourselves and work collaboratively on a single Google notepad for version control. All our steps will be documented and the process wil follow an established pattern of Introduction > Analysis > Prediction > Evaluation"
      ],
      "metadata": {
        "id": "_8meOAxUp7uo"
      }
    },
    {
      "cell_type": "markdown",
      "source": [
        "# **1. Importing libraries**"
      ],
      "metadata": {
        "id": "ldptpRnUp_IS"
      }
    },
    {
      "cell_type": "code",
      "source": [
        "#Our initial Imports\n",
        "import numpy as np\n",
        "import pandas as pd\n",
        "import seaborn as sns\n",
        "import matplotlib.pyplot as plt\n",
        "import warnings\n",
        "warnings.filterwarnings('ignore')"
      ],
      "metadata": {
        "id": "QDI_jNcYqHiH"
      },
      "execution_count": null,
      "outputs": []
    },
    {
      "cell_type": "markdown",
      "source": [
        "# **2. Reading the Data**"
      ],
      "metadata": {
        "id": "5_VRjrcKqLL7"
      }
    },
    {
      "cell_type": "code",
      "source": [
        "train = pd.read_csv('Train_Dataset.csv')\n",
        "#test dataset\n",
        "test = pd.read_csv('Test_Dataset.csv')"
      ],
      "metadata": {
        "id": "Y032qfutqSIT"
      },
      "execution_count": null,
      "outputs": []
    },
    {
      "cell_type": "markdown",
      "source": [
        "# **3. Checking the Data**"
      ],
      "metadata": {
        "id": "Aw8I7o5aqaIP"
      }
    },
    {
      "cell_type": "code",
      "source": [
        "# Determining the no. of records in our dataset\n",
        "#\n",
        "rows, columns = train.shape\n",
        "print('rows:', rows, 'columns:', columns)"
      ],
      "metadata": {
        "colab": {
          "base_uri": "https://localhost:8080/"
        },
        "id": "NK9Tgpa-qiaH",
        "outputId": "e0175ab1-de5d-4bc6-9123-93c3ef39629a"
      },
      "execution_count": null,
      "outputs": [
        {
          "output_type": "stream",
          "name": "stdout",
          "text": [
            "rows: 60619 columns: 40\n"
          ]
        }
      ]
    },
    {
      "cell_type": "code",
      "source": [
        "rows, columns = test.shape\n",
        "print('rows:', rows, 'columns:', columns)"
      ],
      "metadata": {
        "colab": {
          "base_uri": "https://localhost:8080/"
        },
        "id": "8mtccSq7qnRH",
        "outputId": "543fbd76-4a1a-4ce3-843c-23e104b0689e"
      },
      "execution_count": null,
      "outputs": [
        {
          "output_type": "stream",
          "name": "stdout",
          "text": [
            "rows: 61283 columns: 39\n"
          ]
        }
      ]
    },
    {
      "cell_type": "code",
      "source": [
        "# Previewing the top of our dataset\n",
        "#\n",
        "train.head(5)"
      ],
      "metadata": {
        "colab": {
          "base_uri": "https://localhost:8080/",
          "height": 317
        },
        "id": "zWIzLB57qpjD",
        "outputId": "4dddcb76-65e0-4349-f209-578c29165e65"
      },
      "execution_count": null,
      "outputs": [
        {
          "output_type": "execute_result",
          "data": {
            "text/plain": [
              "         ID Client_Income  Car_Owned  Bike_Owned  Active_Loan  House_Own  \\\n",
              "0  12142509          6750        0.0         0.0          1.0        0.0   \n",
              "1  12138936         20250        1.0         0.0          1.0        NaN   \n",
              "2  12181264         18000        0.0         0.0          1.0        0.0   \n",
              "3  12188929         15750        0.0         0.0          1.0        1.0   \n",
              "4  12133385         33750        1.0         0.0          1.0        0.0   \n",
              "\n",
              "   Child_Count Credit_Amount Loan_Annuity Accompany_Client  ...  \\\n",
              "0          0.0      61190.55      3416.85            Alone  ...   \n",
              "1          0.0         15282      1826.55            Alone  ...   \n",
              "2          1.0      59527.35       2788.2            Alone  ...   \n",
              "3          0.0       53870.4      2295.45            Alone  ...   \n",
              "4          2.0      133988.4      3547.35            Alone  ...   \n",
              "\n",
              "  Client_Permanent_Match_Tag Client_Contact_Work_Tag       Type_Organization  \\\n",
              "0                        Yes                     Yes           Self-employed   \n",
              "1                        Yes                     Yes              Government   \n",
              "2                        Yes                     Yes           Self-employed   \n",
              "3                        Yes                     Yes                     XNA   \n",
              "4                        Yes                     Yes  Business Entity Type 3   \n",
              "\n",
              "  Score_Source_1 Score_Source_2 Score_Source_3 Social_Circle_Default  \\\n",
              "0       0.568066       0.478787            NaN                0.0186   \n",
              "1       0.563360       0.215068            NaN                   NaN   \n",
              "2            NaN       0.552795       0.329655                0.0742   \n",
              "3            NaN       0.135182       0.631355                   NaN   \n",
              "4       0.508199       0.301182       0.355639                0.2021   \n",
              "\n",
              "  Phone_Change Credit_Bureau Default  \n",
              "0         63.0           NaN     0.0  \n",
              "1          NaN           NaN     0.0  \n",
              "2        277.0           0.0     0.0  \n",
              "3       1700.0           3.0     0.0  \n",
              "4        674.0           1.0     0.0  \n",
              "\n",
              "[5 rows x 40 columns]"
            ],
            "text/html": [
              "\n",
              "  <div id=\"df-3b8f732d-8ae6-4cf3-a904-a9ec72c199ac\">\n",
              "    <div class=\"colab-df-container\">\n",
              "      <div>\n",
              "<style scoped>\n",
              "    .dataframe tbody tr th:only-of-type {\n",
              "        vertical-align: middle;\n",
              "    }\n",
              "\n",
              "    .dataframe tbody tr th {\n",
              "        vertical-align: top;\n",
              "    }\n",
              "\n",
              "    .dataframe thead th {\n",
              "        text-align: right;\n",
              "    }\n",
              "</style>\n",
              "<table border=\"1\" class=\"dataframe\">\n",
              "  <thead>\n",
              "    <tr style=\"text-align: right;\">\n",
              "      <th></th>\n",
              "      <th>ID</th>\n",
              "      <th>Client_Income</th>\n",
              "      <th>Car_Owned</th>\n",
              "      <th>Bike_Owned</th>\n",
              "      <th>Active_Loan</th>\n",
              "      <th>House_Own</th>\n",
              "      <th>Child_Count</th>\n",
              "      <th>Credit_Amount</th>\n",
              "      <th>Loan_Annuity</th>\n",
              "      <th>Accompany_Client</th>\n",
              "      <th>...</th>\n",
              "      <th>Client_Permanent_Match_Tag</th>\n",
              "      <th>Client_Contact_Work_Tag</th>\n",
              "      <th>Type_Organization</th>\n",
              "      <th>Score_Source_1</th>\n",
              "      <th>Score_Source_2</th>\n",
              "      <th>Score_Source_3</th>\n",
              "      <th>Social_Circle_Default</th>\n",
              "      <th>Phone_Change</th>\n",
              "      <th>Credit_Bureau</th>\n",
              "      <th>Default</th>\n",
              "    </tr>\n",
              "  </thead>\n",
              "  <tbody>\n",
              "    <tr>\n",
              "      <th>0</th>\n",
              "      <td>12142509</td>\n",
              "      <td>6750</td>\n",
              "      <td>0.0</td>\n",
              "      <td>0.0</td>\n",
              "      <td>1.0</td>\n",
              "      <td>0.0</td>\n",
              "      <td>0.0</td>\n",
              "      <td>61190.55</td>\n",
              "      <td>3416.85</td>\n",
              "      <td>Alone</td>\n",
              "      <td>...</td>\n",
              "      <td>Yes</td>\n",
              "      <td>Yes</td>\n",
              "      <td>Self-employed</td>\n",
              "      <td>0.568066</td>\n",
              "      <td>0.478787</td>\n",
              "      <td>NaN</td>\n",
              "      <td>0.0186</td>\n",
              "      <td>63.0</td>\n",
              "      <td>NaN</td>\n",
              "      <td>0.0</td>\n",
              "    </tr>\n",
              "    <tr>\n",
              "      <th>1</th>\n",
              "      <td>12138936</td>\n",
              "      <td>20250</td>\n",
              "      <td>1.0</td>\n",
              "      <td>0.0</td>\n",
              "      <td>1.0</td>\n",
              "      <td>NaN</td>\n",
              "      <td>0.0</td>\n",
              "      <td>15282</td>\n",
              "      <td>1826.55</td>\n",
              "      <td>Alone</td>\n",
              "      <td>...</td>\n",
              "      <td>Yes</td>\n",
              "      <td>Yes</td>\n",
              "      <td>Government</td>\n",
              "      <td>0.563360</td>\n",
              "      <td>0.215068</td>\n",
              "      <td>NaN</td>\n",
              "      <td>NaN</td>\n",
              "      <td>NaN</td>\n",
              "      <td>NaN</td>\n",
              "      <td>0.0</td>\n",
              "    </tr>\n",
              "    <tr>\n",
              "      <th>2</th>\n",
              "      <td>12181264</td>\n",
              "      <td>18000</td>\n",
              "      <td>0.0</td>\n",
              "      <td>0.0</td>\n",
              "      <td>1.0</td>\n",
              "      <td>0.0</td>\n",
              "      <td>1.0</td>\n",
              "      <td>59527.35</td>\n",
              "      <td>2788.2</td>\n",
              "      <td>Alone</td>\n",
              "      <td>...</td>\n",
              "      <td>Yes</td>\n",
              "      <td>Yes</td>\n",
              "      <td>Self-employed</td>\n",
              "      <td>NaN</td>\n",
              "      <td>0.552795</td>\n",
              "      <td>0.329655</td>\n",
              "      <td>0.0742</td>\n",
              "      <td>277.0</td>\n",
              "      <td>0.0</td>\n",
              "      <td>0.0</td>\n",
              "    </tr>\n",
              "    <tr>\n",
              "      <th>3</th>\n",
              "      <td>12188929</td>\n",
              "      <td>15750</td>\n",
              "      <td>0.0</td>\n",
              "      <td>0.0</td>\n",
              "      <td>1.0</td>\n",
              "      <td>1.0</td>\n",
              "      <td>0.0</td>\n",
              "      <td>53870.4</td>\n",
              "      <td>2295.45</td>\n",
              "      <td>Alone</td>\n",
              "      <td>...</td>\n",
              "      <td>Yes</td>\n",
              "      <td>Yes</td>\n",
              "      <td>XNA</td>\n",
              "      <td>NaN</td>\n",
              "      <td>0.135182</td>\n",
              "      <td>0.631355</td>\n",
              "      <td>NaN</td>\n",
              "      <td>1700.0</td>\n",
              "      <td>3.0</td>\n",
              "      <td>0.0</td>\n",
              "    </tr>\n",
              "    <tr>\n",
              "      <th>4</th>\n",
              "      <td>12133385</td>\n",
              "      <td>33750</td>\n",
              "      <td>1.0</td>\n",
              "      <td>0.0</td>\n",
              "      <td>1.0</td>\n",
              "      <td>0.0</td>\n",
              "      <td>2.0</td>\n",
              "      <td>133988.4</td>\n",
              "      <td>3547.35</td>\n",
              "      <td>Alone</td>\n",
              "      <td>...</td>\n",
              "      <td>Yes</td>\n",
              "      <td>Yes</td>\n",
              "      <td>Business Entity Type 3</td>\n",
              "      <td>0.508199</td>\n",
              "      <td>0.301182</td>\n",
              "      <td>0.355639</td>\n",
              "      <td>0.2021</td>\n",
              "      <td>674.0</td>\n",
              "      <td>1.0</td>\n",
              "      <td>0.0</td>\n",
              "    </tr>\n",
              "  </tbody>\n",
              "</table>\n",
              "<p>5 rows × 40 columns</p>\n",
              "</div>\n",
              "      <button class=\"colab-df-convert\" onclick=\"convertToInteractive('df-3b8f732d-8ae6-4cf3-a904-a9ec72c199ac')\"\n",
              "              title=\"Convert this dataframe to an interactive table.\"\n",
              "              style=\"display:none;\">\n",
              "        \n",
              "  <svg xmlns=\"http://www.w3.org/2000/svg\" height=\"24px\"viewBox=\"0 0 24 24\"\n",
              "       width=\"24px\">\n",
              "    <path d=\"M0 0h24v24H0V0z\" fill=\"none\"/>\n",
              "    <path d=\"M18.56 5.44l.94 2.06.94-2.06 2.06-.94-2.06-.94-.94-2.06-.94 2.06-2.06.94zm-11 1L8.5 8.5l.94-2.06 2.06-.94-2.06-.94L8.5 2.5l-.94 2.06-2.06.94zm10 10l.94 2.06.94-2.06 2.06-.94-2.06-.94-.94-2.06-.94 2.06-2.06.94z\"/><path d=\"M17.41 7.96l-1.37-1.37c-.4-.4-.92-.59-1.43-.59-.52 0-1.04.2-1.43.59L10.3 9.45l-7.72 7.72c-.78.78-.78 2.05 0 2.83L4 21.41c.39.39.9.59 1.41.59.51 0 1.02-.2 1.41-.59l7.78-7.78 2.81-2.81c.8-.78.8-2.07 0-2.86zM5.41 20L4 18.59l7.72-7.72 1.47 1.35L5.41 20z\"/>\n",
              "  </svg>\n",
              "      </button>\n",
              "      \n",
              "  <style>\n",
              "    .colab-df-container {\n",
              "      display:flex;\n",
              "      flex-wrap:wrap;\n",
              "      gap: 12px;\n",
              "    }\n",
              "\n",
              "    .colab-df-convert {\n",
              "      background-color: #E8F0FE;\n",
              "      border: none;\n",
              "      border-radius: 50%;\n",
              "      cursor: pointer;\n",
              "      display: none;\n",
              "      fill: #1967D2;\n",
              "      height: 32px;\n",
              "      padding: 0 0 0 0;\n",
              "      width: 32px;\n",
              "    }\n",
              "\n",
              "    .colab-df-convert:hover {\n",
              "      background-color: #E2EBFA;\n",
              "      box-shadow: 0px 1px 2px rgba(60, 64, 67, 0.3), 0px 1px 3px 1px rgba(60, 64, 67, 0.15);\n",
              "      fill: #174EA6;\n",
              "    }\n",
              "\n",
              "    [theme=dark] .colab-df-convert {\n",
              "      background-color: #3B4455;\n",
              "      fill: #D2E3FC;\n",
              "    }\n",
              "\n",
              "    [theme=dark] .colab-df-convert:hover {\n",
              "      background-color: #434B5C;\n",
              "      box-shadow: 0px 1px 3px 1px rgba(0, 0, 0, 0.15);\n",
              "      filter: drop-shadow(0px 1px 2px rgba(0, 0, 0, 0.3));\n",
              "      fill: #FFFFFF;\n",
              "    }\n",
              "  </style>\n",
              "\n",
              "      <script>\n",
              "        const buttonEl =\n",
              "          document.querySelector('#df-3b8f732d-8ae6-4cf3-a904-a9ec72c199ac button.colab-df-convert');\n",
              "        buttonEl.style.display =\n",
              "          google.colab.kernel.accessAllowed ? 'block' : 'none';\n",
              "\n",
              "        async function convertToInteractive(key) {\n",
              "          const element = document.querySelector('#df-3b8f732d-8ae6-4cf3-a904-a9ec72c199ac');\n",
              "          const dataTable =\n",
              "            await google.colab.kernel.invokeFunction('convertToInteractive',\n",
              "                                                     [key], {});\n",
              "          if (!dataTable) return;\n",
              "\n",
              "          const docLinkHtml = 'Like what you see? Visit the ' +\n",
              "            '<a target=\"_blank\" href=https://colab.research.google.com/notebooks/data_table.ipynb>data table notebook</a>'\n",
              "            + ' to learn more about interactive tables.';\n",
              "          element.innerHTML = '';\n",
              "          dataTable['output_type'] = 'display_data';\n",
              "          await google.colab.output.renderOutput(dataTable, element);\n",
              "          const docLink = document.createElement('div');\n",
              "          docLink.innerHTML = docLinkHtml;\n",
              "          element.appendChild(docLink);\n",
              "        }\n",
              "      </script>\n",
              "    </div>\n",
              "  </div>\n",
              "  "
            ]
          },
          "metadata": {},
          "execution_count": 8
        }
      ]
    },
    {
      "cell_type": "code",
      "source": [
        "test.head(5)"
      ],
      "metadata": {
        "colab": {
          "base_uri": "https://localhost:8080/",
          "height": 317
        },
        "id": "Hn024to1qtQ_",
        "outputId": "e86d76b9-4d21-4db2-a73f-de5e4006d052"
      },
      "execution_count": null,
      "outputs": [
        {
          "output_type": "execute_result",
          "data": {
            "text/plain": [
              "         ID Client_Income  Car_Owned  Bike_Owned  Active_Loan  House_Own  \\\n",
              "0  12202227         11250        0.0         1.0          1.0        1.0   \n",
              "1  12279381         13500        1.0         1.0          1.0        1.0   \n",
              "2  12222714         38250        0.0         1.0          0.0        1.0   \n",
              "3  12265215         20250        0.0         0.0          1.0        0.0   \n",
              "4  12203970         13500        1.0         1.0          0.0        1.0   \n",
              "\n",
              "   Child_Count Credit_Amount Loan_Annuity Accompany_Client  ...  \\\n",
              "0          0.0        112500       4474.8         Relative  ...   \n",
              "1          3.0         49752      3252.15            Alone  ...   \n",
              "2          0.0         67500         3375            Alone  ...   \n",
              "3          0.0      50849.55      3814.65            Alone  ...   \n",
              "4          0.0       43603.2      2515.95            Alone  ...   \n",
              "\n",
              "  Application_Process_Hour Client_Permanent_Match_Tag Client_Contact_Work_Tag  \\\n",
              "0                     16.0                        Yes                     Yes   \n",
              "1                     18.0                         No                     Yes   \n",
              "2                     19.0                        Yes                     Yes   \n",
              "3                     20.0                         No                      No   \n",
              "4                     13.0                        Yes                     Yes   \n",
              "\n",
              "        Type_Organization Score_Source_1 Score_Source_2 Score_Source_3  \\\n",
              "0           Self-employed            NaN       0.757151       0.629674   \n",
              "1           Self-employed            NaN       0.342269            NaN   \n",
              "2  Business Entity Type 3            NaN       0.683665            NaN   \n",
              "3                Medicine       0.351581        0.22995       0.672243   \n",
              "4           Self-employed       0.731110       0.566971       0.730987   \n",
              "\n",
              "  Social_Circle_Default Phone_Change Credit_Bureau  \n",
              "0                0.0515        716.0           2.0  \n",
              "1                   NaN        181.0           NaN  \n",
              "2                0.1503        281.0           NaN  \n",
              "3                   NaN       1442.0           4.0  \n",
              "4                   NaN        927.0           1.0  \n",
              "\n",
              "[5 rows x 39 columns]"
            ],
            "text/html": [
              "\n",
              "  <div id=\"df-5a3c5555-377d-4c46-97a6-537b73e2860e\">\n",
              "    <div class=\"colab-df-container\">\n",
              "      <div>\n",
              "<style scoped>\n",
              "    .dataframe tbody tr th:only-of-type {\n",
              "        vertical-align: middle;\n",
              "    }\n",
              "\n",
              "    .dataframe tbody tr th {\n",
              "        vertical-align: top;\n",
              "    }\n",
              "\n",
              "    .dataframe thead th {\n",
              "        text-align: right;\n",
              "    }\n",
              "</style>\n",
              "<table border=\"1\" class=\"dataframe\">\n",
              "  <thead>\n",
              "    <tr style=\"text-align: right;\">\n",
              "      <th></th>\n",
              "      <th>ID</th>\n",
              "      <th>Client_Income</th>\n",
              "      <th>Car_Owned</th>\n",
              "      <th>Bike_Owned</th>\n",
              "      <th>Active_Loan</th>\n",
              "      <th>House_Own</th>\n",
              "      <th>Child_Count</th>\n",
              "      <th>Credit_Amount</th>\n",
              "      <th>Loan_Annuity</th>\n",
              "      <th>Accompany_Client</th>\n",
              "      <th>...</th>\n",
              "      <th>Application_Process_Hour</th>\n",
              "      <th>Client_Permanent_Match_Tag</th>\n",
              "      <th>Client_Contact_Work_Tag</th>\n",
              "      <th>Type_Organization</th>\n",
              "      <th>Score_Source_1</th>\n",
              "      <th>Score_Source_2</th>\n",
              "      <th>Score_Source_3</th>\n",
              "      <th>Social_Circle_Default</th>\n",
              "      <th>Phone_Change</th>\n",
              "      <th>Credit_Bureau</th>\n",
              "    </tr>\n",
              "  </thead>\n",
              "  <tbody>\n",
              "    <tr>\n",
              "      <th>0</th>\n",
              "      <td>12202227</td>\n",
              "      <td>11250</td>\n",
              "      <td>0.0</td>\n",
              "      <td>1.0</td>\n",
              "      <td>1.0</td>\n",
              "      <td>1.0</td>\n",
              "      <td>0.0</td>\n",
              "      <td>112500</td>\n",
              "      <td>4474.8</td>\n",
              "      <td>Relative</td>\n",
              "      <td>...</td>\n",
              "      <td>16.0</td>\n",
              "      <td>Yes</td>\n",
              "      <td>Yes</td>\n",
              "      <td>Self-employed</td>\n",
              "      <td>NaN</td>\n",
              "      <td>0.757151</td>\n",
              "      <td>0.629674</td>\n",
              "      <td>0.0515</td>\n",
              "      <td>716.0</td>\n",
              "      <td>2.0</td>\n",
              "    </tr>\n",
              "    <tr>\n",
              "      <th>1</th>\n",
              "      <td>12279381</td>\n",
              "      <td>13500</td>\n",
              "      <td>1.0</td>\n",
              "      <td>1.0</td>\n",
              "      <td>1.0</td>\n",
              "      <td>1.0</td>\n",
              "      <td>3.0</td>\n",
              "      <td>49752</td>\n",
              "      <td>3252.15</td>\n",
              "      <td>Alone</td>\n",
              "      <td>...</td>\n",
              "      <td>18.0</td>\n",
              "      <td>No</td>\n",
              "      <td>Yes</td>\n",
              "      <td>Self-employed</td>\n",
              "      <td>NaN</td>\n",
              "      <td>0.342269</td>\n",
              "      <td>NaN</td>\n",
              "      <td>NaN</td>\n",
              "      <td>181.0</td>\n",
              "      <td>NaN</td>\n",
              "    </tr>\n",
              "    <tr>\n",
              "      <th>2</th>\n",
              "      <td>12222714</td>\n",
              "      <td>38250</td>\n",
              "      <td>0.0</td>\n",
              "      <td>1.0</td>\n",
              "      <td>0.0</td>\n",
              "      <td>1.0</td>\n",
              "      <td>0.0</td>\n",
              "      <td>67500</td>\n",
              "      <td>3375</td>\n",
              "      <td>Alone</td>\n",
              "      <td>...</td>\n",
              "      <td>19.0</td>\n",
              "      <td>Yes</td>\n",
              "      <td>Yes</td>\n",
              "      <td>Business Entity Type 3</td>\n",
              "      <td>NaN</td>\n",
              "      <td>0.683665</td>\n",
              "      <td>NaN</td>\n",
              "      <td>0.1503</td>\n",
              "      <td>281.0</td>\n",
              "      <td>NaN</td>\n",
              "    </tr>\n",
              "    <tr>\n",
              "      <th>3</th>\n",
              "      <td>12265215</td>\n",
              "      <td>20250</td>\n",
              "      <td>0.0</td>\n",
              "      <td>0.0</td>\n",
              "      <td>1.0</td>\n",
              "      <td>0.0</td>\n",
              "      <td>0.0</td>\n",
              "      <td>50849.55</td>\n",
              "      <td>3814.65</td>\n",
              "      <td>Alone</td>\n",
              "      <td>...</td>\n",
              "      <td>20.0</td>\n",
              "      <td>No</td>\n",
              "      <td>No</td>\n",
              "      <td>Medicine</td>\n",
              "      <td>0.351581</td>\n",
              "      <td>0.22995</td>\n",
              "      <td>0.672243</td>\n",
              "      <td>NaN</td>\n",
              "      <td>1442.0</td>\n",
              "      <td>4.0</td>\n",
              "    </tr>\n",
              "    <tr>\n",
              "      <th>4</th>\n",
              "      <td>12203970</td>\n",
              "      <td>13500</td>\n",
              "      <td>1.0</td>\n",
              "      <td>1.0</td>\n",
              "      <td>0.0</td>\n",
              "      <td>1.0</td>\n",
              "      <td>0.0</td>\n",
              "      <td>43603.2</td>\n",
              "      <td>2515.95</td>\n",
              "      <td>Alone</td>\n",
              "      <td>...</td>\n",
              "      <td>13.0</td>\n",
              "      <td>Yes</td>\n",
              "      <td>Yes</td>\n",
              "      <td>Self-employed</td>\n",
              "      <td>0.731110</td>\n",
              "      <td>0.566971</td>\n",
              "      <td>0.730987</td>\n",
              "      <td>NaN</td>\n",
              "      <td>927.0</td>\n",
              "      <td>1.0</td>\n",
              "    </tr>\n",
              "  </tbody>\n",
              "</table>\n",
              "<p>5 rows × 39 columns</p>\n",
              "</div>\n",
              "      <button class=\"colab-df-convert\" onclick=\"convertToInteractive('df-5a3c5555-377d-4c46-97a6-537b73e2860e')\"\n",
              "              title=\"Convert this dataframe to an interactive table.\"\n",
              "              style=\"display:none;\">\n",
              "        \n",
              "  <svg xmlns=\"http://www.w3.org/2000/svg\" height=\"24px\"viewBox=\"0 0 24 24\"\n",
              "       width=\"24px\">\n",
              "    <path d=\"M0 0h24v24H0V0z\" fill=\"none\"/>\n",
              "    <path d=\"M18.56 5.44l.94 2.06.94-2.06 2.06-.94-2.06-.94-.94-2.06-.94 2.06-2.06.94zm-11 1L8.5 8.5l.94-2.06 2.06-.94-2.06-.94L8.5 2.5l-.94 2.06-2.06.94zm10 10l.94 2.06.94-2.06 2.06-.94-2.06-.94-.94-2.06-.94 2.06-2.06.94z\"/><path d=\"M17.41 7.96l-1.37-1.37c-.4-.4-.92-.59-1.43-.59-.52 0-1.04.2-1.43.59L10.3 9.45l-7.72 7.72c-.78.78-.78 2.05 0 2.83L4 21.41c.39.39.9.59 1.41.59.51 0 1.02-.2 1.41-.59l7.78-7.78 2.81-2.81c.8-.78.8-2.07 0-2.86zM5.41 20L4 18.59l7.72-7.72 1.47 1.35L5.41 20z\"/>\n",
              "  </svg>\n",
              "      </button>\n",
              "      \n",
              "  <style>\n",
              "    .colab-df-container {\n",
              "      display:flex;\n",
              "      flex-wrap:wrap;\n",
              "      gap: 12px;\n",
              "    }\n",
              "\n",
              "    .colab-df-convert {\n",
              "      background-color: #E8F0FE;\n",
              "      border: none;\n",
              "      border-radius: 50%;\n",
              "      cursor: pointer;\n",
              "      display: none;\n",
              "      fill: #1967D2;\n",
              "      height: 32px;\n",
              "      padding: 0 0 0 0;\n",
              "      width: 32px;\n",
              "    }\n",
              "\n",
              "    .colab-df-convert:hover {\n",
              "      background-color: #E2EBFA;\n",
              "      box-shadow: 0px 1px 2px rgba(60, 64, 67, 0.3), 0px 1px 3px 1px rgba(60, 64, 67, 0.15);\n",
              "      fill: #174EA6;\n",
              "    }\n",
              "\n",
              "    [theme=dark] .colab-df-convert {\n",
              "      background-color: #3B4455;\n",
              "      fill: #D2E3FC;\n",
              "    }\n",
              "\n",
              "    [theme=dark] .colab-df-convert:hover {\n",
              "      background-color: #434B5C;\n",
              "      box-shadow: 0px 1px 3px 1px rgba(0, 0, 0, 0.15);\n",
              "      filter: drop-shadow(0px 1px 2px rgba(0, 0, 0, 0.3));\n",
              "      fill: #FFFFFF;\n",
              "    }\n",
              "  </style>\n",
              "\n",
              "      <script>\n",
              "        const buttonEl =\n",
              "          document.querySelector('#df-5a3c5555-377d-4c46-97a6-537b73e2860e button.colab-df-convert');\n",
              "        buttonEl.style.display =\n",
              "          google.colab.kernel.accessAllowed ? 'block' : 'none';\n",
              "\n",
              "        async function convertToInteractive(key) {\n",
              "          const element = document.querySelector('#df-5a3c5555-377d-4c46-97a6-537b73e2860e');\n",
              "          const dataTable =\n",
              "            await google.colab.kernel.invokeFunction('convertToInteractive',\n",
              "                                                     [key], {});\n",
              "          if (!dataTable) return;\n",
              "\n",
              "          const docLinkHtml = 'Like what you see? Visit the ' +\n",
              "            '<a target=\"_blank\" href=https://colab.research.google.com/notebooks/data_table.ipynb>data table notebook</a>'\n",
              "            + ' to learn more about interactive tables.';\n",
              "          element.innerHTML = '';\n",
              "          dataTable['output_type'] = 'display_data';\n",
              "          await google.colab.output.renderOutput(dataTable, element);\n",
              "          const docLink = document.createElement('div');\n",
              "          docLink.innerHTML = docLinkHtml;\n",
              "          element.appendChild(docLink);\n",
              "        }\n",
              "      </script>\n",
              "    </div>\n",
              "  </div>\n",
              "  "
            ]
          },
          "metadata": {},
          "execution_count": 9
        }
      ]
    },
    {
      "cell_type": "code",
      "source": [
        "# Previewing the bottom of our dataset\n",
        "# \n",
        "train.tail(5)"
      ],
      "metadata": {
        "colab": {
          "base_uri": "https://localhost:8080/",
          "height": 299
        },
        "id": "fHJcuc18qvrr",
        "outputId": "beee8adb-dac0-452f-8d13-5a62da9ee059"
      },
      "execution_count": null,
      "outputs": [
        {
          "output_type": "execute_result",
          "data": {
            "text/plain": [
              "             ID Client_Income  Car_Owned  Bike_Owned  Active_Loan  House_Own  \\\n",
              "60614  12184552       22500.0        0.0         0.0          0.0        1.0   \n",
              "60615  12120429        4950.0        NaN         0.0          1.0        NaN   \n",
              "60616  12118321       11250.0        1.0         0.0          0.0        1.0   \n",
              "60617  12102908       11250.0        1.0         0.0          1.0        1.0   \n",
              "60618  12163911       13500.0        0.0         1.0          0.0        1.0   \n",
              "\n",
              "       Child_Count Credit_Amount Loan_Annuity Accompany_Client  ...  \\\n",
              "60614          0.0       45000.0      2441.25            Alone  ...   \n",
              "60615          0.0        9000.0        502.2              NaN  ...   \n",
              "60616          1.0        6750.0       776.25         Relative  ...   \n",
              "60617          0.0       64008.0         2997         Relative  ...   \n",
              "60618          0.0       18000.0          900            Alone  ...   \n",
              "\n",
              "      Client_Permanent_Match_Tag Client_Contact_Work_Tag Type_Organization  \\\n",
              "60614                        Yes                      No           Housing   \n",
              "60615                        Yes                     Yes               XNA   \n",
              "60616                        Yes                     Yes            School   \n",
              "60617                        Yes                     Yes  Industry: type 3   \n",
              "60618                        Yes                     Yes     Trade: type 2   \n",
              "\n",
              "      Score_Source_1 Score_Source_2 Score_Source_3 Social_Circle_Default  \\\n",
              "60614       0.238103       0.706882       0.303146                0.0495   \n",
              "60615            NaN       0.482542            NaN                0.0165   \n",
              "60616       0.326768       0.427474       0.791075                   NaN   \n",
              "60617            NaN       0.357282       0.318596                   NaN   \n",
              "60618       0.330763       0.353655            NaN                0.1649   \n",
              "\n",
              "      Phone_Change Credit_Bureau Default  \n",
              "60614        398.0           5.0     1.0  \n",
              "60615       2680.0           NaN     0.0  \n",
              "60616       1756.0           4.0     1.0  \n",
              "60617        472.0           1.0     1.0  \n",
              "60618        603.0           NaN     NaN  \n",
              "\n",
              "[5 rows x 40 columns]"
            ],
            "text/html": [
              "\n",
              "  <div id=\"df-60501bcb-420b-4885-a2ac-78eb65325ad9\">\n",
              "    <div class=\"colab-df-container\">\n",
              "      <div>\n",
              "<style scoped>\n",
              "    .dataframe tbody tr th:only-of-type {\n",
              "        vertical-align: middle;\n",
              "    }\n",
              "\n",
              "    .dataframe tbody tr th {\n",
              "        vertical-align: top;\n",
              "    }\n",
              "\n",
              "    .dataframe thead th {\n",
              "        text-align: right;\n",
              "    }\n",
              "</style>\n",
              "<table border=\"1\" class=\"dataframe\">\n",
              "  <thead>\n",
              "    <tr style=\"text-align: right;\">\n",
              "      <th></th>\n",
              "      <th>ID</th>\n",
              "      <th>Client_Income</th>\n",
              "      <th>Car_Owned</th>\n",
              "      <th>Bike_Owned</th>\n",
              "      <th>Active_Loan</th>\n",
              "      <th>House_Own</th>\n",
              "      <th>Child_Count</th>\n",
              "      <th>Credit_Amount</th>\n",
              "      <th>Loan_Annuity</th>\n",
              "      <th>Accompany_Client</th>\n",
              "      <th>...</th>\n",
              "      <th>Client_Permanent_Match_Tag</th>\n",
              "      <th>Client_Contact_Work_Tag</th>\n",
              "      <th>Type_Organization</th>\n",
              "      <th>Score_Source_1</th>\n",
              "      <th>Score_Source_2</th>\n",
              "      <th>Score_Source_3</th>\n",
              "      <th>Social_Circle_Default</th>\n",
              "      <th>Phone_Change</th>\n",
              "      <th>Credit_Bureau</th>\n",
              "      <th>Default</th>\n",
              "    </tr>\n",
              "  </thead>\n",
              "  <tbody>\n",
              "    <tr>\n",
              "      <th>60614</th>\n",
              "      <td>12184552</td>\n",
              "      <td>22500.0</td>\n",
              "      <td>0.0</td>\n",
              "      <td>0.0</td>\n",
              "      <td>0.0</td>\n",
              "      <td>1.0</td>\n",
              "      <td>0.0</td>\n",
              "      <td>45000.0</td>\n",
              "      <td>2441.25</td>\n",
              "      <td>Alone</td>\n",
              "      <td>...</td>\n",
              "      <td>Yes</td>\n",
              "      <td>No</td>\n",
              "      <td>Housing</td>\n",
              "      <td>0.238103</td>\n",
              "      <td>0.706882</td>\n",
              "      <td>0.303146</td>\n",
              "      <td>0.0495</td>\n",
              "      <td>398.0</td>\n",
              "      <td>5.0</td>\n",
              "      <td>1.0</td>\n",
              "    </tr>\n",
              "    <tr>\n",
              "      <th>60615</th>\n",
              "      <td>12120429</td>\n",
              "      <td>4950.0</td>\n",
              "      <td>NaN</td>\n",
              "      <td>0.0</td>\n",
              "      <td>1.0</td>\n",
              "      <td>NaN</td>\n",
              "      <td>0.0</td>\n",
              "      <td>9000.0</td>\n",
              "      <td>502.2</td>\n",
              "      <td>NaN</td>\n",
              "      <td>...</td>\n",
              "      <td>Yes</td>\n",
              "      <td>Yes</td>\n",
              "      <td>XNA</td>\n",
              "      <td>NaN</td>\n",
              "      <td>0.482542</td>\n",
              "      <td>NaN</td>\n",
              "      <td>0.0165</td>\n",
              "      <td>2680.0</td>\n",
              "      <td>NaN</td>\n",
              "      <td>0.0</td>\n",
              "    </tr>\n",
              "    <tr>\n",
              "      <th>60616</th>\n",
              "      <td>12118321</td>\n",
              "      <td>11250.0</td>\n",
              "      <td>1.0</td>\n",
              "      <td>0.0</td>\n",
              "      <td>0.0</td>\n",
              "      <td>1.0</td>\n",
              "      <td>1.0</td>\n",
              "      <td>6750.0</td>\n",
              "      <td>776.25</td>\n",
              "      <td>Relative</td>\n",
              "      <td>...</td>\n",
              "      <td>Yes</td>\n",
              "      <td>Yes</td>\n",
              "      <td>School</td>\n",
              "      <td>0.326768</td>\n",
              "      <td>0.427474</td>\n",
              "      <td>0.791075</td>\n",
              "      <td>NaN</td>\n",
              "      <td>1756.0</td>\n",
              "      <td>4.0</td>\n",
              "      <td>1.0</td>\n",
              "    </tr>\n",
              "    <tr>\n",
              "      <th>60617</th>\n",
              "      <td>12102908</td>\n",
              "      <td>11250.0</td>\n",
              "      <td>1.0</td>\n",
              "      <td>0.0</td>\n",
              "      <td>1.0</td>\n",
              "      <td>1.0</td>\n",
              "      <td>0.0</td>\n",
              "      <td>64008.0</td>\n",
              "      <td>2997</td>\n",
              "      <td>Relative</td>\n",
              "      <td>...</td>\n",
              "      <td>Yes</td>\n",
              "      <td>Yes</td>\n",
              "      <td>Industry: type 3</td>\n",
              "      <td>NaN</td>\n",
              "      <td>0.357282</td>\n",
              "      <td>0.318596</td>\n",
              "      <td>NaN</td>\n",
              "      <td>472.0</td>\n",
              "      <td>1.0</td>\n",
              "      <td>1.0</td>\n",
              "    </tr>\n",
              "    <tr>\n",
              "      <th>60618</th>\n",
              "      <td>12163911</td>\n",
              "      <td>13500.0</td>\n",
              "      <td>0.0</td>\n",
              "      <td>1.0</td>\n",
              "      <td>0.0</td>\n",
              "      <td>1.0</td>\n",
              "      <td>0.0</td>\n",
              "      <td>18000.0</td>\n",
              "      <td>900</td>\n",
              "      <td>Alone</td>\n",
              "      <td>...</td>\n",
              "      <td>Yes</td>\n",
              "      <td>Yes</td>\n",
              "      <td>Trade: type 2</td>\n",
              "      <td>0.330763</td>\n",
              "      <td>0.353655</td>\n",
              "      <td>NaN</td>\n",
              "      <td>0.1649</td>\n",
              "      <td>603.0</td>\n",
              "      <td>NaN</td>\n",
              "      <td>NaN</td>\n",
              "    </tr>\n",
              "  </tbody>\n",
              "</table>\n",
              "<p>5 rows × 40 columns</p>\n",
              "</div>\n",
              "      <button class=\"colab-df-convert\" onclick=\"convertToInteractive('df-60501bcb-420b-4885-a2ac-78eb65325ad9')\"\n",
              "              title=\"Convert this dataframe to an interactive table.\"\n",
              "              style=\"display:none;\">\n",
              "        \n",
              "  <svg xmlns=\"http://www.w3.org/2000/svg\" height=\"24px\"viewBox=\"0 0 24 24\"\n",
              "       width=\"24px\">\n",
              "    <path d=\"M0 0h24v24H0V0z\" fill=\"none\"/>\n",
              "    <path d=\"M18.56 5.44l.94 2.06.94-2.06 2.06-.94-2.06-.94-.94-2.06-.94 2.06-2.06.94zm-11 1L8.5 8.5l.94-2.06 2.06-.94-2.06-.94L8.5 2.5l-.94 2.06-2.06.94zm10 10l.94 2.06.94-2.06 2.06-.94-2.06-.94-.94-2.06-.94 2.06-2.06.94z\"/><path d=\"M17.41 7.96l-1.37-1.37c-.4-.4-.92-.59-1.43-.59-.52 0-1.04.2-1.43.59L10.3 9.45l-7.72 7.72c-.78.78-.78 2.05 0 2.83L4 21.41c.39.39.9.59 1.41.59.51 0 1.02-.2 1.41-.59l7.78-7.78 2.81-2.81c.8-.78.8-2.07 0-2.86zM5.41 20L4 18.59l7.72-7.72 1.47 1.35L5.41 20z\"/>\n",
              "  </svg>\n",
              "      </button>\n",
              "      \n",
              "  <style>\n",
              "    .colab-df-container {\n",
              "      display:flex;\n",
              "      flex-wrap:wrap;\n",
              "      gap: 12px;\n",
              "    }\n",
              "\n",
              "    .colab-df-convert {\n",
              "      background-color: #E8F0FE;\n",
              "      border: none;\n",
              "      border-radius: 50%;\n",
              "      cursor: pointer;\n",
              "      display: none;\n",
              "      fill: #1967D2;\n",
              "      height: 32px;\n",
              "      padding: 0 0 0 0;\n",
              "      width: 32px;\n",
              "    }\n",
              "\n",
              "    .colab-df-convert:hover {\n",
              "      background-color: #E2EBFA;\n",
              "      box-shadow: 0px 1px 2px rgba(60, 64, 67, 0.3), 0px 1px 3px 1px rgba(60, 64, 67, 0.15);\n",
              "      fill: #174EA6;\n",
              "    }\n",
              "\n",
              "    [theme=dark] .colab-df-convert {\n",
              "      background-color: #3B4455;\n",
              "      fill: #D2E3FC;\n",
              "    }\n",
              "\n",
              "    [theme=dark] .colab-df-convert:hover {\n",
              "      background-color: #434B5C;\n",
              "      box-shadow: 0px 1px 3px 1px rgba(0, 0, 0, 0.15);\n",
              "      filter: drop-shadow(0px 1px 2px rgba(0, 0, 0, 0.3));\n",
              "      fill: #FFFFFF;\n",
              "    }\n",
              "  </style>\n",
              "\n",
              "      <script>\n",
              "        const buttonEl =\n",
              "          document.querySelector('#df-60501bcb-420b-4885-a2ac-78eb65325ad9 button.colab-df-convert');\n",
              "        buttonEl.style.display =\n",
              "          google.colab.kernel.accessAllowed ? 'block' : 'none';\n",
              "\n",
              "        async function convertToInteractive(key) {\n",
              "          const element = document.querySelector('#df-60501bcb-420b-4885-a2ac-78eb65325ad9');\n",
              "          const dataTable =\n",
              "            await google.colab.kernel.invokeFunction('convertToInteractive',\n",
              "                                                     [key], {});\n",
              "          if (!dataTable) return;\n",
              "\n",
              "          const docLinkHtml = 'Like what you see? Visit the ' +\n",
              "            '<a target=\"_blank\" href=https://colab.research.google.com/notebooks/data_table.ipynb>data table notebook</a>'\n",
              "            + ' to learn more about interactive tables.';\n",
              "          element.innerHTML = '';\n",
              "          dataTable['output_type'] = 'display_data';\n",
              "          await google.colab.output.renderOutput(dataTable, element);\n",
              "          const docLink = document.createElement('div');\n",
              "          docLink.innerHTML = docLinkHtml;\n",
              "          element.appendChild(docLink);\n",
              "        }\n",
              "      </script>\n",
              "    </div>\n",
              "  </div>\n",
              "  "
            ]
          },
          "metadata": {},
          "execution_count": 10
        }
      ]
    },
    {
      "cell_type": "code",
      "source": [
        "test.tail(5)"
      ],
      "metadata": {
        "colab": {
          "base_uri": "https://localhost:8080/",
          "height": 317
        },
        "id": "2GPm_GvYqymF",
        "outputId": "20b1acde-b66a-4a40-d3ed-d8873d8c1393"
      },
      "execution_count": null,
      "outputs": [
        {
          "output_type": "execute_result",
          "data": {
            "text/plain": [
              "             ID Client_Income  Car_Owned  Bike_Owned  Active_Loan  House_Own  \\\n",
              "61278  12235476         11250        0.0         NaN          0.0        1.0   \n",
              "61279  12252523         33750        0.0         1.0          1.0        1.0   \n",
              "61280  12275833         13500        1.0         1.0          0.0        1.0   \n",
              "61281  12212182         20250        0.0         1.0          1.0        0.0   \n",
              "61282  12218571         15750        0.0         0.0          1.0        0.0   \n",
              "\n",
              "       Child_Count Credit_Amount Loan_Annuity Accompany_Client  ...  \\\n",
              "61278          0.0      49049.55      3013.65            Alone  ...   \n",
              "61279          0.0         80865       3146.4            Alone  ...   \n",
              "61280          0.0         75519       3645.9            Alone  ...   \n",
              "61281          0.0       14555.7       761.85            Alone  ...   \n",
              "61282          0.0       96664.5       3846.6            Alone  ...   \n",
              "\n",
              "      Application_Process_Hour Client_Permanent_Match_Tag  \\\n",
              "61278                     14.0                        Yes   \n",
              "61279                     11.0                        Yes   \n",
              "61280                      9.0                        Yes   \n",
              "61281                     16.0                        Yes   \n",
              "61282                      NaN                        NaN   \n",
              "\n",
              "      Client_Contact_Work_Tag       Type_Organization Score_Source_1  \\\n",
              "61278                     Yes                     XNA            NaN   \n",
              "61279                     Yes           Trade: type 3            NaN   \n",
              "61280                      No  Business Entity Type 2       0.665718   \n",
              "61281                     Yes       Transport: type 4            NaN   \n",
              "61282                     NaN                     NaN            NaN   \n",
              "\n",
              "      Score_Source_2 Score_Source_3 Social_Circle_Default Phone_Change  \\\n",
              "61278       0.567706       0.300108                0.0928       1276.0   \n",
              "61279       0.037844       0.200926                0.2227          0.0   \n",
              "61280       0.329582       0.256706                   NaN        599.0   \n",
              "61281        0.66265            NaN                0.1485       1077.0   \n",
              "61282            NaN            NaN                   NaN          NaN   \n",
              "\n",
              "      Credit_Bureau  \n",
              "61278           0.0  \n",
              "61279           0.0  \n",
              "61280           4.0  \n",
              "61281           NaN  \n",
              "61282           NaN  \n",
              "\n",
              "[5 rows x 39 columns]"
            ],
            "text/html": [
              "\n",
              "  <div id=\"df-d5e6ba8d-0c40-4490-84db-951da44c1784\">\n",
              "    <div class=\"colab-df-container\">\n",
              "      <div>\n",
              "<style scoped>\n",
              "    .dataframe tbody tr th:only-of-type {\n",
              "        vertical-align: middle;\n",
              "    }\n",
              "\n",
              "    .dataframe tbody tr th {\n",
              "        vertical-align: top;\n",
              "    }\n",
              "\n",
              "    .dataframe thead th {\n",
              "        text-align: right;\n",
              "    }\n",
              "</style>\n",
              "<table border=\"1\" class=\"dataframe\">\n",
              "  <thead>\n",
              "    <tr style=\"text-align: right;\">\n",
              "      <th></th>\n",
              "      <th>ID</th>\n",
              "      <th>Client_Income</th>\n",
              "      <th>Car_Owned</th>\n",
              "      <th>Bike_Owned</th>\n",
              "      <th>Active_Loan</th>\n",
              "      <th>House_Own</th>\n",
              "      <th>Child_Count</th>\n",
              "      <th>Credit_Amount</th>\n",
              "      <th>Loan_Annuity</th>\n",
              "      <th>Accompany_Client</th>\n",
              "      <th>...</th>\n",
              "      <th>Application_Process_Hour</th>\n",
              "      <th>Client_Permanent_Match_Tag</th>\n",
              "      <th>Client_Contact_Work_Tag</th>\n",
              "      <th>Type_Organization</th>\n",
              "      <th>Score_Source_1</th>\n",
              "      <th>Score_Source_2</th>\n",
              "      <th>Score_Source_3</th>\n",
              "      <th>Social_Circle_Default</th>\n",
              "      <th>Phone_Change</th>\n",
              "      <th>Credit_Bureau</th>\n",
              "    </tr>\n",
              "  </thead>\n",
              "  <tbody>\n",
              "    <tr>\n",
              "      <th>61278</th>\n",
              "      <td>12235476</td>\n",
              "      <td>11250</td>\n",
              "      <td>0.0</td>\n",
              "      <td>NaN</td>\n",
              "      <td>0.0</td>\n",
              "      <td>1.0</td>\n",
              "      <td>0.0</td>\n",
              "      <td>49049.55</td>\n",
              "      <td>3013.65</td>\n",
              "      <td>Alone</td>\n",
              "      <td>...</td>\n",
              "      <td>14.0</td>\n",
              "      <td>Yes</td>\n",
              "      <td>Yes</td>\n",
              "      <td>XNA</td>\n",
              "      <td>NaN</td>\n",
              "      <td>0.567706</td>\n",
              "      <td>0.300108</td>\n",
              "      <td>0.0928</td>\n",
              "      <td>1276.0</td>\n",
              "      <td>0.0</td>\n",
              "    </tr>\n",
              "    <tr>\n",
              "      <th>61279</th>\n",
              "      <td>12252523</td>\n",
              "      <td>33750</td>\n",
              "      <td>0.0</td>\n",
              "      <td>1.0</td>\n",
              "      <td>1.0</td>\n",
              "      <td>1.0</td>\n",
              "      <td>0.0</td>\n",
              "      <td>80865</td>\n",
              "      <td>3146.4</td>\n",
              "      <td>Alone</td>\n",
              "      <td>...</td>\n",
              "      <td>11.0</td>\n",
              "      <td>Yes</td>\n",
              "      <td>Yes</td>\n",
              "      <td>Trade: type 3</td>\n",
              "      <td>NaN</td>\n",
              "      <td>0.037844</td>\n",
              "      <td>0.200926</td>\n",
              "      <td>0.2227</td>\n",
              "      <td>0.0</td>\n",
              "      <td>0.0</td>\n",
              "    </tr>\n",
              "    <tr>\n",
              "      <th>61280</th>\n",
              "      <td>12275833</td>\n",
              "      <td>13500</td>\n",
              "      <td>1.0</td>\n",
              "      <td>1.0</td>\n",
              "      <td>0.0</td>\n",
              "      <td>1.0</td>\n",
              "      <td>0.0</td>\n",
              "      <td>75519</td>\n",
              "      <td>3645.9</td>\n",
              "      <td>Alone</td>\n",
              "      <td>...</td>\n",
              "      <td>9.0</td>\n",
              "      <td>Yes</td>\n",
              "      <td>No</td>\n",
              "      <td>Business Entity Type 2</td>\n",
              "      <td>0.665718</td>\n",
              "      <td>0.329582</td>\n",
              "      <td>0.256706</td>\n",
              "      <td>NaN</td>\n",
              "      <td>599.0</td>\n",
              "      <td>4.0</td>\n",
              "    </tr>\n",
              "    <tr>\n",
              "      <th>61281</th>\n",
              "      <td>12212182</td>\n",
              "      <td>20250</td>\n",
              "      <td>0.0</td>\n",
              "      <td>1.0</td>\n",
              "      <td>1.0</td>\n",
              "      <td>0.0</td>\n",
              "      <td>0.0</td>\n",
              "      <td>14555.7</td>\n",
              "      <td>761.85</td>\n",
              "      <td>Alone</td>\n",
              "      <td>...</td>\n",
              "      <td>16.0</td>\n",
              "      <td>Yes</td>\n",
              "      <td>Yes</td>\n",
              "      <td>Transport: type 4</td>\n",
              "      <td>NaN</td>\n",
              "      <td>0.66265</td>\n",
              "      <td>NaN</td>\n",
              "      <td>0.1485</td>\n",
              "      <td>1077.0</td>\n",
              "      <td>NaN</td>\n",
              "    </tr>\n",
              "    <tr>\n",
              "      <th>61282</th>\n",
              "      <td>12218571</td>\n",
              "      <td>15750</td>\n",
              "      <td>0.0</td>\n",
              "      <td>0.0</td>\n",
              "      <td>1.0</td>\n",
              "      <td>0.0</td>\n",
              "      <td>0.0</td>\n",
              "      <td>96664.5</td>\n",
              "      <td>3846.6</td>\n",
              "      <td>Alone</td>\n",
              "      <td>...</td>\n",
              "      <td>NaN</td>\n",
              "      <td>NaN</td>\n",
              "      <td>NaN</td>\n",
              "      <td>NaN</td>\n",
              "      <td>NaN</td>\n",
              "      <td>NaN</td>\n",
              "      <td>NaN</td>\n",
              "      <td>NaN</td>\n",
              "      <td>NaN</td>\n",
              "      <td>NaN</td>\n",
              "    </tr>\n",
              "  </tbody>\n",
              "</table>\n",
              "<p>5 rows × 39 columns</p>\n",
              "</div>\n",
              "      <button class=\"colab-df-convert\" onclick=\"convertToInteractive('df-d5e6ba8d-0c40-4490-84db-951da44c1784')\"\n",
              "              title=\"Convert this dataframe to an interactive table.\"\n",
              "              style=\"display:none;\">\n",
              "        \n",
              "  <svg xmlns=\"http://www.w3.org/2000/svg\" height=\"24px\"viewBox=\"0 0 24 24\"\n",
              "       width=\"24px\">\n",
              "    <path d=\"M0 0h24v24H0V0z\" fill=\"none\"/>\n",
              "    <path d=\"M18.56 5.44l.94 2.06.94-2.06 2.06-.94-2.06-.94-.94-2.06-.94 2.06-2.06.94zm-11 1L8.5 8.5l.94-2.06 2.06-.94-2.06-.94L8.5 2.5l-.94 2.06-2.06.94zm10 10l.94 2.06.94-2.06 2.06-.94-2.06-.94-.94-2.06-.94 2.06-2.06.94z\"/><path d=\"M17.41 7.96l-1.37-1.37c-.4-.4-.92-.59-1.43-.59-.52 0-1.04.2-1.43.59L10.3 9.45l-7.72 7.72c-.78.78-.78 2.05 0 2.83L4 21.41c.39.39.9.59 1.41.59.51 0 1.02-.2 1.41-.59l7.78-7.78 2.81-2.81c.8-.78.8-2.07 0-2.86zM5.41 20L4 18.59l7.72-7.72 1.47 1.35L5.41 20z\"/>\n",
              "  </svg>\n",
              "      </button>\n",
              "      \n",
              "  <style>\n",
              "    .colab-df-container {\n",
              "      display:flex;\n",
              "      flex-wrap:wrap;\n",
              "      gap: 12px;\n",
              "    }\n",
              "\n",
              "    .colab-df-convert {\n",
              "      background-color: #E8F0FE;\n",
              "      border: none;\n",
              "      border-radius: 50%;\n",
              "      cursor: pointer;\n",
              "      display: none;\n",
              "      fill: #1967D2;\n",
              "      height: 32px;\n",
              "      padding: 0 0 0 0;\n",
              "      width: 32px;\n",
              "    }\n",
              "\n",
              "    .colab-df-convert:hover {\n",
              "      background-color: #E2EBFA;\n",
              "      box-shadow: 0px 1px 2px rgba(60, 64, 67, 0.3), 0px 1px 3px 1px rgba(60, 64, 67, 0.15);\n",
              "      fill: #174EA6;\n",
              "    }\n",
              "\n",
              "    [theme=dark] .colab-df-convert {\n",
              "      background-color: #3B4455;\n",
              "      fill: #D2E3FC;\n",
              "    }\n",
              "\n",
              "    [theme=dark] .colab-df-convert:hover {\n",
              "      background-color: #434B5C;\n",
              "      box-shadow: 0px 1px 3px 1px rgba(0, 0, 0, 0.15);\n",
              "      filter: drop-shadow(0px 1px 2px rgba(0, 0, 0, 0.3));\n",
              "      fill: #FFFFFF;\n",
              "    }\n",
              "  </style>\n",
              "\n",
              "      <script>\n",
              "        const buttonEl =\n",
              "          document.querySelector('#df-d5e6ba8d-0c40-4490-84db-951da44c1784 button.colab-df-convert');\n",
              "        buttonEl.style.display =\n",
              "          google.colab.kernel.accessAllowed ? 'block' : 'none';\n",
              "\n",
              "        async function convertToInteractive(key) {\n",
              "          const element = document.querySelector('#df-d5e6ba8d-0c40-4490-84db-951da44c1784');\n",
              "          const dataTable =\n",
              "            await google.colab.kernel.invokeFunction('convertToInteractive',\n",
              "                                                     [key], {});\n",
              "          if (!dataTable) return;\n",
              "\n",
              "          const docLinkHtml = 'Like what you see? Visit the ' +\n",
              "            '<a target=\"_blank\" href=https://colab.research.google.com/notebooks/data_table.ipynb>data table notebook</a>'\n",
              "            + ' to learn more about interactive tables.';\n",
              "          element.innerHTML = '';\n",
              "          dataTable['output_type'] = 'display_data';\n",
              "          await google.colab.output.renderOutput(dataTable, element);\n",
              "          const docLink = document.createElement('div');\n",
              "          docLink.innerHTML = docLinkHtml;\n",
              "          element.appendChild(docLink);\n",
              "        }\n",
              "      </script>\n",
              "    </div>\n",
              "  </div>\n",
              "  "
            ]
          },
          "metadata": {},
          "execution_count": 11
        }
      ]
    },
    {
      "cell_type": "code",
      "source": [
        "# Checking whether each column has an appropriate datatype\n",
        "#\n",
        "train.info()"
      ],
      "metadata": {
        "colab": {
          "base_uri": "https://localhost:8080/"
        },
        "id": "rLIuaPlPq1kL",
        "outputId": "b3ce3e00-ce51-49cb-f30d-65df3e249459"
      },
      "execution_count": null,
      "outputs": [
        {
          "output_type": "stream",
          "name": "stdout",
          "text": [
            "<class 'pandas.core.frame.DataFrame'>\n",
            "RangeIndex: 60619 entries, 0 to 60618\n",
            "Data columns (total 40 columns):\n",
            " #   Column                      Non-Null Count  Dtype  \n",
            "---  ------                      --------------  -----  \n",
            " 0   ID                          60619 non-null  int64  \n",
            " 1   Client_Income               58817 non-null  object \n",
            " 2   Car_Owned                   58854 non-null  float64\n",
            " 3   Bike_Owned                  58784 non-null  float64\n",
            " 4   Active_Loan                 58818 non-null  float64\n",
            " 5   House_Own                   58764 non-null  float64\n",
            " 6   Child_Count                 58794 non-null  float64\n",
            " 7   Credit_Amount               58770 non-null  object \n",
            " 8   Loan_Annuity                58229 non-null  object \n",
            " 9   Accompany_Client            59727 non-null  object \n",
            " 10  Client_Income_Type          58771 non-null  object \n",
            " 11  Client_Education            58787 non-null  object \n",
            " 12  Client_Marital_Status       58870 non-null  object \n",
            " 13  Client_Gender               59467 non-null  object \n",
            " 14  Loan_Contract_Type          58811 non-null  object \n",
            " 15  Client_Housing_Type         58806 non-null  object \n",
            " 16  Population_Region_Relative  58195 non-null  object \n",
            " 17  Age_Days                    58815 non-null  object \n",
            " 18  Employed_Days               58762 non-null  object \n",
            " 19  Registration_Days           58821 non-null  object \n",
            " 20  ID_Days                     57644 non-null  object \n",
            " 21  Own_House_Age               20843 non-null  float64\n",
            " 22  Mobile_Tag                  60619 non-null  int64  \n",
            " 23  Homephone_Tag               60619 non-null  int64  \n",
            " 24  Workphone_Working           60619 non-null  int64  \n",
            " 25  Client_Occupation           39957 non-null  object \n",
            " 26  Client_Family_Members       59432 non-null  float64\n",
            " 27  Cleint_City_Rating          59419 non-null  float64\n",
            " 28  Application_Process_Day     59410 non-null  float64\n",
            " 29  Application_Process_Hour    58803 non-null  float64\n",
            " 30  Client_Permanent_Match_Tag  60619 non-null  object \n",
            " 31  Client_Contact_Work_Tag     60619 non-null  object \n",
            " 32  Type_Organization           58866 non-null  object \n",
            " 33  Score_Source_1              26333 non-null  float64\n",
            " 34  Score_Source_2              57797 non-null  float64\n",
            " 35  Score_Source_3              47156 non-null  object \n",
            " 36  Social_Circle_Default       29792 non-null  float64\n",
            " 37  Phone_Change                58820 non-null  float64\n",
            " 38  Credit_Bureau               51412 non-null  float64\n",
            " 39  Default                     60618 non-null  float64\n",
            "dtypes: float64(16), int64(4), object(20)\n",
            "memory usage: 18.5+ MB\n"
          ]
        }
      ]
    },
    {
      "cell_type": "code",
      "source": [
        "test.info()"
      ],
      "metadata": {
        "colab": {
          "base_uri": "https://localhost:8080/"
        },
        "id": "TAnbopziq5Is",
        "outputId": "a85c5472-da0a-4a8e-cc2a-766827af9998"
      },
      "execution_count": null,
      "outputs": [
        {
          "output_type": "stream",
          "name": "stdout",
          "text": [
            "<class 'pandas.core.frame.DataFrame'>\n",
            "RangeIndex: 61283 entries, 0 to 61282\n",
            "Data columns (total 39 columns):\n",
            " #   Column                      Non-Null Count  Dtype  \n",
            "---  ------                      --------------  -----  \n",
            " 0   ID                          61283 non-null  int64  \n",
            " 1   Client_Income               59461 non-null  object \n",
            " 2   Car_Owned                   59456 non-null  float64\n",
            " 3   Bike_Owned                  59374 non-null  float64\n",
            " 4   Active_Loan                 59430 non-null  float64\n",
            " 5   House_Own                   59501 non-null  float64\n",
            " 6   Child_Count                 59506 non-null  float64\n",
            " 7   Credit_Amount               59532 non-null  object \n",
            " 8   Loan_Annuity                58838 non-null  object \n",
            " 9   Accompany_Client            60385 non-null  object \n",
            " 10  Client_Income_Type          59370 non-null  object \n",
            " 11  Client_Education            59487 non-null  object \n",
            " 12  Client_Marital_Status       59467 non-null  object \n",
            " 13  Client_Gender               60063 non-null  object \n",
            " 14  Loan_Contract_Type          59560 non-null  object \n",
            " 15  Client_Housing_Type         59463 non-null  object \n",
            " 16  Population_Region_Relative  58777 non-null  object \n",
            " 17  Age_Days                    59396 non-null  object \n",
            " 18  Employed_Days               59449 non-null  object \n",
            " 19  Registration_Days           59436 non-null  object \n",
            " 20  ID_Days                     58392 non-null  object \n",
            " 21  Own_House_Age               20768 non-null  float64\n",
            " 22  Mobile_Tag                  61282 non-null  float64\n",
            " 23  Homephone_Tag               61282 non-null  float64\n",
            " 24  Workphone_Working           61282 non-null  float64\n",
            " 25  Client_Occupation           40159 non-null  object \n",
            " 26  Client_Family_Members       60045 non-null  float64\n",
            " 27  Cleint_City_Rating          60051 non-null  float64\n",
            " 28  Application_Process_Day     60129 non-null  float64\n",
            " 29  Application_Process_Hour    59492 non-null  float64\n",
            " 30  Client_Permanent_Match_Tag  61282 non-null  object \n",
            " 31  Client_Contact_Work_Tag     61282 non-null  object \n",
            " 32  Type_Organization           59438 non-null  object \n",
            " 33  Score_Source_1              26823 non-null  float64\n",
            " 34  Score_Source_2              58472 non-null  object \n",
            " 35  Score_Source_3              47634 non-null  object \n",
            " 36  Social_Circle_Default       30194 non-null  float64\n",
            " 37  Phone_Change                59469 non-null  float64\n",
            " 38  Credit_Bureau               51918 non-null  float64\n",
            "dtypes: float64(17), int64(1), object(21)\n",
            "memory usage: 18.2+ MB\n"
          ]
        }
      ]
    },
    {
      "cell_type": "code",
      "source": [
        "#a deeper insight into the data\n",
        "train.describe()"
      ],
      "metadata": {
        "colab": {
          "base_uri": "https://localhost:8080/",
          "height": 364
        },
        "id": "oKKouLoFq8w7",
        "outputId": "7e8338a6-ac34-4126-ecac-7bc5f0ec8808"
      },
      "execution_count": null,
      "outputs": [
        {
          "output_type": "execute_result",
          "data": {
            "text/plain": [
              "                 ID     Car_Owned    Bike_Owned   Active_Loan     House_Own  \\\n",
              "count  6.061900e+04  58854.000000  58784.000000  58818.000000  58764.000000   \n",
              "mean   1.216084e+07      0.344276      0.333390      0.497433      0.690253   \n",
              "std    3.516812e+04      0.475136      0.471429      0.499998      0.462393   \n",
              "min    1.210001e+07      0.000000      0.000000      0.000000      0.000000   \n",
              "25%    1.213045e+07      0.000000      0.000000      0.000000      0.000000   \n",
              "50%    1.216079e+07      0.000000      0.000000      0.000000      1.000000   \n",
              "75%    1.219132e+07      1.000000      1.000000      1.000000      1.000000   \n",
              "max    1.222186e+07      1.000000      1.000000      1.000000      1.000000   \n",
              "\n",
              "        Child_Count  Own_House_Age  Mobile_Tag  Homephone_Tag  \\\n",
              "count  58794.000000   20843.000000     60619.0   60619.000000   \n",
              "mean       0.417168      12.146812         1.0       0.198337   \n",
              "std        0.727530      12.040181         0.0       0.398751   \n",
              "min        0.000000       0.000000         1.0       0.000000   \n",
              "25%        0.000000       5.000000         1.0       0.000000   \n",
              "50%        0.000000       9.000000         1.0       0.000000   \n",
              "75%        1.000000      15.000000         1.0       0.000000   \n",
              "max       19.000000      65.000000         1.0       1.000000   \n",
              "\n",
              "       Workphone_Working  Client_Family_Members  Cleint_City_Rating  \\\n",
              "count       60619.000000           59432.000000        59419.000000   \n",
              "mean            0.281710               2.152527            2.030882   \n",
              "std             0.449837               0.910624            0.504621   \n",
              "min             0.000000               1.000000            1.000000   \n",
              "25%             0.000000               2.000000            2.000000   \n",
              "50%             0.000000               2.000000            2.000000   \n",
              "75%             1.000000               3.000000            2.000000   \n",
              "max             1.000000              12.000000            3.000000   \n",
              "\n",
              "       Application_Process_Day  Application_Process_Hour  Score_Source_1  \\\n",
              "count             59410.000000              58803.000000    26333.000000   \n",
              "mean                  3.151927                 12.062956        0.501178   \n",
              "std                   1.761976                  3.278261        0.211951   \n",
              "min                   0.000000                  0.000000        0.017897   \n",
              "25%                   2.000000                 10.000000        0.332744   \n",
              "50%                   3.000000                 12.000000        0.506168   \n",
              "75%                   5.000000                 14.000000        0.675035   \n",
              "max                   6.000000                 23.000000        0.945741   \n",
              "\n",
              "       Score_Source_2  Social_Circle_Default  Phone_Change  Credit_Bureau  \\\n",
              "count    57797.000000           29792.000000  58820.000000   51412.000000   \n",
              "mean         0.515882               0.117877    963.506511       1.892904   \n",
              "std          0.455877               0.109578    827.963181       1.868612   \n",
              "min          0.000005               0.000000      0.000000       0.000000   \n",
              "25%          0.390946               0.057700    271.000000       0.000000   \n",
              "50%          0.565725               0.087600    760.000000       1.000000   \n",
              "75%          0.663846               0.148500   1574.000000       3.000000   \n",
              "max        100.000000               1.000000   4185.000000      19.000000   \n",
              "\n",
              "            Default  \n",
              "count  60618.000000  \n",
              "mean       0.080834  \n",
              "std        0.272582  \n",
              "min        0.000000  \n",
              "25%        0.000000  \n",
              "50%        0.000000  \n",
              "75%        0.000000  \n",
              "max        1.000000  "
            ],
            "text/html": [
              "\n",
              "  <div id=\"df-561ff612-73d2-4a22-9044-5da6a2246aac\">\n",
              "    <div class=\"colab-df-container\">\n",
              "      <div>\n",
              "<style scoped>\n",
              "    .dataframe tbody tr th:only-of-type {\n",
              "        vertical-align: middle;\n",
              "    }\n",
              "\n",
              "    .dataframe tbody tr th {\n",
              "        vertical-align: top;\n",
              "    }\n",
              "\n",
              "    .dataframe thead th {\n",
              "        text-align: right;\n",
              "    }\n",
              "</style>\n",
              "<table border=\"1\" class=\"dataframe\">\n",
              "  <thead>\n",
              "    <tr style=\"text-align: right;\">\n",
              "      <th></th>\n",
              "      <th>ID</th>\n",
              "      <th>Car_Owned</th>\n",
              "      <th>Bike_Owned</th>\n",
              "      <th>Active_Loan</th>\n",
              "      <th>House_Own</th>\n",
              "      <th>Child_Count</th>\n",
              "      <th>Own_House_Age</th>\n",
              "      <th>Mobile_Tag</th>\n",
              "      <th>Homephone_Tag</th>\n",
              "      <th>Workphone_Working</th>\n",
              "      <th>Client_Family_Members</th>\n",
              "      <th>Cleint_City_Rating</th>\n",
              "      <th>Application_Process_Day</th>\n",
              "      <th>Application_Process_Hour</th>\n",
              "      <th>Score_Source_1</th>\n",
              "      <th>Score_Source_2</th>\n",
              "      <th>Social_Circle_Default</th>\n",
              "      <th>Phone_Change</th>\n",
              "      <th>Credit_Bureau</th>\n",
              "      <th>Default</th>\n",
              "    </tr>\n",
              "  </thead>\n",
              "  <tbody>\n",
              "    <tr>\n",
              "      <th>count</th>\n",
              "      <td>6.061900e+04</td>\n",
              "      <td>58854.000000</td>\n",
              "      <td>58784.000000</td>\n",
              "      <td>58818.000000</td>\n",
              "      <td>58764.000000</td>\n",
              "      <td>58794.000000</td>\n",
              "      <td>20843.000000</td>\n",
              "      <td>60619.0</td>\n",
              "      <td>60619.000000</td>\n",
              "      <td>60619.000000</td>\n",
              "      <td>59432.000000</td>\n",
              "      <td>59419.000000</td>\n",
              "      <td>59410.000000</td>\n",
              "      <td>58803.000000</td>\n",
              "      <td>26333.000000</td>\n",
              "      <td>57797.000000</td>\n",
              "      <td>29792.000000</td>\n",
              "      <td>58820.000000</td>\n",
              "      <td>51412.000000</td>\n",
              "      <td>60618.000000</td>\n",
              "    </tr>\n",
              "    <tr>\n",
              "      <th>mean</th>\n",
              "      <td>1.216084e+07</td>\n",
              "      <td>0.344276</td>\n",
              "      <td>0.333390</td>\n",
              "      <td>0.497433</td>\n",
              "      <td>0.690253</td>\n",
              "      <td>0.417168</td>\n",
              "      <td>12.146812</td>\n",
              "      <td>1.0</td>\n",
              "      <td>0.198337</td>\n",
              "      <td>0.281710</td>\n",
              "      <td>2.152527</td>\n",
              "      <td>2.030882</td>\n",
              "      <td>3.151927</td>\n",
              "      <td>12.062956</td>\n",
              "      <td>0.501178</td>\n",
              "      <td>0.515882</td>\n",
              "      <td>0.117877</td>\n",
              "      <td>963.506511</td>\n",
              "      <td>1.892904</td>\n",
              "      <td>0.080834</td>\n",
              "    </tr>\n",
              "    <tr>\n",
              "      <th>std</th>\n",
              "      <td>3.516812e+04</td>\n",
              "      <td>0.475136</td>\n",
              "      <td>0.471429</td>\n",
              "      <td>0.499998</td>\n",
              "      <td>0.462393</td>\n",
              "      <td>0.727530</td>\n",
              "      <td>12.040181</td>\n",
              "      <td>0.0</td>\n",
              "      <td>0.398751</td>\n",
              "      <td>0.449837</td>\n",
              "      <td>0.910624</td>\n",
              "      <td>0.504621</td>\n",
              "      <td>1.761976</td>\n",
              "      <td>3.278261</td>\n",
              "      <td>0.211951</td>\n",
              "      <td>0.455877</td>\n",
              "      <td>0.109578</td>\n",
              "      <td>827.963181</td>\n",
              "      <td>1.868612</td>\n",
              "      <td>0.272582</td>\n",
              "    </tr>\n",
              "    <tr>\n",
              "      <th>min</th>\n",
              "      <td>1.210001e+07</td>\n",
              "      <td>0.000000</td>\n",
              "      <td>0.000000</td>\n",
              "      <td>0.000000</td>\n",
              "      <td>0.000000</td>\n",
              "      <td>0.000000</td>\n",
              "      <td>0.000000</td>\n",
              "      <td>1.0</td>\n",
              "      <td>0.000000</td>\n",
              "      <td>0.000000</td>\n",
              "      <td>1.000000</td>\n",
              "      <td>1.000000</td>\n",
              "      <td>0.000000</td>\n",
              "      <td>0.000000</td>\n",
              "      <td>0.017897</td>\n",
              "      <td>0.000005</td>\n",
              "      <td>0.000000</td>\n",
              "      <td>0.000000</td>\n",
              "      <td>0.000000</td>\n",
              "      <td>0.000000</td>\n",
              "    </tr>\n",
              "    <tr>\n",
              "      <th>25%</th>\n",
              "      <td>1.213045e+07</td>\n",
              "      <td>0.000000</td>\n",
              "      <td>0.000000</td>\n",
              "      <td>0.000000</td>\n",
              "      <td>0.000000</td>\n",
              "      <td>0.000000</td>\n",
              "      <td>5.000000</td>\n",
              "      <td>1.0</td>\n",
              "      <td>0.000000</td>\n",
              "      <td>0.000000</td>\n",
              "      <td>2.000000</td>\n",
              "      <td>2.000000</td>\n",
              "      <td>2.000000</td>\n",
              "      <td>10.000000</td>\n",
              "      <td>0.332744</td>\n",
              "      <td>0.390946</td>\n",
              "      <td>0.057700</td>\n",
              "      <td>271.000000</td>\n",
              "      <td>0.000000</td>\n",
              "      <td>0.000000</td>\n",
              "    </tr>\n",
              "    <tr>\n",
              "      <th>50%</th>\n",
              "      <td>1.216079e+07</td>\n",
              "      <td>0.000000</td>\n",
              "      <td>0.000000</td>\n",
              "      <td>0.000000</td>\n",
              "      <td>1.000000</td>\n",
              "      <td>0.000000</td>\n",
              "      <td>9.000000</td>\n",
              "      <td>1.0</td>\n",
              "      <td>0.000000</td>\n",
              "      <td>0.000000</td>\n",
              "      <td>2.000000</td>\n",
              "      <td>2.000000</td>\n",
              "      <td>3.000000</td>\n",
              "      <td>12.000000</td>\n",
              "      <td>0.506168</td>\n",
              "      <td>0.565725</td>\n",
              "      <td>0.087600</td>\n",
              "      <td>760.000000</td>\n",
              "      <td>1.000000</td>\n",
              "      <td>0.000000</td>\n",
              "    </tr>\n",
              "    <tr>\n",
              "      <th>75%</th>\n",
              "      <td>1.219132e+07</td>\n",
              "      <td>1.000000</td>\n",
              "      <td>1.000000</td>\n",
              "      <td>1.000000</td>\n",
              "      <td>1.000000</td>\n",
              "      <td>1.000000</td>\n",
              "      <td>15.000000</td>\n",
              "      <td>1.0</td>\n",
              "      <td>0.000000</td>\n",
              "      <td>1.000000</td>\n",
              "      <td>3.000000</td>\n",
              "      <td>2.000000</td>\n",
              "      <td>5.000000</td>\n",
              "      <td>14.000000</td>\n",
              "      <td>0.675035</td>\n",
              "      <td>0.663846</td>\n",
              "      <td>0.148500</td>\n",
              "      <td>1574.000000</td>\n",
              "      <td>3.000000</td>\n",
              "      <td>0.000000</td>\n",
              "    </tr>\n",
              "    <tr>\n",
              "      <th>max</th>\n",
              "      <td>1.222186e+07</td>\n",
              "      <td>1.000000</td>\n",
              "      <td>1.000000</td>\n",
              "      <td>1.000000</td>\n",
              "      <td>1.000000</td>\n",
              "      <td>19.000000</td>\n",
              "      <td>65.000000</td>\n",
              "      <td>1.0</td>\n",
              "      <td>1.000000</td>\n",
              "      <td>1.000000</td>\n",
              "      <td>12.000000</td>\n",
              "      <td>3.000000</td>\n",
              "      <td>6.000000</td>\n",
              "      <td>23.000000</td>\n",
              "      <td>0.945741</td>\n",
              "      <td>100.000000</td>\n",
              "      <td>1.000000</td>\n",
              "      <td>4185.000000</td>\n",
              "      <td>19.000000</td>\n",
              "      <td>1.000000</td>\n",
              "    </tr>\n",
              "  </tbody>\n",
              "</table>\n",
              "</div>\n",
              "      <button class=\"colab-df-convert\" onclick=\"convertToInteractive('df-561ff612-73d2-4a22-9044-5da6a2246aac')\"\n",
              "              title=\"Convert this dataframe to an interactive table.\"\n",
              "              style=\"display:none;\">\n",
              "        \n",
              "  <svg xmlns=\"http://www.w3.org/2000/svg\" height=\"24px\"viewBox=\"0 0 24 24\"\n",
              "       width=\"24px\">\n",
              "    <path d=\"M0 0h24v24H0V0z\" fill=\"none\"/>\n",
              "    <path d=\"M18.56 5.44l.94 2.06.94-2.06 2.06-.94-2.06-.94-.94-2.06-.94 2.06-2.06.94zm-11 1L8.5 8.5l.94-2.06 2.06-.94-2.06-.94L8.5 2.5l-.94 2.06-2.06.94zm10 10l.94 2.06.94-2.06 2.06-.94-2.06-.94-.94-2.06-.94 2.06-2.06.94z\"/><path d=\"M17.41 7.96l-1.37-1.37c-.4-.4-.92-.59-1.43-.59-.52 0-1.04.2-1.43.59L10.3 9.45l-7.72 7.72c-.78.78-.78 2.05 0 2.83L4 21.41c.39.39.9.59 1.41.59.51 0 1.02-.2 1.41-.59l7.78-7.78 2.81-2.81c.8-.78.8-2.07 0-2.86zM5.41 20L4 18.59l7.72-7.72 1.47 1.35L5.41 20z\"/>\n",
              "  </svg>\n",
              "      </button>\n",
              "      \n",
              "  <style>\n",
              "    .colab-df-container {\n",
              "      display:flex;\n",
              "      flex-wrap:wrap;\n",
              "      gap: 12px;\n",
              "    }\n",
              "\n",
              "    .colab-df-convert {\n",
              "      background-color: #E8F0FE;\n",
              "      border: none;\n",
              "      border-radius: 50%;\n",
              "      cursor: pointer;\n",
              "      display: none;\n",
              "      fill: #1967D2;\n",
              "      height: 32px;\n",
              "      padding: 0 0 0 0;\n",
              "      width: 32px;\n",
              "    }\n",
              "\n",
              "    .colab-df-convert:hover {\n",
              "      background-color: #E2EBFA;\n",
              "      box-shadow: 0px 1px 2px rgba(60, 64, 67, 0.3), 0px 1px 3px 1px rgba(60, 64, 67, 0.15);\n",
              "      fill: #174EA6;\n",
              "    }\n",
              "\n",
              "    [theme=dark] .colab-df-convert {\n",
              "      background-color: #3B4455;\n",
              "      fill: #D2E3FC;\n",
              "    }\n",
              "\n",
              "    [theme=dark] .colab-df-convert:hover {\n",
              "      background-color: #434B5C;\n",
              "      box-shadow: 0px 1px 3px 1px rgba(0, 0, 0, 0.15);\n",
              "      filter: drop-shadow(0px 1px 2px rgba(0, 0, 0, 0.3));\n",
              "      fill: #FFFFFF;\n",
              "    }\n",
              "  </style>\n",
              "\n",
              "      <script>\n",
              "        const buttonEl =\n",
              "          document.querySelector('#df-561ff612-73d2-4a22-9044-5da6a2246aac button.colab-df-convert');\n",
              "        buttonEl.style.display =\n",
              "          google.colab.kernel.accessAllowed ? 'block' : 'none';\n",
              "\n",
              "        async function convertToInteractive(key) {\n",
              "          const element = document.querySelector('#df-561ff612-73d2-4a22-9044-5da6a2246aac');\n",
              "          const dataTable =\n",
              "            await google.colab.kernel.invokeFunction('convertToInteractive',\n",
              "                                                     [key], {});\n",
              "          if (!dataTable) return;\n",
              "\n",
              "          const docLinkHtml = 'Like what you see? Visit the ' +\n",
              "            '<a target=\"_blank\" href=https://colab.research.google.com/notebooks/data_table.ipynb>data table notebook</a>'\n",
              "            + ' to learn more about interactive tables.';\n",
              "          element.innerHTML = '';\n",
              "          dataTable['output_type'] = 'display_data';\n",
              "          await google.colab.output.renderOutput(dataTable, element);\n",
              "          const docLink = document.createElement('div');\n",
              "          docLink.innerHTML = docLinkHtml;\n",
              "          element.appendChild(docLink);\n",
              "        }\n",
              "      </script>\n",
              "    </div>\n",
              "  </div>\n",
              "  "
            ]
          },
          "metadata": {},
          "execution_count": 14
        }
      ]
    },
    {
      "cell_type": "code",
      "source": [
        "test.describe()"
      ],
      "metadata": {
        "colab": {
          "base_uri": "https://localhost:8080/",
          "height": 364
        },
        "id": "s9MUoTtoq_-L",
        "outputId": "ba464184-9fef-4389-991b-6753eb2ba87b"
      },
      "execution_count": null,
      "outputs": [
        {
          "output_type": "execute_result",
          "data": {
            "text/plain": [
              "                 ID     Car_Owned    Bike_Owned   Active_Loan     House_Own  \\\n",
              "count  6.128300e+04  59456.000000  59374.000000  59430.000000  59501.000000   \n",
              "mean   1.224040e+07      0.339024      0.333025      0.497426      0.691820   \n",
              "std    2.334828e+04      0.473382      0.471299      0.499998      0.461745   \n",
              "min    1.220000e+07      0.000000      0.000000      0.000000      0.000000   \n",
              "25%    1.222020e+07      0.000000      0.000000      0.000000      0.000000   \n",
              "50%    1.224040e+07      0.000000      0.000000      0.000000      1.000000   \n",
              "75%    1.226060e+07      1.000000      1.000000      1.000000      1.000000   \n",
              "max    1.228090e+07      1.000000      1.000000      1.000000      1.000000   \n",
              "\n",
              "        Child_Count  Own_House_Age  Mobile_Tag  Homephone_Tag  \\\n",
              "count  59506.000000   20768.000000     61282.0   61282.000000   \n",
              "mean       0.418025      11.966535         1.0       0.199063   \n",
              "std        0.725154      11.858022         0.0       0.399299   \n",
              "min        0.000000       0.000000         1.0       0.000000   \n",
              "25%        0.000000       5.000000         1.0       0.000000   \n",
              "50%        0.000000       9.000000         1.0       0.000000   \n",
              "75%        1.000000      15.000000         1.0       0.000000   \n",
              "max       19.000000      65.000000         1.0       1.000000   \n",
              "\n",
              "       Workphone_Working  Client_Family_Members  Cleint_City_Rating  \\\n",
              "count       61282.000000           60045.000000        60051.000000   \n",
              "mean            0.278483               2.152502            2.030358   \n",
              "std             0.448256               0.915020            0.502511   \n",
              "min             0.000000               1.000000            1.000000   \n",
              "25%             0.000000               2.000000            2.000000   \n",
              "50%             0.000000               2.000000            2.000000   \n",
              "75%             1.000000               3.000000            2.000000   \n",
              "max             1.000000              20.000000            3.000000   \n",
              "\n",
              "       Application_Process_Day  Application_Process_Hour  Score_Source_1  \\\n",
              "count             60129.000000              59492.000000    26823.000000   \n",
              "mean                  3.155865                 12.068194        0.501844   \n",
              "std                   1.754533                  3.265563        0.211652   \n",
              "min                   0.000000                  0.000000        0.015600   \n",
              "25%                   2.000000                 10.000000        0.333712   \n",
              "50%                   3.000000                 12.000000        0.507332   \n",
              "75%                   5.000000                 14.000000        0.675182   \n",
              "max                   6.000000                 23.000000        0.946098   \n",
              "\n",
              "       Social_Circle_Default  Phone_Change  Credit_Bureau  \n",
              "count           30194.000000  59469.000000   51918.000000  \n",
              "mean                0.118209    958.752274       1.897762  \n",
              "std                 0.109488    826.428728       1.867829  \n",
              "min                 0.000000      0.000000       0.000000  \n",
              "25%                 0.057700    270.000000       0.000000  \n",
              "50%                 0.086600    753.000000       1.000000  \n",
              "75%                 0.148500   1562.000000       3.000000  \n",
              "max                 1.000000   4185.000000      25.000000  "
            ],
            "text/html": [
              "\n",
              "  <div id=\"df-c6c65d59-ec93-41ee-bcf2-57594d9c0932\">\n",
              "    <div class=\"colab-df-container\">\n",
              "      <div>\n",
              "<style scoped>\n",
              "    .dataframe tbody tr th:only-of-type {\n",
              "        vertical-align: middle;\n",
              "    }\n",
              "\n",
              "    .dataframe tbody tr th {\n",
              "        vertical-align: top;\n",
              "    }\n",
              "\n",
              "    .dataframe thead th {\n",
              "        text-align: right;\n",
              "    }\n",
              "</style>\n",
              "<table border=\"1\" class=\"dataframe\">\n",
              "  <thead>\n",
              "    <tr style=\"text-align: right;\">\n",
              "      <th></th>\n",
              "      <th>ID</th>\n",
              "      <th>Car_Owned</th>\n",
              "      <th>Bike_Owned</th>\n",
              "      <th>Active_Loan</th>\n",
              "      <th>House_Own</th>\n",
              "      <th>Child_Count</th>\n",
              "      <th>Own_House_Age</th>\n",
              "      <th>Mobile_Tag</th>\n",
              "      <th>Homephone_Tag</th>\n",
              "      <th>Workphone_Working</th>\n",
              "      <th>Client_Family_Members</th>\n",
              "      <th>Cleint_City_Rating</th>\n",
              "      <th>Application_Process_Day</th>\n",
              "      <th>Application_Process_Hour</th>\n",
              "      <th>Score_Source_1</th>\n",
              "      <th>Social_Circle_Default</th>\n",
              "      <th>Phone_Change</th>\n",
              "      <th>Credit_Bureau</th>\n",
              "    </tr>\n",
              "  </thead>\n",
              "  <tbody>\n",
              "    <tr>\n",
              "      <th>count</th>\n",
              "      <td>6.128300e+04</td>\n",
              "      <td>59456.000000</td>\n",
              "      <td>59374.000000</td>\n",
              "      <td>59430.000000</td>\n",
              "      <td>59501.000000</td>\n",
              "      <td>59506.000000</td>\n",
              "      <td>20768.000000</td>\n",
              "      <td>61282.0</td>\n",
              "      <td>61282.000000</td>\n",
              "      <td>61282.000000</td>\n",
              "      <td>60045.000000</td>\n",
              "      <td>60051.000000</td>\n",
              "      <td>60129.000000</td>\n",
              "      <td>59492.000000</td>\n",
              "      <td>26823.000000</td>\n",
              "      <td>30194.000000</td>\n",
              "      <td>59469.000000</td>\n",
              "      <td>51918.000000</td>\n",
              "    </tr>\n",
              "    <tr>\n",
              "      <th>mean</th>\n",
              "      <td>1.224040e+07</td>\n",
              "      <td>0.339024</td>\n",
              "      <td>0.333025</td>\n",
              "      <td>0.497426</td>\n",
              "      <td>0.691820</td>\n",
              "      <td>0.418025</td>\n",
              "      <td>11.966535</td>\n",
              "      <td>1.0</td>\n",
              "      <td>0.199063</td>\n",
              "      <td>0.278483</td>\n",
              "      <td>2.152502</td>\n",
              "      <td>2.030358</td>\n",
              "      <td>3.155865</td>\n",
              "      <td>12.068194</td>\n",
              "      <td>0.501844</td>\n",
              "      <td>0.118209</td>\n",
              "      <td>958.752274</td>\n",
              "      <td>1.897762</td>\n",
              "    </tr>\n",
              "    <tr>\n",
              "      <th>std</th>\n",
              "      <td>2.334828e+04</td>\n",
              "      <td>0.473382</td>\n",
              "      <td>0.471299</td>\n",
              "      <td>0.499998</td>\n",
              "      <td>0.461745</td>\n",
              "      <td>0.725154</td>\n",
              "      <td>11.858022</td>\n",
              "      <td>0.0</td>\n",
              "      <td>0.399299</td>\n",
              "      <td>0.448256</td>\n",
              "      <td>0.915020</td>\n",
              "      <td>0.502511</td>\n",
              "      <td>1.754533</td>\n",
              "      <td>3.265563</td>\n",
              "      <td>0.211652</td>\n",
              "      <td>0.109488</td>\n",
              "      <td>826.428728</td>\n",
              "      <td>1.867829</td>\n",
              "    </tr>\n",
              "    <tr>\n",
              "      <th>min</th>\n",
              "      <td>1.220000e+07</td>\n",
              "      <td>0.000000</td>\n",
              "      <td>0.000000</td>\n",
              "      <td>0.000000</td>\n",
              "      <td>0.000000</td>\n",
              "      <td>0.000000</td>\n",
              "      <td>0.000000</td>\n",
              "      <td>1.0</td>\n",
              "      <td>0.000000</td>\n",
              "      <td>0.000000</td>\n",
              "      <td>1.000000</td>\n",
              "      <td>1.000000</td>\n",
              "      <td>0.000000</td>\n",
              "      <td>0.000000</td>\n",
              "      <td>0.015600</td>\n",
              "      <td>0.000000</td>\n",
              "      <td>0.000000</td>\n",
              "      <td>0.000000</td>\n",
              "    </tr>\n",
              "    <tr>\n",
              "      <th>25%</th>\n",
              "      <td>1.222020e+07</td>\n",
              "      <td>0.000000</td>\n",
              "      <td>0.000000</td>\n",
              "      <td>0.000000</td>\n",
              "      <td>0.000000</td>\n",
              "      <td>0.000000</td>\n",
              "      <td>5.000000</td>\n",
              "      <td>1.0</td>\n",
              "      <td>0.000000</td>\n",
              "      <td>0.000000</td>\n",
              "      <td>2.000000</td>\n",
              "      <td>2.000000</td>\n",
              "      <td>2.000000</td>\n",
              "      <td>10.000000</td>\n",
              "      <td>0.333712</td>\n",
              "      <td>0.057700</td>\n",
              "      <td>270.000000</td>\n",
              "      <td>0.000000</td>\n",
              "    </tr>\n",
              "    <tr>\n",
              "      <th>50%</th>\n",
              "      <td>1.224040e+07</td>\n",
              "      <td>0.000000</td>\n",
              "      <td>0.000000</td>\n",
              "      <td>0.000000</td>\n",
              "      <td>1.000000</td>\n",
              "      <td>0.000000</td>\n",
              "      <td>9.000000</td>\n",
              "      <td>1.0</td>\n",
              "      <td>0.000000</td>\n",
              "      <td>0.000000</td>\n",
              "      <td>2.000000</td>\n",
              "      <td>2.000000</td>\n",
              "      <td>3.000000</td>\n",
              "      <td>12.000000</td>\n",
              "      <td>0.507332</td>\n",
              "      <td>0.086600</td>\n",
              "      <td>753.000000</td>\n",
              "      <td>1.000000</td>\n",
              "    </tr>\n",
              "    <tr>\n",
              "      <th>75%</th>\n",
              "      <td>1.226060e+07</td>\n",
              "      <td>1.000000</td>\n",
              "      <td>1.000000</td>\n",
              "      <td>1.000000</td>\n",
              "      <td>1.000000</td>\n",
              "      <td>1.000000</td>\n",
              "      <td>15.000000</td>\n",
              "      <td>1.0</td>\n",
              "      <td>0.000000</td>\n",
              "      <td>1.000000</td>\n",
              "      <td>3.000000</td>\n",
              "      <td>2.000000</td>\n",
              "      <td>5.000000</td>\n",
              "      <td>14.000000</td>\n",
              "      <td>0.675182</td>\n",
              "      <td>0.148500</td>\n",
              "      <td>1562.000000</td>\n",
              "      <td>3.000000</td>\n",
              "    </tr>\n",
              "    <tr>\n",
              "      <th>max</th>\n",
              "      <td>1.228090e+07</td>\n",
              "      <td>1.000000</td>\n",
              "      <td>1.000000</td>\n",
              "      <td>1.000000</td>\n",
              "      <td>1.000000</td>\n",
              "      <td>19.000000</td>\n",
              "      <td>65.000000</td>\n",
              "      <td>1.0</td>\n",
              "      <td>1.000000</td>\n",
              "      <td>1.000000</td>\n",
              "      <td>20.000000</td>\n",
              "      <td>3.000000</td>\n",
              "      <td>6.000000</td>\n",
              "      <td>23.000000</td>\n",
              "      <td>0.946098</td>\n",
              "      <td>1.000000</td>\n",
              "      <td>4185.000000</td>\n",
              "      <td>25.000000</td>\n",
              "    </tr>\n",
              "  </tbody>\n",
              "</table>\n",
              "</div>\n",
              "      <button class=\"colab-df-convert\" onclick=\"convertToInteractive('df-c6c65d59-ec93-41ee-bcf2-57594d9c0932')\"\n",
              "              title=\"Convert this dataframe to an interactive table.\"\n",
              "              style=\"display:none;\">\n",
              "        \n",
              "  <svg xmlns=\"http://www.w3.org/2000/svg\" height=\"24px\"viewBox=\"0 0 24 24\"\n",
              "       width=\"24px\">\n",
              "    <path d=\"M0 0h24v24H0V0z\" fill=\"none\"/>\n",
              "    <path d=\"M18.56 5.44l.94 2.06.94-2.06 2.06-.94-2.06-.94-.94-2.06-.94 2.06-2.06.94zm-11 1L8.5 8.5l.94-2.06 2.06-.94-2.06-.94L8.5 2.5l-.94 2.06-2.06.94zm10 10l.94 2.06.94-2.06 2.06-.94-2.06-.94-.94-2.06-.94 2.06-2.06.94z\"/><path d=\"M17.41 7.96l-1.37-1.37c-.4-.4-.92-.59-1.43-.59-.52 0-1.04.2-1.43.59L10.3 9.45l-7.72 7.72c-.78.78-.78 2.05 0 2.83L4 21.41c.39.39.9.59 1.41.59.51 0 1.02-.2 1.41-.59l7.78-7.78 2.81-2.81c.8-.78.8-2.07 0-2.86zM5.41 20L4 18.59l7.72-7.72 1.47 1.35L5.41 20z\"/>\n",
              "  </svg>\n",
              "      </button>\n",
              "      \n",
              "  <style>\n",
              "    .colab-df-container {\n",
              "      display:flex;\n",
              "      flex-wrap:wrap;\n",
              "      gap: 12px;\n",
              "    }\n",
              "\n",
              "    .colab-df-convert {\n",
              "      background-color: #E8F0FE;\n",
              "      border: none;\n",
              "      border-radius: 50%;\n",
              "      cursor: pointer;\n",
              "      display: none;\n",
              "      fill: #1967D2;\n",
              "      height: 32px;\n",
              "      padding: 0 0 0 0;\n",
              "      width: 32px;\n",
              "    }\n",
              "\n",
              "    .colab-df-convert:hover {\n",
              "      background-color: #E2EBFA;\n",
              "      box-shadow: 0px 1px 2px rgba(60, 64, 67, 0.3), 0px 1px 3px 1px rgba(60, 64, 67, 0.15);\n",
              "      fill: #174EA6;\n",
              "    }\n",
              "\n",
              "    [theme=dark] .colab-df-convert {\n",
              "      background-color: #3B4455;\n",
              "      fill: #D2E3FC;\n",
              "    }\n",
              "\n",
              "    [theme=dark] .colab-df-convert:hover {\n",
              "      background-color: #434B5C;\n",
              "      box-shadow: 0px 1px 3px 1px rgba(0, 0, 0, 0.15);\n",
              "      filter: drop-shadow(0px 1px 2px rgba(0, 0, 0, 0.3));\n",
              "      fill: #FFFFFF;\n",
              "    }\n",
              "  </style>\n",
              "\n",
              "      <script>\n",
              "        const buttonEl =\n",
              "          document.querySelector('#df-c6c65d59-ec93-41ee-bcf2-57594d9c0932 button.colab-df-convert');\n",
              "        buttonEl.style.display =\n",
              "          google.colab.kernel.accessAllowed ? 'block' : 'none';\n",
              "\n",
              "        async function convertToInteractive(key) {\n",
              "          const element = document.querySelector('#df-c6c65d59-ec93-41ee-bcf2-57594d9c0932');\n",
              "          const dataTable =\n",
              "            await google.colab.kernel.invokeFunction('convertToInteractive',\n",
              "                                                     [key], {});\n",
              "          if (!dataTable) return;\n",
              "\n",
              "          const docLinkHtml = 'Like what you see? Visit the ' +\n",
              "            '<a target=\"_blank\" href=https://colab.research.google.com/notebooks/data_table.ipynb>data table notebook</a>'\n",
              "            + ' to learn more about interactive tables.';\n",
              "          element.innerHTML = '';\n",
              "          dataTable['output_type'] = 'display_data';\n",
              "          await google.colab.output.renderOutput(dataTable, element);\n",
              "          const docLink = document.createElement('div');\n",
              "          docLink.innerHTML = docLinkHtml;\n",
              "          element.appendChild(docLink);\n",
              "        }\n",
              "      </script>\n",
              "    </div>\n",
              "  </div>\n",
              "  "
            ]
          },
          "metadata": {},
          "execution_count": 15
        }
      ]
    },
    {
      "cell_type": "markdown",
      "source": [
        "# **5. Tidying the Dataset**"
      ],
      "metadata": {
        "id": "_dDvKgwqricc"
      }
    },
    {
      "cell_type": "code",
      "source": [
        "# Remove spaces in the column names and convert them to lower case\n",
        "\n",
        "train.columns = train.columns.str.replace(\" \", \"_\").str.lower()\n",
        "train.columns"
      ],
      "metadata": {
        "colab": {
          "base_uri": "https://localhost:8080/"
        },
        "id": "FnR3Ih2rroOz",
        "outputId": "c9c530db-41ef-43ac-aedd-9360a5cd7666"
      },
      "execution_count": null,
      "outputs": [
        {
          "output_type": "execute_result",
          "data": {
            "text/plain": [
              "Index(['id', 'client_income', 'car_owned', 'bike_owned', 'active_loan',\n",
              "       'house_own', 'child_count', 'credit_amount', 'loan_annuity',\n",
              "       'accompany_client', 'client_income_type', 'client_education',\n",
              "       'client_marital_status', 'client_gender', 'loan_contract_type',\n",
              "       'client_housing_type', 'population_region_relative', 'age_days',\n",
              "       'employed_days', 'registration_days', 'id_days', 'own_house_age',\n",
              "       'mobile_tag', 'homephone_tag', 'workphone_working', 'client_occupation',\n",
              "       'client_family_members', 'cleint_city_rating',\n",
              "       'application_process_day', 'application_process_hour',\n",
              "       'client_permanent_match_tag', 'client_contact_work_tag',\n",
              "       'type_organization', 'score_source_1', 'score_source_2',\n",
              "       'score_source_3', 'social_circle_default', 'phone_change',\n",
              "       'credit_bureau', 'default'],\n",
              "      dtype='object')"
            ]
          },
          "metadata": {},
          "execution_count": 16
        }
      ]
    },
    {
      "cell_type": "code",
      "source": [
        "## Convert columns to the appropriate data type\n",
        "# Variable to store column names list\n",
        "conv_cols = ['client_income','age_days','employed_days', 'registration_days', 'id_days','credit_amount','loan_annuity',\n",
        "             'population_region_relative','score_source_3']\n",
        "\n",
        "\n",
        "# Change data type of object columns to numeric \n",
        "train[conv_cols] = train[conv_cols].apply(pd.to_numeric, errors='coerce')"
      ],
      "metadata": {
        "id": "_05kh1ECwcnG"
      },
      "execution_count": null,
      "outputs": []
    },
    {
      "cell_type": "code",
      "source": [
        "# Identifying the Missing Data\n",
        "#\n",
        "train.isnull().sum()"
      ],
      "metadata": {
        "id": "9pjDUDXMwfnz",
        "colab": {
          "base_uri": "https://localhost:8080/"
        },
        "outputId": "c42207bb-0335-4a08-8eb9-0cfe17dcdb61"
      },
      "execution_count": null,
      "outputs": [
        {
          "output_type": "execute_result",
          "data": {
            "text/plain": [
              "id                                0\n",
              "client_income                  1807\n",
              "car_owned                      1765\n",
              "bike_owned                     1835\n",
              "active_loan                    1801\n",
              "house_own                      1855\n",
              "child_count                    1825\n",
              "credit_amount                  1852\n",
              "loan_annuity                   2398\n",
              "accompany_client                892\n",
              "client_income_type             1848\n",
              "client_education               1832\n",
              "client_marital_status          1749\n",
              "client_gender                  1152\n",
              "loan_contract_type             1808\n",
              "client_housing_type            1813\n",
              "population_region_relative     2430\n",
              "age_days                       1811\n",
              "employed_days                  1864\n",
              "registration_days              1805\n",
              "id_days                        2982\n",
              "own_house_age                 39776\n",
              "mobile_tag                        0\n",
              "homephone_tag                     0\n",
              "workphone_working                 0\n",
              "client_occupation             20662\n",
              "client_family_members          1187\n",
              "cleint_city_rating             1200\n",
              "application_process_day        1209\n",
              "application_process_hour       1816\n",
              "client_permanent_match_tag        0\n",
              "client_contact_work_tag           0\n",
              "type_organization              1753\n",
              "score_source_1                34286\n",
              "score_source_2                 2822\n",
              "score_source_3                13464\n",
              "social_circle_default         30827\n",
              "phone_change                   1799\n",
              "credit_bureau                  9207\n",
              "default                           1\n",
              "dtype: int64"
            ]
          },
          "metadata": {},
          "execution_count": 18
        }
      ]
    },
    {
      "cell_type": "code",
      "source": [
        "## Dealing with the Missing Data\n",
        "#\n",
        "# Filling missing values with mean\n",
        "mean_fill = ['client_income','credit_amount', 'loan_annuity','population_region_relative','age_days', 'employed_days','registration_days',\n",
        "            'id_days','score_source_2', 'credit_bureau']\n",
        "\n",
        "for i in mean_fill:\n",
        "  train[i] = train[i].fillna(train[i].mean())\n",
        "\n",
        "# Filling missing values with mode\n",
        "mode_fill = ['car_owned', 'bike_owned', 'active_loan','house_own', 'child_count','accompany_client', 'client_income_type', 'client_education',\n",
        "       'client_marital_status', 'client_gender', 'loan_contract_type','client_housing_type', 'client_family_members', 'cleint_city_rating',\n",
        "       'application_process_day', 'application_process_hour','phone_change']\n",
        "for i in mode_fill:\n",
        "  train[i] = train[i].fillna(train[i].mode()[0])\n",
        "\n",
        "# Filling missing values with N/A\n",
        "train[['client_occupation','type_organization']] = train[['client_occupation','type_organization']].fillna('N/A')"
      ],
      "metadata": {
        "id": "8K3Vo5SEVjwi"
      },
      "execution_count": null,
      "outputs": []
    },
    {
      "cell_type": "code",
      "source": [
        "# Removing columns not needed and with a lot of missing values\n",
        "train = train.drop(columns=['id','own_house_age','score_source_1','score_source_3','social_circle_default'])"
      ],
      "metadata": {
        "id": "nCOTyS-3WXYb"
      },
      "execution_count": null,
      "outputs": []
    },
    {
      "cell_type": "code",
      "source": [
        "# Checking for Anomalies\n",
        "#\n",
        "cateogry_columns=train.select_dtypes(include=['object']).columns.tolist()\n",
        "for i in cateogry_columns:\n",
        "  print('\\n')\n",
        "  print(train[i].unique())"
      ],
      "metadata": {
        "id": "RtIN5_tCWaMn",
        "colab": {
          "base_uri": "https://localhost:8080/"
        },
        "outputId": "1448a331-e5d4-4f22-b551-b3ef01666671"
      },
      "execution_count": null,
      "outputs": [
        {
          "output_type": "stream",
          "name": "stdout",
          "text": [
            "\n",
            "\n",
            "['Alone' 'Relative' 'Others' 'Kids' 'Partner' '##' 'Group']\n",
            "\n",
            "\n",
            "['Commercial' 'Service' 'Retired' 'Govt Job' 'Student' 'Unemployed'\n",
            " 'Maternity leave']\n",
            "\n",
            "\n",
            "['Secondary' 'Graduation' 'Graduation dropout' 'Junior secondary'\n",
            " 'Post Grad']\n",
            "\n",
            "\n",
            "['M' 'W' 'S' 'D']\n",
            "\n",
            "\n",
            "['Male' 'Female' 'XNA']\n",
            "\n",
            "\n",
            "['CL' 'RL']\n",
            "\n",
            "\n",
            "['Home' 'Family' 'Office' 'Municipal' 'Rental' 'Shared']\n",
            "\n",
            "\n",
            "['Sales' 'N/A' 'Realty agents' 'Laborers' 'Core' 'Drivers' 'Managers'\n",
            " 'Accountants' 'High skill tech' 'Cleaning' 'HR' 'Waiters/barmen'\n",
            " 'Low-skill Laborers' 'Medicine' 'Cooking' 'Private service' 'Security'\n",
            " 'IT' 'Secretaries']\n",
            "\n",
            "\n",
            "['Yes' 'No']\n",
            "\n",
            "\n",
            "['Yes' 'No']\n",
            "\n",
            "\n",
            "['Self-employed' 'Government' 'XNA' 'Business Entity Type 3' 'Other' 'N/A'\n",
            " 'Industry: type 3' 'Business Entity Type 2' 'Business Entity Type 1'\n",
            " 'Transport: type 4' 'Construction' 'Kindergarten' 'Trade: type 3'\n",
            " 'Industry: type 2' 'Trade: type 7' 'Trade: type 2' 'Agriculture'\n",
            " 'Military' 'Medicine' 'Housing' 'Industry: type 1' 'Industry: type 11'\n",
            " 'Bank' 'School' 'Industry: type 9' 'Postal' 'University'\n",
            " 'Transport: type 2' 'Restaurant' 'Electricity' 'Police'\n",
            " 'Industry: type 4' 'Security Ministries' 'Services' 'Transport: type 3'\n",
            " 'Mobile' 'Hotel' 'Security' 'Industry: type 7' 'Advertising' 'Cleaning'\n",
            " 'Realtor' 'Trade: type 6' 'Culture' 'Industry: type 5' 'Telecom'\n",
            " 'Trade: type 1' 'Industry: type 12' 'Industry: type 8' 'Insurance'\n",
            " 'Emergency' 'Legal Services' 'Industry: type 10' 'Trade: type 4'\n",
            " 'Industry: type 6' 'Transport: type 1' 'Industry: type 13' 'Religion'\n",
            " 'Trade: type 5']\n"
          ]
        }
      ]
    },
    {
      "cell_type": "code",
      "source": [
        "# Dealing with anomalies\n",
        "train.accompany_client = train.accompany_client.replace('##',np.nan)\n",
        "train.client_gender = train.client_gender.replace('XNA', 'other')\n",
        "\n",
        "# Dropping the anomalies\n",
        "train = train.dropna()"
      ],
      "metadata": {
        "id": "QHJ_TumzWflX"
      },
      "execution_count": null,
      "outputs": []
    },
    {
      "cell_type": "code",
      "source": [
        "# Checking for duplicated data\n",
        "train.duplicated().sum()"
      ],
      "metadata": {
        "id": "tvVWzwRpWjo7",
        "colab": {
          "base_uri": "https://localhost:8080/"
        },
        "outputId": "bf4dff32-1c4b-4d30-ba51-763f0132fc99"
      },
      "execution_count": null,
      "outputs": [
        {
          "output_type": "execute_result",
          "data": {
            "text/plain": [
              "1173"
            ]
          },
          "metadata": {},
          "execution_count": 23
        }
      ]
    },
    {
      "cell_type": "code",
      "source": [
        "# Dealing with duplicated data\n",
        "train = train.drop_duplicates()"
      ],
      "metadata": {
        "id": "AmomKTdxWmeV"
      },
      "execution_count": null,
      "outputs": []
    },
    {
      "cell_type": "code",
      "source": [
        "#converting days to years\n",
        "train['age'] = (train.age_days/365.25)\n",
        "train['age'] = train.age.astype(int)\n",
        "train.age.head()"
      ],
      "metadata": {
        "id": "kA4XbmTkWfq-",
        "colab": {
          "base_uri": "https://localhost:8080/"
        },
        "outputId": "fd9d8f1d-7c6b-47ab-9262-70edbf5112d3"
      },
      "execution_count": null,
      "outputs": [
        {
          "output_type": "execute_result",
          "data": {
            "text/plain": [
              "0    38\n",
              "1    38\n",
              "2    45\n",
              "3    63\n",
              "4    31\n",
              "Name: age, dtype: int64"
            ]
          },
          "metadata": {},
          "execution_count": 25
        }
      ]
    },
    {
      "cell_type": "code",
      "source": [
        "train.head()"
      ],
      "metadata": {
        "id": "E_rwIYYvWuna",
        "colab": {
          "base_uri": "https://localhost:8080/",
          "height": 317
        },
        "outputId": "e8237fbd-30ab-442d-91b5-4d679c8b8170"
      },
      "execution_count": null,
      "outputs": [
        {
          "output_type": "execute_result",
          "data": {
            "text/plain": [
              "   client_income  car_owned  bike_owned  active_loan  house_own  child_count  \\\n",
              "0         6750.0        0.0         0.0          1.0        0.0          0.0   \n",
              "1        20250.0        1.0         0.0          1.0        1.0          0.0   \n",
              "2        18000.0        0.0         0.0          1.0        0.0          1.0   \n",
              "3        15750.0        0.0         0.0          1.0        1.0          0.0   \n",
              "4        33750.0        1.0         0.0          1.0        0.0          2.0   \n",
              "\n",
              "   credit_amount  loan_annuity accompany_client client_income_type  ...  \\\n",
              "0       61190.55       3416.85            Alone         Commercial  ...   \n",
              "1       15282.00       1826.55            Alone            Service  ...   \n",
              "2       59527.35       2788.20            Alone            Service  ...   \n",
              "3       53870.40       2295.45            Alone            Retired  ...   \n",
              "4      133988.40       3547.35            Alone         Commercial  ...   \n",
              "\n",
              "  application_process_day application_process_hour client_permanent_match_tag  \\\n",
              "0                     6.0                     17.0                        Yes   \n",
              "1                     3.0                     10.0                        Yes   \n",
              "2                     4.0                     10.0                        Yes   \n",
              "3                     2.0                     15.0                        Yes   \n",
              "4                     3.0                     10.0                        Yes   \n",
              "\n",
              "  client_contact_work_tag       type_organization  score_source_2  \\\n",
              "0                     Yes           Self-employed        0.478787   \n",
              "1                     Yes              Government        0.215068   \n",
              "2                     Yes           Self-employed        0.552795   \n",
              "3                     Yes                     XNA        0.135182   \n",
              "4                     Yes  Business Entity Type 3        0.301182   \n",
              "\n",
              "   phone_change  credit_bureau  default  age  \n",
              "0          63.0       1.892904      0.0   38  \n",
              "1           0.0       1.892904      0.0   38  \n",
              "2         277.0       0.000000      0.0   45  \n",
              "3        1700.0       3.000000      0.0   63  \n",
              "4         674.0       1.000000      0.0   31  \n",
              "\n",
              "[5 rows x 36 columns]"
            ],
            "text/html": [
              "\n",
              "  <div id=\"df-60a45564-bac6-4da4-b227-d5beaabce2df\">\n",
              "    <div class=\"colab-df-container\">\n",
              "      <div>\n",
              "<style scoped>\n",
              "    .dataframe tbody tr th:only-of-type {\n",
              "        vertical-align: middle;\n",
              "    }\n",
              "\n",
              "    .dataframe tbody tr th {\n",
              "        vertical-align: top;\n",
              "    }\n",
              "\n",
              "    .dataframe thead th {\n",
              "        text-align: right;\n",
              "    }\n",
              "</style>\n",
              "<table border=\"1\" class=\"dataframe\">\n",
              "  <thead>\n",
              "    <tr style=\"text-align: right;\">\n",
              "      <th></th>\n",
              "      <th>client_income</th>\n",
              "      <th>car_owned</th>\n",
              "      <th>bike_owned</th>\n",
              "      <th>active_loan</th>\n",
              "      <th>house_own</th>\n",
              "      <th>child_count</th>\n",
              "      <th>credit_amount</th>\n",
              "      <th>loan_annuity</th>\n",
              "      <th>accompany_client</th>\n",
              "      <th>client_income_type</th>\n",
              "      <th>...</th>\n",
              "      <th>application_process_day</th>\n",
              "      <th>application_process_hour</th>\n",
              "      <th>client_permanent_match_tag</th>\n",
              "      <th>client_contact_work_tag</th>\n",
              "      <th>type_organization</th>\n",
              "      <th>score_source_2</th>\n",
              "      <th>phone_change</th>\n",
              "      <th>credit_bureau</th>\n",
              "      <th>default</th>\n",
              "      <th>age</th>\n",
              "    </tr>\n",
              "  </thead>\n",
              "  <tbody>\n",
              "    <tr>\n",
              "      <th>0</th>\n",
              "      <td>6750.0</td>\n",
              "      <td>0.0</td>\n",
              "      <td>0.0</td>\n",
              "      <td>1.0</td>\n",
              "      <td>0.0</td>\n",
              "      <td>0.0</td>\n",
              "      <td>61190.55</td>\n",
              "      <td>3416.85</td>\n",
              "      <td>Alone</td>\n",
              "      <td>Commercial</td>\n",
              "      <td>...</td>\n",
              "      <td>6.0</td>\n",
              "      <td>17.0</td>\n",
              "      <td>Yes</td>\n",
              "      <td>Yes</td>\n",
              "      <td>Self-employed</td>\n",
              "      <td>0.478787</td>\n",
              "      <td>63.0</td>\n",
              "      <td>1.892904</td>\n",
              "      <td>0.0</td>\n",
              "      <td>38</td>\n",
              "    </tr>\n",
              "    <tr>\n",
              "      <th>1</th>\n",
              "      <td>20250.0</td>\n",
              "      <td>1.0</td>\n",
              "      <td>0.0</td>\n",
              "      <td>1.0</td>\n",
              "      <td>1.0</td>\n",
              "      <td>0.0</td>\n",
              "      <td>15282.00</td>\n",
              "      <td>1826.55</td>\n",
              "      <td>Alone</td>\n",
              "      <td>Service</td>\n",
              "      <td>...</td>\n",
              "      <td>3.0</td>\n",
              "      <td>10.0</td>\n",
              "      <td>Yes</td>\n",
              "      <td>Yes</td>\n",
              "      <td>Government</td>\n",
              "      <td>0.215068</td>\n",
              "      <td>0.0</td>\n",
              "      <td>1.892904</td>\n",
              "      <td>0.0</td>\n",
              "      <td>38</td>\n",
              "    </tr>\n",
              "    <tr>\n",
              "      <th>2</th>\n",
              "      <td>18000.0</td>\n",
              "      <td>0.0</td>\n",
              "      <td>0.0</td>\n",
              "      <td>1.0</td>\n",
              "      <td>0.0</td>\n",
              "      <td>1.0</td>\n",
              "      <td>59527.35</td>\n",
              "      <td>2788.20</td>\n",
              "      <td>Alone</td>\n",
              "      <td>Service</td>\n",
              "      <td>...</td>\n",
              "      <td>4.0</td>\n",
              "      <td>10.0</td>\n",
              "      <td>Yes</td>\n",
              "      <td>Yes</td>\n",
              "      <td>Self-employed</td>\n",
              "      <td>0.552795</td>\n",
              "      <td>277.0</td>\n",
              "      <td>0.000000</td>\n",
              "      <td>0.0</td>\n",
              "      <td>45</td>\n",
              "    </tr>\n",
              "    <tr>\n",
              "      <th>3</th>\n",
              "      <td>15750.0</td>\n",
              "      <td>0.0</td>\n",
              "      <td>0.0</td>\n",
              "      <td>1.0</td>\n",
              "      <td>1.0</td>\n",
              "      <td>0.0</td>\n",
              "      <td>53870.40</td>\n",
              "      <td>2295.45</td>\n",
              "      <td>Alone</td>\n",
              "      <td>Retired</td>\n",
              "      <td>...</td>\n",
              "      <td>2.0</td>\n",
              "      <td>15.0</td>\n",
              "      <td>Yes</td>\n",
              "      <td>Yes</td>\n",
              "      <td>XNA</td>\n",
              "      <td>0.135182</td>\n",
              "      <td>1700.0</td>\n",
              "      <td>3.000000</td>\n",
              "      <td>0.0</td>\n",
              "      <td>63</td>\n",
              "    </tr>\n",
              "    <tr>\n",
              "      <th>4</th>\n",
              "      <td>33750.0</td>\n",
              "      <td>1.0</td>\n",
              "      <td>0.0</td>\n",
              "      <td>1.0</td>\n",
              "      <td>0.0</td>\n",
              "      <td>2.0</td>\n",
              "      <td>133988.40</td>\n",
              "      <td>3547.35</td>\n",
              "      <td>Alone</td>\n",
              "      <td>Commercial</td>\n",
              "      <td>...</td>\n",
              "      <td>3.0</td>\n",
              "      <td>10.0</td>\n",
              "      <td>Yes</td>\n",
              "      <td>Yes</td>\n",
              "      <td>Business Entity Type 3</td>\n",
              "      <td>0.301182</td>\n",
              "      <td>674.0</td>\n",
              "      <td>1.000000</td>\n",
              "      <td>0.0</td>\n",
              "      <td>31</td>\n",
              "    </tr>\n",
              "  </tbody>\n",
              "</table>\n",
              "<p>5 rows × 36 columns</p>\n",
              "</div>\n",
              "      <button class=\"colab-df-convert\" onclick=\"convertToInteractive('df-60a45564-bac6-4da4-b227-d5beaabce2df')\"\n",
              "              title=\"Convert this dataframe to an interactive table.\"\n",
              "              style=\"display:none;\">\n",
              "        \n",
              "  <svg xmlns=\"http://www.w3.org/2000/svg\" height=\"24px\"viewBox=\"0 0 24 24\"\n",
              "       width=\"24px\">\n",
              "    <path d=\"M0 0h24v24H0V0z\" fill=\"none\"/>\n",
              "    <path d=\"M18.56 5.44l.94 2.06.94-2.06 2.06-.94-2.06-.94-.94-2.06-.94 2.06-2.06.94zm-11 1L8.5 8.5l.94-2.06 2.06-.94-2.06-.94L8.5 2.5l-.94 2.06-2.06.94zm10 10l.94 2.06.94-2.06 2.06-.94-2.06-.94-.94-2.06-.94 2.06-2.06.94z\"/><path d=\"M17.41 7.96l-1.37-1.37c-.4-.4-.92-.59-1.43-.59-.52 0-1.04.2-1.43.59L10.3 9.45l-7.72 7.72c-.78.78-.78 2.05 0 2.83L4 21.41c.39.39.9.59 1.41.59.51 0 1.02-.2 1.41-.59l7.78-7.78 2.81-2.81c.8-.78.8-2.07 0-2.86zM5.41 20L4 18.59l7.72-7.72 1.47 1.35L5.41 20z\"/>\n",
              "  </svg>\n",
              "      </button>\n",
              "      \n",
              "  <style>\n",
              "    .colab-df-container {\n",
              "      display:flex;\n",
              "      flex-wrap:wrap;\n",
              "      gap: 12px;\n",
              "    }\n",
              "\n",
              "    .colab-df-convert {\n",
              "      background-color: #E8F0FE;\n",
              "      border: none;\n",
              "      border-radius: 50%;\n",
              "      cursor: pointer;\n",
              "      display: none;\n",
              "      fill: #1967D2;\n",
              "      height: 32px;\n",
              "      padding: 0 0 0 0;\n",
              "      width: 32px;\n",
              "    }\n",
              "\n",
              "    .colab-df-convert:hover {\n",
              "      background-color: #E2EBFA;\n",
              "      box-shadow: 0px 1px 2px rgba(60, 64, 67, 0.3), 0px 1px 3px 1px rgba(60, 64, 67, 0.15);\n",
              "      fill: #174EA6;\n",
              "    }\n",
              "\n",
              "    [theme=dark] .colab-df-convert {\n",
              "      background-color: #3B4455;\n",
              "      fill: #D2E3FC;\n",
              "    }\n",
              "\n",
              "    [theme=dark] .colab-df-convert:hover {\n",
              "      background-color: #434B5C;\n",
              "      box-shadow: 0px 1px 3px 1px rgba(0, 0, 0, 0.15);\n",
              "      filter: drop-shadow(0px 1px 2px rgba(0, 0, 0, 0.3));\n",
              "      fill: #FFFFFF;\n",
              "    }\n",
              "  </style>\n",
              "\n",
              "      <script>\n",
              "        const buttonEl =\n",
              "          document.querySelector('#df-60a45564-bac6-4da4-b227-d5beaabce2df button.colab-df-convert');\n",
              "        buttonEl.style.display =\n",
              "          google.colab.kernel.accessAllowed ? 'block' : 'none';\n",
              "\n",
              "        async function convertToInteractive(key) {\n",
              "          const element = document.querySelector('#df-60a45564-bac6-4da4-b227-d5beaabce2df');\n",
              "          const dataTable =\n",
              "            await google.colab.kernel.invokeFunction('convertToInteractive',\n",
              "                                                     [key], {});\n",
              "          if (!dataTable) return;\n",
              "\n",
              "          const docLinkHtml = 'Like what you see? Visit the ' +\n",
              "            '<a target=\"_blank\" href=https://colab.research.google.com/notebooks/data_table.ipynb>data table notebook</a>'\n",
              "            + ' to learn more about interactive tables.';\n",
              "          element.innerHTML = '';\n",
              "          dataTable['output_type'] = 'display_data';\n",
              "          await google.colab.output.renderOutput(dataTable, element);\n",
              "          const docLink = document.createElement('div');\n",
              "          docLink.innerHTML = docLinkHtml;\n",
              "          element.appendChild(docLink);\n",
              "        }\n",
              "      </script>\n",
              "    </div>\n",
              "  </div>\n",
              "  "
            ]
          },
          "metadata": {},
          "execution_count": 26
        }
      ]
    },
    {
      "cell_type": "markdown",
      "source": [
        "# **6. Exploratory Analysis**"
      ],
      "metadata": {
        "id": "GzmW-aiAXvku"
      }
    },
    {
      "cell_type": "code",
      "source": [
        "# Loading the Dataset\n",
        "# \n",
        "df= train.copy()\n",
        "df.head(5)"
      ],
      "metadata": {
        "colab": {
          "base_uri": "https://localhost:8080/",
          "height": 317
        },
        "id": "KfeErfl8X0fu",
        "outputId": "b644ce3b-6834-4238-dad7-dc1b0f9aab3b"
      },
      "execution_count": null,
      "outputs": [
        {
          "output_type": "execute_result",
          "data": {
            "text/plain": [
              "   client_income  car_owned  bike_owned  active_loan  house_own  child_count  \\\n",
              "0         6750.0        0.0         0.0          1.0        0.0          0.0   \n",
              "1        20250.0        1.0         0.0          1.0        1.0          0.0   \n",
              "2        18000.0        0.0         0.0          1.0        0.0          1.0   \n",
              "3        15750.0        0.0         0.0          1.0        1.0          0.0   \n",
              "4        33750.0        1.0         0.0          1.0        0.0          2.0   \n",
              "\n",
              "   credit_amount  loan_annuity accompany_client client_income_type  ...  \\\n",
              "0       61190.55       3416.85            Alone         Commercial  ...   \n",
              "1       15282.00       1826.55            Alone            Service  ...   \n",
              "2       59527.35       2788.20            Alone            Service  ...   \n",
              "3       53870.40       2295.45            Alone            Retired  ...   \n",
              "4      133988.40       3547.35            Alone         Commercial  ...   \n",
              "\n",
              "  application_process_day application_process_hour client_permanent_match_tag  \\\n",
              "0                     6.0                     17.0                        Yes   \n",
              "1                     3.0                     10.0                        Yes   \n",
              "2                     4.0                     10.0                        Yes   \n",
              "3                     2.0                     15.0                        Yes   \n",
              "4                     3.0                     10.0                        Yes   \n",
              "\n",
              "  client_contact_work_tag       type_organization  score_source_2  \\\n",
              "0                     Yes           Self-employed        0.478787   \n",
              "1                     Yes              Government        0.215068   \n",
              "2                     Yes           Self-employed        0.552795   \n",
              "3                     Yes                     XNA        0.135182   \n",
              "4                     Yes  Business Entity Type 3        0.301182   \n",
              "\n",
              "   phone_change  credit_bureau  default  age  \n",
              "0          63.0       1.892904      0.0   38  \n",
              "1           0.0       1.892904      0.0   38  \n",
              "2         277.0       0.000000      0.0   45  \n",
              "3        1700.0       3.000000      0.0   63  \n",
              "4         674.0       1.000000      0.0   31  \n",
              "\n",
              "[5 rows x 36 columns]"
            ],
            "text/html": [
              "\n",
              "  <div id=\"df-eb219538-5a02-4eeb-ba6c-5b2490ea1f74\">\n",
              "    <div class=\"colab-df-container\">\n",
              "      <div>\n",
              "<style scoped>\n",
              "    .dataframe tbody tr th:only-of-type {\n",
              "        vertical-align: middle;\n",
              "    }\n",
              "\n",
              "    .dataframe tbody tr th {\n",
              "        vertical-align: top;\n",
              "    }\n",
              "\n",
              "    .dataframe thead th {\n",
              "        text-align: right;\n",
              "    }\n",
              "</style>\n",
              "<table border=\"1\" class=\"dataframe\">\n",
              "  <thead>\n",
              "    <tr style=\"text-align: right;\">\n",
              "      <th></th>\n",
              "      <th>client_income</th>\n",
              "      <th>car_owned</th>\n",
              "      <th>bike_owned</th>\n",
              "      <th>active_loan</th>\n",
              "      <th>house_own</th>\n",
              "      <th>child_count</th>\n",
              "      <th>credit_amount</th>\n",
              "      <th>loan_annuity</th>\n",
              "      <th>accompany_client</th>\n",
              "      <th>client_income_type</th>\n",
              "      <th>...</th>\n",
              "      <th>application_process_day</th>\n",
              "      <th>application_process_hour</th>\n",
              "      <th>client_permanent_match_tag</th>\n",
              "      <th>client_contact_work_tag</th>\n",
              "      <th>type_organization</th>\n",
              "      <th>score_source_2</th>\n",
              "      <th>phone_change</th>\n",
              "      <th>credit_bureau</th>\n",
              "      <th>default</th>\n",
              "      <th>age</th>\n",
              "    </tr>\n",
              "  </thead>\n",
              "  <tbody>\n",
              "    <tr>\n",
              "      <th>0</th>\n",
              "      <td>6750.0</td>\n",
              "      <td>0.0</td>\n",
              "      <td>0.0</td>\n",
              "      <td>1.0</td>\n",
              "      <td>0.0</td>\n",
              "      <td>0.0</td>\n",
              "      <td>61190.55</td>\n",
              "      <td>3416.85</td>\n",
              "      <td>Alone</td>\n",
              "      <td>Commercial</td>\n",
              "      <td>...</td>\n",
              "      <td>6.0</td>\n",
              "      <td>17.0</td>\n",
              "      <td>Yes</td>\n",
              "      <td>Yes</td>\n",
              "      <td>Self-employed</td>\n",
              "      <td>0.478787</td>\n",
              "      <td>63.0</td>\n",
              "      <td>1.892904</td>\n",
              "      <td>0.0</td>\n",
              "      <td>38</td>\n",
              "    </tr>\n",
              "    <tr>\n",
              "      <th>1</th>\n",
              "      <td>20250.0</td>\n",
              "      <td>1.0</td>\n",
              "      <td>0.0</td>\n",
              "      <td>1.0</td>\n",
              "      <td>1.0</td>\n",
              "      <td>0.0</td>\n",
              "      <td>15282.00</td>\n",
              "      <td>1826.55</td>\n",
              "      <td>Alone</td>\n",
              "      <td>Service</td>\n",
              "      <td>...</td>\n",
              "      <td>3.0</td>\n",
              "      <td>10.0</td>\n",
              "      <td>Yes</td>\n",
              "      <td>Yes</td>\n",
              "      <td>Government</td>\n",
              "      <td>0.215068</td>\n",
              "      <td>0.0</td>\n",
              "      <td>1.892904</td>\n",
              "      <td>0.0</td>\n",
              "      <td>38</td>\n",
              "    </tr>\n",
              "    <tr>\n",
              "      <th>2</th>\n",
              "      <td>18000.0</td>\n",
              "      <td>0.0</td>\n",
              "      <td>0.0</td>\n",
              "      <td>1.0</td>\n",
              "      <td>0.0</td>\n",
              "      <td>1.0</td>\n",
              "      <td>59527.35</td>\n",
              "      <td>2788.20</td>\n",
              "      <td>Alone</td>\n",
              "      <td>Service</td>\n",
              "      <td>...</td>\n",
              "      <td>4.0</td>\n",
              "      <td>10.0</td>\n",
              "      <td>Yes</td>\n",
              "      <td>Yes</td>\n",
              "      <td>Self-employed</td>\n",
              "      <td>0.552795</td>\n",
              "      <td>277.0</td>\n",
              "      <td>0.000000</td>\n",
              "      <td>0.0</td>\n",
              "      <td>45</td>\n",
              "    </tr>\n",
              "    <tr>\n",
              "      <th>3</th>\n",
              "      <td>15750.0</td>\n",
              "      <td>0.0</td>\n",
              "      <td>0.0</td>\n",
              "      <td>1.0</td>\n",
              "      <td>1.0</td>\n",
              "      <td>0.0</td>\n",
              "      <td>53870.40</td>\n",
              "      <td>2295.45</td>\n",
              "      <td>Alone</td>\n",
              "      <td>Retired</td>\n",
              "      <td>...</td>\n",
              "      <td>2.0</td>\n",
              "      <td>15.0</td>\n",
              "      <td>Yes</td>\n",
              "      <td>Yes</td>\n",
              "      <td>XNA</td>\n",
              "      <td>0.135182</td>\n",
              "      <td>1700.0</td>\n",
              "      <td>3.000000</td>\n",
              "      <td>0.0</td>\n",
              "      <td>63</td>\n",
              "    </tr>\n",
              "    <tr>\n",
              "      <th>4</th>\n",
              "      <td>33750.0</td>\n",
              "      <td>1.0</td>\n",
              "      <td>0.0</td>\n",
              "      <td>1.0</td>\n",
              "      <td>0.0</td>\n",
              "      <td>2.0</td>\n",
              "      <td>133988.40</td>\n",
              "      <td>3547.35</td>\n",
              "      <td>Alone</td>\n",
              "      <td>Commercial</td>\n",
              "      <td>...</td>\n",
              "      <td>3.0</td>\n",
              "      <td>10.0</td>\n",
              "      <td>Yes</td>\n",
              "      <td>Yes</td>\n",
              "      <td>Business Entity Type 3</td>\n",
              "      <td>0.301182</td>\n",
              "      <td>674.0</td>\n",
              "      <td>1.000000</td>\n",
              "      <td>0.0</td>\n",
              "      <td>31</td>\n",
              "    </tr>\n",
              "  </tbody>\n",
              "</table>\n",
              "<p>5 rows × 36 columns</p>\n",
              "</div>\n",
              "      <button class=\"colab-df-convert\" onclick=\"convertToInteractive('df-eb219538-5a02-4eeb-ba6c-5b2490ea1f74')\"\n",
              "              title=\"Convert this dataframe to an interactive table.\"\n",
              "              style=\"display:none;\">\n",
              "        \n",
              "  <svg xmlns=\"http://www.w3.org/2000/svg\" height=\"24px\"viewBox=\"0 0 24 24\"\n",
              "       width=\"24px\">\n",
              "    <path d=\"M0 0h24v24H0V0z\" fill=\"none\"/>\n",
              "    <path d=\"M18.56 5.44l.94 2.06.94-2.06 2.06-.94-2.06-.94-.94-2.06-.94 2.06-2.06.94zm-11 1L8.5 8.5l.94-2.06 2.06-.94-2.06-.94L8.5 2.5l-.94 2.06-2.06.94zm10 10l.94 2.06.94-2.06 2.06-.94-2.06-.94-.94-2.06-.94 2.06-2.06.94z\"/><path d=\"M17.41 7.96l-1.37-1.37c-.4-.4-.92-.59-1.43-.59-.52 0-1.04.2-1.43.59L10.3 9.45l-7.72 7.72c-.78.78-.78 2.05 0 2.83L4 21.41c.39.39.9.59 1.41.59.51 0 1.02-.2 1.41-.59l7.78-7.78 2.81-2.81c.8-.78.8-2.07 0-2.86zM5.41 20L4 18.59l7.72-7.72 1.47 1.35L5.41 20z\"/>\n",
              "  </svg>\n",
              "      </button>\n",
              "      \n",
              "  <style>\n",
              "    .colab-df-container {\n",
              "      display:flex;\n",
              "      flex-wrap:wrap;\n",
              "      gap: 12px;\n",
              "    }\n",
              "\n",
              "    .colab-df-convert {\n",
              "      background-color: #E8F0FE;\n",
              "      border: none;\n",
              "      border-radius: 50%;\n",
              "      cursor: pointer;\n",
              "      display: none;\n",
              "      fill: #1967D2;\n",
              "      height: 32px;\n",
              "      padding: 0 0 0 0;\n",
              "      width: 32px;\n",
              "    }\n",
              "\n",
              "    .colab-df-convert:hover {\n",
              "      background-color: #E2EBFA;\n",
              "      box-shadow: 0px 1px 2px rgba(60, 64, 67, 0.3), 0px 1px 3px 1px rgba(60, 64, 67, 0.15);\n",
              "      fill: #174EA6;\n",
              "    }\n",
              "\n",
              "    [theme=dark] .colab-df-convert {\n",
              "      background-color: #3B4455;\n",
              "      fill: #D2E3FC;\n",
              "    }\n",
              "\n",
              "    [theme=dark] .colab-df-convert:hover {\n",
              "      background-color: #434B5C;\n",
              "      box-shadow: 0px 1px 3px 1px rgba(0, 0, 0, 0.15);\n",
              "      filter: drop-shadow(0px 1px 2px rgba(0, 0, 0, 0.3));\n",
              "      fill: #FFFFFF;\n",
              "    }\n",
              "  </style>\n",
              "\n",
              "      <script>\n",
              "        const buttonEl =\n",
              "          document.querySelector('#df-eb219538-5a02-4eeb-ba6c-5b2490ea1f74 button.colab-df-convert');\n",
              "        buttonEl.style.display =\n",
              "          google.colab.kernel.accessAllowed ? 'block' : 'none';\n",
              "\n",
              "        async function convertToInteractive(key) {\n",
              "          const element = document.querySelector('#df-eb219538-5a02-4eeb-ba6c-5b2490ea1f74');\n",
              "          const dataTable =\n",
              "            await google.colab.kernel.invokeFunction('convertToInteractive',\n",
              "                                                     [key], {});\n",
              "          if (!dataTable) return;\n",
              "\n",
              "          const docLinkHtml = 'Like what you see? Visit the ' +\n",
              "            '<a target=\"_blank\" href=https://colab.research.google.com/notebooks/data_table.ipynb>data table notebook</a>'\n",
              "            + ' to learn more about interactive tables.';\n",
              "          element.innerHTML = '';\n",
              "          dataTable['output_type'] = 'display_data';\n",
              "          await google.colab.output.renderOutput(dataTable, element);\n",
              "          const docLink = document.createElement('div');\n",
              "          docLink.innerHTML = docLinkHtml;\n",
              "          element.appendChild(docLink);\n",
              "        }\n",
              "      </script>\n",
              "    </div>\n",
              "  </div>\n",
              "  "
            ]
          },
          "metadata": {},
          "execution_count": 27
        }
      ]
    },
    {
      "cell_type": "markdown",
      "source": [
        "## **A) Univariate Analysis**"
      ],
      "metadata": {
        "id": "-CHucw0cX3sK"
      }
    },
    {
      "cell_type": "code",
      "source": [
        "#Categorical variables\n",
        "#Frequecy table for gender of the clients who took the automobile loan\n",
        "df[\"client_gender\"].value_counts()"
      ],
      "metadata": {
        "colab": {
          "base_uri": "https://localhost:8080/"
        },
        "id": "cOqZFFSTX8FR",
        "outputId": "8ae54ccf-429c-429b-e0b6-ef42c0537421"
      },
      "execution_count": null,
      "outputs": [
        {
          "output_type": "execute_result",
          "data": {
            "text/plain": [
              "Male      39420\n",
              "Female    20016\n",
              "other         2\n",
              "Name: client_gender, dtype: int64"
            ]
          },
          "metadata": {},
          "execution_count": 28
        }
      ]
    },
    {
      "cell_type": "markdown",
      "source": [
        "Huge percentage of gender that took the automotive loan are male. That means more men took the atomotive loan so that they can puchase the cars."
      ],
      "metadata": {
        "id": "hBLZvdEmYDCf"
      }
    },
    {
      "cell_type": "code",
      "source": [
        "#Frequecy table for age of the clients who took the automobile loan\n",
        "df[\"age\"].value_counts()"
      ],
      "metadata": {
        "colab": {
          "base_uri": "https://localhost:8080/"
        },
        "id": "a0dfv6nAYFtF",
        "outputId": "e0f837b5-530c-4ba9-e593-85932181b4e6"
      },
      "execution_count": null,
      "outputs": [
        {
          "output_type": "execute_result",
          "data": {
            "text/plain": [
              "43    3382\n",
              "39    1666\n",
              "36    1645\n",
              "37    1643\n",
              "41    1618\n",
              "38    1602\n",
              "40    1599\n",
              "42    1596\n",
              "31    1560\n",
              "27    1553\n",
              "28    1544\n",
              "32    1512\n",
              "29    1485\n",
              "33    1474\n",
              "35    1457\n",
              "44    1442\n",
              "45    1423\n",
              "30    1423\n",
              "34    1378\n",
              "53    1376\n",
              "54    1375\n",
              "46    1340\n",
              "47    1306\n",
              "51    1295\n",
              "49    1289\n",
              "57    1279\n",
              "56    1272\n",
              "59    1266\n",
              "48    1264\n",
              "52    1250\n",
              "50    1218\n",
              "55    1202\n",
              "58    1133\n",
              "60    1065\n",
              "61    1056\n",
              "62    1051\n",
              "63    1001\n",
              "64     967\n",
              "26     884\n",
              "24     804\n",
              "23     742\n",
              "25     742\n",
              "65     555\n",
              "22     507\n",
              "67     431\n",
              "66     403\n",
              "21     227\n",
              "68     136\n",
              "Name: age, dtype: int64"
            ]
          },
          "metadata": {},
          "execution_count": 29
        }
      ]
    },
    {
      "cell_type": "code",
      "source": [
        "#Plot showing the distribution of age of the clients\n",
        "sns.histplot(df['age'], binwidth=5);"
      ],
      "metadata": {
        "colab": {
          "base_uri": "https://localhost:8080/"
        },
        "id": "2B18fRauYJcZ",
        "outputId": "8012b848-9adb-44af-9f52-4824f78bd811"
      },
      "execution_count": null,
      "outputs": [
        {
          "output_type": "execute_result",
          "data": {
            "text/plain": [
              "<matplotlib.axes._subplots.AxesSubplot at 0x7fc1b2f70e10>"
            ]
          },
          "metadata": {},
          "execution_count": 30
        },
        {
          "output_type": "display_data",
          "data": {
            "text/plain": [
              "<Figure size 432x288 with 1 Axes>"
            ],
            "image/png": "[encoded data removed]"
          },
          "metadata": {
            "needs_background": "light"
          }
        }
      ]
    },
    {
      "cell_type": "markdown",
      "source": [
        "The age of the clients, most of them belong in the age group of 40 - 45"
      ],
      "metadata": {
        "id": "h9b9PEyYYlFa"
      }
    },
    {
      "cell_type": "code",
      "source": [
        "#Frequecy table for occupation of the clients who took the automobile loan\n",
        "df[\"client_occupation\"].value_counts()"
      ],
      "metadata": {
        "colab": {
          "base_uri": "https://localhost:8080/"
        },
        "id": "1v9xwdMlYM-t",
        "outputId": "059d3fec-c080-4301-acde-6fd8b27aa2c6"
      },
      "execution_count": null,
      "outputs": [
        {
          "output_type": "execute_result",
          "data": {
            "text/plain": [
              "N/A                   20259\n",
              "Laborers              10214\n",
              "Sales                  5901\n",
              "Core                   5193\n",
              "Managers               3992\n",
              "Drivers                3509\n",
              "High skill tech        2086\n",
              "Accountants            1852\n",
              "Medicine               1568\n",
              "Security               1307\n",
              "Cooking                1047\n",
              "Cleaning                821\n",
              "Private service         466\n",
              "Low-skill Laborers      391\n",
              "Waiters/barmen          253\n",
              "Secretaries             247\n",
              "Realty agents           139\n",
              "HR                       99\n",
              "IT                       94\n",
              "Name: client_occupation, dtype: int64"
            ]
          },
          "metadata": {},
          "execution_count": 31
        }
      ]
    },
    {
      "cell_type": "markdown",
      "source": [
        " We can see that the largest nember of the clients who took the automotive loan are labourers.These are people doing unskilled manual work for wages."
      ],
      "metadata": {
        "id": "K5lb4cLVYutv"
      }
    },
    {
      "cell_type": "code",
      "source": [
        "# countplot showing default rates \n",
        "#whether someone defaulted or not (1 means the client defaulted on loan payments and 0 means otherwise)\n",
        "palette = ['blue','pink']\n",
        "sns.catplot(x='default',data=df,kind='count',aspect=1.5)\n",
        "sns.set_palette(palette)\n",
        "plt.title('countplot showing default rates',weight='bold')"
      ],
      "metadata": {
        "colab": {
          "base_uri": "https://localhost:8080/"
        },
        "id": "2bjYvpUzYypX",
        "outputId": "7cca8632-978b-4fe7-de7a-699d213b668c"
      },
      "execution_count": null,
      "outputs": [
        {
          "output_type": "execute_result",
          "data": {
            "text/plain": [
              "Text(0.5, 1.0, 'countplot showing default rates')"
            ]
          },
          "metadata": {},
          "execution_count": 32
        },
        {
          "output_type": "display_data",
          "data": {
            "text/plain": [
              "<Figure size 540x360 with 1 Axes>"
            ],
            "image/png": "[encoded data removed]"
          },
          "metadata": {
            "needs_background": "light"
          }
        }
      ]
    },
    {
      "cell_type": "markdown",
      "source": [
        "Majority of the people who took the automotive loan did not default"
      ],
      "metadata": {
        "id": "GMTAY9SIY4al"
      }
    },
    {
      "cell_type": "code",
      "source": [
        "#Frequecy table for the level of education of the clients who took the automobile loan\n",
        "df[\"client_education\"].value_counts()"
      ],
      "metadata": {
        "colab": {
          "base_uri": "https://localhost:8080/"
        },
        "id": "LeJ7MSDrY65W",
        "outputId": "ae0d2ab1-dfd1-4d83-8bee-7be7169d2ba8"
      },
      "execution_count": null,
      "outputs": [
        {
          "output_type": "execute_result",
          "data": {
            "text/plain": [
              "Secondary             42598\n",
              "Graduation            14215\n",
              "Graduation dropout     1911\n",
              "Junior secondary        686\n",
              "Post Grad                28\n",
              "Name: client_education, dtype: int64"
            ]
          },
          "metadata": {},
          "execution_count": 33
        }
      ]
    },
    {
      "cell_type": "markdown",
      "source": [
        "This shows the Highest level of education achieved by client. Majority of the clients who took the loan are those whose highest level of education is secondary."
      ],
      "metadata": {
        "id": "hlyNNMcwZAUM"
      }
    },
    {
      "cell_type": "code",
      "source": [
        "#Frequecy table for income type of the clients who took the automobile loan\n",
        "df[\"client_income_type\"].value_counts()"
      ],
      "metadata": {
        "colab": {
          "base_uri": "https://localhost:8080/"
        },
        "id": "388-O0YaZD7V",
        "outputId": "ce97c36d-e187-441a-c887-b1778bd29fb2"
      },
      "execution_count": null,
      "outputs": [
        {
          "output_type": "execute_result",
          "data": {
            "text/plain": [
              "Service            31542\n",
              "Commercial         13474\n",
              "Retired            10271\n",
              "Govt Job            4141\n",
              "Student                7\n",
              "Unemployed             2\n",
              "Maternity leave        1\n",
              "Name: client_income_type, dtype: int64"
            ]
          },
          "metadata": {},
          "execution_count": 34
        }
      ]
    },
    {
      "cell_type": "markdown",
      "source": [
        "Most of the clients who took the loan are in service."
      ],
      "metadata": {
        "id": "r-igg1TQZG9q"
      }
    },
    {
      "cell_type": "code",
      "source": [
        "#pie chart for marital status\n",
        "#This shows Marital status of client (D- Divorced, S- Single, M- Married, W- Widowed)\n",
        "df[\"client_marital_status\"].value_counts().plot(kind='pie',shadow = True,explode=(0,0.1,0,0), colors=['green',\"blue\",\"red\",\"yellow\"], autopct='%1.1f%%')\n",
        "plt.title(\"Pie chart Marital Status of the clients\", y=1.1)\n",
        "plt.show()"
      ],
      "metadata": {
        "colab": {
          "base_uri": "https://localhost:8080/"
        },
        "id": "L56kr1UZZMcp",
        "outputId": "060776f2-dfc7-46fc-b49e-bcdae808a667"
      },
      "execution_count": null,
      "outputs": [
        {
          "output_type": "display_data",
          "data": {
            "text/plain": [
              "<Figure size 432x288 with 1 Axes>"
            ],
            "image/png": "[encoded data removed]"
          },
          "metadata": {}
        }
      ]
    },
    {
      "cell_type": "markdown",
      "source": [
        "73% of the clients who took the loan are maried while 5.1% which is the least number of clients are widowed"
      ],
      "metadata": {
        "id": "7YlJ7xNQZSMl"
      }
    },
    {
      "cell_type": "code",
      "source": [
        "#pie chart for Loan_Contract_Type\n",
        "#This shows Loan Type (CL- Cash Loan, RL- Revolving Loan)\n",
        "df[\"loan_contract_type\"].value_counts().plot(kind='pie',shadow = True,explode=(0,0), colors=[\"red\",\"yellow\"], autopct='%1.1f%%')\n",
        "plt.title(\"Pie chart Loan_Contract_Type of the clients\", y=1.1)\n",
        "plt.show()"
      ],
      "metadata": {
        "colab": {
          "base_uri": "https://localhost:8080/"
        },
        "id": "wDV4HtY7ZW2a",
        "outputId": "c7ca1f7c-c69f-4009-d7e0-bdc96edc1478"
      },
      "execution_count": null,
      "outputs": [
        {
          "output_type": "display_data",
          "data": {
            "text/plain": [
              "<Figure size 432x288 with 1 Axes>"
            ],
            "image/png": "[encoded data removed]"
          },
          "metadata": {}
        }
      ]
    },
    {
      "cell_type": "markdown",
      "source": [
        "Majority of the clients took a cash loan for a loan contrac"
      ],
      "metadata": {
        "id": "x9lRPONGZaqO"
      }
    },
    {
      "cell_type": "code",
      "source": [
        "#Catplot to show Any house owned by client (0 means No and 1 means otherwise)\n",
        "sns.catplot(x='house_own',data=df,kind='count',aspect=1.5)\n",
        "plt.title('Number of house wowned by the client',weight='bold')"
      ],
      "metadata": {
        "colab": {
          "base_uri": "https://localhost:8080/"
        },
        "id": "mTTkeoBgZdgC",
        "outputId": "a51072a0-a315-4069-9ede-d95d5549531d"
      },
      "execution_count": null,
      "outputs": [
        {
          "output_type": "execute_result",
          "data": {
            "text/plain": [
              "Text(0.5, 1.0, 'Number of house wowned by the client')"
            ]
          },
          "metadata": {},
          "execution_count": 37
        },
        {
          "output_type": "display_data",
          "data": {
            "text/plain": [
              "<Figure size 540x360 with 1 Axes>"
            ],
            "image/png": "[encoded data removed]"
          },
          "metadata": {
            "needs_background": "light"
          }
        }
      ]
    },
    {
      "cell_type": "markdown",
      "source": [
        "From the analysis, the largest percentage of the clients who applied for the automotive loans have home ownership\n",
        "\n"
      ],
      "metadata": {
        "id": "c3_Hq1o4ZkcH"
      }
    },
    {
      "cell_type": "code",
      "source": [
        "#plot showing distributions of ages (Age of the client at the time of application submission)\n",
        "f, ax = plt.subplots(figsize=(10,8))\n",
        "x = df[\"age\"]\n",
        "x = pd.Series(x, name=\"Age variable\")\n",
        "ax = sns.kdeplot(x, shade=True, color='red')\n",
        "ax.set_title(\"Distribution of age variable\",weight='bold')\n",
        "plt.show()"
      ],
      "metadata": {
        "colab": {
          "base_uri": "https://localhost:8080/"
        },
        "id": "UsP0zggpZoUp",
        "outputId": "7da826e6-d9de-4172-b00b-6d229feb2a9d"
      },
      "execution_count": null,
      "outputs": [
        {
          "output_type": "display_data",
          "data": {
            "text/plain": [
              "<Figure size 720x576 with 1 Axes>"
            ],
            "image/png": "[encoded data removed]"
          },
          "metadata": {
            "needs_background": "light"
          }
        }
      ]
    },
    {
      "cell_type": "markdown",
      "source": [
        "From the subplot, we can see that most the people who appried for the automotive loan were from the age group of 40-45 years"
      ],
      "metadata": {
        "id": "KywYs3GyZsZv"
      }
    },
    {
      "cell_type": "code",
      "source": [
        "#plot to show distribution of clients in different cities\n",
        "#Client city rating. 3 denotes best and 2 denotes good and 1 denotes average\n",
        "sns.countplot(df['cleint_city_rating'])"
      ],
      "metadata": {
        "colab": {
          "base_uri": "https://localhost:8080/"
        },
        "id": "OiSEJCbmZvFN",
        "outputId": "84945d97-db03-45b4-f8bc-91842b6ae4da"
      },
      "execution_count": null,
      "outputs": [
        {
          "output_type": "execute_result",
          "data": {
            "text/plain": [
              "<matplotlib.axes._subplots.AxesSubplot at 0x7fc1abd8f8d0>"
            ]
          },
          "metadata": {},
          "execution_count": 39
        },
        {
          "output_type": "display_data",
          "data": {
            "text/plain": [
              "<Figure size 432x288 with 1 Axes>"
            ],
            "image/png": "[encoded data removed]"
          },
          "metadata": {
            "needs_background": "light"
          }
        }
      ]
    },
    {
      "cell_type": "markdown",
      "source": [
        "Most of the loan accounts are to clients from level 2 cities(Client city rating. 3 denotes best and 2 denotes good and 1 denotes average)"
      ],
      "metadata": {
        "id": "j1lVDog3Z40Z"
      }
    },
    {
      "cell_type": "code",
      "source": [
        "#Plot to show if a client has an existing loan or not\n",
        "#Any other active loan at the time of aplication of loan (0 means No and 1 means otherwise)\n",
        "sns.countplot(df['active_loan'])"
      ],
      "metadata": {
        "colab": {
          "base_uri": "https://localhost:8080/"
        },
        "id": "bg0bQlaOZ7I7",
        "outputId": "da188e8e-849f-4047-b968-29a8e42dd59f"
      },
      "execution_count": null,
      "outputs": [
        {
          "output_type": "execute_result",
          "data": {
            "text/plain": [
              "<matplotlib.axes._subplots.AxesSubplot at 0x7fc1abce2ad0>"
            ]
          },
          "metadata": {},
          "execution_count": 40
        },
        {
          "output_type": "display_data",
          "data": {
            "text/plain": [
              "<Figure size 432x288 with 1 Axes>"
            ],
            "image/png": "[encoded data removed]"
          },
          "metadata": {
            "needs_background": "light"
          }
        }
      ]
    },
    {
      "cell_type": "markdown",
      "source": [
        "This denotes any other active loan at the time of aplication of loan (0 means No and 1 means otherwise). That means most of the loan applicants did not have an existing loan."
      ],
      "metadata": {
        "id": "O3gDkpkUZ-tl"
      }
    },
    {
      "cell_type": "code",
      "source": [
        "#plot to show the Number of family members  does client have\n",
        "#Number of family members does client have\n",
        "\n",
        "sns.countplot(df['client_family_members'])"
      ],
      "metadata": {
        "colab": {
          "base_uri": "https://localhost:8080/"
        },
        "id": "OEZ9IDGhaBG2",
        "outputId": "8bd78d17-f313-41ba-c43d-c0b9f3fc347c"
      },
      "execution_count": null,
      "outputs": [
        {
          "output_type": "execute_result",
          "data": {
            "text/plain": [
              "<matplotlib.axes._subplots.AxesSubplot at 0x7fc1abcaa9d0>"
            ]
          },
          "metadata": {},
          "execution_count": 41
        },
        {
          "output_type": "display_data",
          "data": {
            "text/plain": [
              "<Figure size 432x288 with 1 Axes>"
            ],
            "image/png": "[encoded data removed]"
          },
          "metadata": {
            "needs_background": "light"
          }
        }
      ]
    },
    {
      "cell_type": "markdown",
      "source": [
        "Most of the clients who applied for the automotive loan had 2 to 3 family members"
      ],
      "metadata": {
        "id": "dNU4H3-DaEYS"
      }
    },
    {
      "cell_type": "code",
      "source": [
        "#Box plot\n",
        "# Checking for outliers in the client income and loan annuity\n",
        "fig, axes = plt.subplots(1,2, figsize=(15, 8))\n",
        "fig.suptitle('Boxplots')\n",
        "sns.boxplot(df['client_income'], ax=axes[0])\n",
        "sns.boxplot(df['loan_annuity'], ax=axes[1])\n",
        "plt.show()"
      ],
      "metadata": {
        "colab": {
          "base_uri": "https://localhost:8080/"
        },
        "id": "Fa9d9MeDaILw",
        "outputId": "e731cc93-b133-4005-ce16-4af4dd165c2d"
      },
      "execution_count": null,
      "outputs": [
        {
          "output_type": "display_data",
          "data": {
            "text/plain": [
              "<Figure size 1080x576 with 2 Axes>"
            ],
            "image/png": "[encoded data removed]"
          },
          "metadata": {
            "needs_background": "light"
          }
        }
      ]
    },
    {
      "cell_type": "markdown",
      "source": [
        "Income is a major detaminant of whether a client will be granted a loan or not.From our dataset, we are dealing with people from diverse fields with different salary range. We shall not drop the outliers since its is possible to get a client with an income more than 1 million\n",
        "\n",
        "For loan annuity, different clients took different amounts of loan. Annuity due payment will be different"
      ],
      "metadata": {
        "id": "Q5H4vAZtaMHy"
      }
    },
    {
      "cell_type": "code",
      "source": [
        "# Checking for outliers in the age and credit amount\n",
        "fig, axes = plt.subplots(1,2, figsize=(15, 8))\n",
        "fig.suptitle('Boxplots')\n",
        "sns.boxplot(df['age'], ax=axes[0])\n",
        "sns.boxplot(df['credit_amount'], ax=axes[1])\n",
        "plt.show()"
      ],
      "metadata": {
        "colab": {
          "base_uri": "https://localhost:8080/"
        },
        "id": "zQLEUByIaSXl",
        "outputId": "ec0fe35a-dd01-4bff-eee8-cdff2afb0880"
      },
      "execution_count": null,
      "outputs": [
        {
          "output_type": "display_data",
          "data": {
            "text/plain": [
              "<Figure size 1080x576 with 2 Axes>"
            ],
            "image/png": "[encoded data removed]"
          },
          "metadata": {
            "needs_background": "light"
          }
        }
      ]
    },
    {
      "cell_type": "markdown",
      "source": [
        "The credit amount is different based on the different amount of loan taken by the client"
      ],
      "metadata": {
        "id": "vMZe3SpdaYIq"
      }
    },
    {
      "cell_type": "markdown",
      "source": [
        "## **B) Bivariate Analysis**"
      ],
      "metadata": {
        "id": "-wE_HxUNadgW"
      }
    },
    {
      "cell_type": "code",
      "source": [
        "#To determine if the gender of the applicant affects the default rate\n",
        "#(1 means the client defaulted on loan payments and 0 means otherwise)\n",
        "sns.catplot(x='default',hue='client_gender',data=df,kind='count',aspect=1.5)\n",
        "plt.title('Default rate distribution with gender',weight='bold')"
      ],
      "metadata": {
        "colab": {
          "base_uri": "https://localhost:8080/"
        },
        "id": "BlzQGrvGah4b",
        "outputId": "45e6444c-5163-48c3-e8ac-46c86f179ed4"
      },
      "execution_count": null,
      "outputs": [
        {
          "output_type": "execute_result",
          "data": {
            "text/plain": [
              "Text(0.5, 1.0, 'Default rate distribution with gender')"
            ]
          },
          "metadata": {},
          "execution_count": 44
        },
        {
          "output_type": "display_data",
          "data": {
            "text/plain": [
              "<Figure size 616.125x360 with 1 Axes>"
            ],
            "image/png": "[encoded data removed]"
          },
          "metadata": {
            "needs_background": "light"
          }
        }
      ]
    },
    {
      "cell_type": "markdown",
      "source": [
        "From the graph we can see that most of the people who applied for the loan are male, female applicants were few. Male applicants had the highest default rate while female applicants had a lower default rate compared to male applicants"
      ],
      "metadata": {
        "id": "yS9ylF2NauyM"
      }
    },
    {
      "cell_type": "code",
      "source": [
        "#To find out how the occupation of the applicant affects the default rate\n",
        "#(1 means the client defaulted on loan payments and 0 means otherwise)\n",
        "plt.figure(figsize=(5, 15))\n",
        "sns.countplot(y = df[\"client_occupation\"], order= df.client_occupation.value_counts().index, hue = df[\"default\"])\n",
        "plt.title('Default rate distribution with client occupation',weight='bold')"
      ],
      "metadata": {
        "colab": {
          "base_uri": "https://localhost:8080/"
        },
        "id": "PBUg4Xfha6wV",
        "outputId": "a16af208-7fbe-419c-b686-6f0c07dbd125"
      },
      "execution_count": null,
      "outputs": [
        {
          "output_type": "execute_result",
          "data": {
            "text/plain": [
              "Text(0.5, 1.0, 'Default rate distribution with client occupation')"
            ]
          },
          "metadata": {},
          "execution_count": 45
        },
        {
          "output_type": "display_data",
          "data": {
            "text/plain": [
              "<Figure size 360x1080 with 1 Axes>"
            ],
            "image/png": "[encoded data removed]"
          },
          "metadata": {
            "needs_background": "light"
          }
        }
      ]
    },
    {
      "cell_type": "markdown",
      "source": [
        "Majority of the people who defaulted the loan did not indicate their occupation followed by labourers"
      ],
      "metadata": {
        "id": "9pIdM5pda-eL"
      }
    },
    {
      "cell_type": "code",
      "source": [
        "#To determine if the age of the applicant affects the default rate\n",
        "sns.histplot(data=df, x='age', hue='default',binwidth=5)\n",
        "plt.title('Default rate distribution with age',weight='bold')"
      ],
      "metadata": {
        "colab": {
          "base_uri": "https://localhost:8080/"
        },
        "id": "1SEo1XJ4bA5N",
        "outputId": "6da56e82-9c7e-4f1e-9206-a9a656acb295"
      },
      "execution_count": null,
      "outputs": [
        {
          "output_type": "execute_result",
          "data": {
            "text/plain": [
              "Text(0.5, 1.0, 'Default rate distribution with age')"
            ]
          },
          "metadata": {},
          "execution_count": 46
        },
        {
          "output_type": "display_data",
          "data": {
            "text/plain": [
              "<Figure size 432x288 with 1 Axes>"
            ],
            "image/png": "[encoded data removed]"
          },
          "metadata": {
            "needs_background": "light"
          }
        }
      ]
    },
    {
      "cell_type": "markdown",
      "source": [
        "Most of the defaulters were are between the ages of 30 and 35"
      ],
      "metadata": {
        "id": "_4lHvHnxbGBo"
      }
    },
    {
      "cell_type": "code",
      "source": [
        "#To determine if having different loans affects the default rate\n",
        "plt.figure(figsize=(9, 5))\n",
        "sns.countplot(data=df, x='active_loan',hue='default')\n",
        "plt.xlabel('Active loan status ')\n",
        "plt.ylabel('count')\n",
        "plt.title('Distribution of Active loan status  agaist default rate') \n",
        "plt.show()"
      ],
      "metadata": {
        "colab": {
          "base_uri": "https://localhost:8080/"
        },
        "id": "kB4CsMFObJM7",
        "outputId": "b5562419-1cde-4357-d4b7-e8b4b5f43947"
      },
      "execution_count": null,
      "outputs": [
        {
          "output_type": "display_data",
          "data": {
            "text/plain": [
              "<Figure size 648x360 with 1 Axes>"
            ],
            "image/png": "[encoded data removed]"
          },
          "metadata": {
            "needs_background": "light"
          }
        }
      ]
    },
    {
      "cell_type": "markdown",
      "source": [
        "Clients who have a different loan are more likely to default compared to those who do no"
      ],
      "metadata": {
        "id": "SVMKesqjbNJG"
      }
    },
    {
      "cell_type": "code",
      "source": [
        "#To determine if the marital status of the applicant affects the default rate\n",
        "#Stacked column chart for Client_Marital_Status  agaist default rate\n",
        "plt.figure(figsize=(9, 5))\n",
        "sns.countplot(x = df[\"client_marital_status\"], hue = df[\"default\"])\n",
        "plt.xlabel('Client_Marital_Status ')\n",
        "plt.ylabel('default')\n",
        "plt.title('Distribution of Clients Marital Status  agaist default rate') \n",
        "plt.show()"
      ],
      "metadata": {
        "colab": {
          "base_uri": "https://localhost:8080/"
        },
        "id": "fesGWWbhbPHg",
        "outputId": "5cf56dab-abae-44a0-906f-542f79e1dfc6"
      },
      "execution_count": null,
      "outputs": [
        {
          "output_type": "display_data",
          "data": {
            "text/plain": [
              "<Figure size 648x360 with 1 Axes>"
            ],
            "image/png": "[encoded data removed]"
          },
          "metadata": {
            "needs_background": "light"
          }
        }
      ]
    },
    {
      "cell_type": "markdown",
      "source": [
        "Clients who are married are more likely to take and to default on the loan"
      ],
      "metadata": {
        "id": "02W7dfagbSxd"
      }
    },
    {
      "cell_type": "code",
      "source": [
        "#To determine if the amount borrowed affects the applicant's ability to repay\n",
        "sns.histplot(x= df['credit_amount'], hue = df['default'],binwidth=25000)"
      ],
      "metadata": {
        "colab": {
          "base_uri": "https://localhost:8080/"
        },
        "id": "QklpeKwsbVFz",
        "outputId": "dd44f9c5-e407-4b7f-a741-bc72c8fa4cb8"
      },
      "execution_count": null,
      "outputs": [
        {
          "output_type": "execute_result",
          "data": {
            "text/plain": [
              "<matplotlib.axes._subplots.AxesSubplot at 0x7fc1ade182d0>"
            ]
          },
          "metadata": {},
          "execution_count": 49
        },
        {
          "output_type": "display_data",
          "data": {
            "text/plain": [
              "<Figure size 432x288 with 1 Axes>"
            ],
            "image/png": "[encoded data removed]"
          },
          "metadata": {
            "needs_background": "light"
          }
        }
      ]
    },
    {
      "cell_type": "markdown",
      "source": [
        "Clients who borrow between 25000 and 50000 are the most likely to default"
      ],
      "metadata": {
        "id": "K-IV7V9sdHix"
      }
    },
    {
      "cell_type": "code",
      "source": [
        "#To determine if the income of the applicant affects the default rate\n",
        "plt.figure(figsize=(15, 5))\n",
        "sns.histplot(data=df, x='client_income', hue='default',binwidth=20000)"
      ],
      "metadata": {
        "colab": {
          "base_uri": "https://localhost:8080/"
        },
        "id": "FF2EQ_AYdKNj",
        "outputId": "aa91dacf-9265-4a6c-fe2b-0944fad7f8a1"
      },
      "execution_count": null,
      "outputs": [
        {
          "output_type": "execute_result",
          "data": {
            "text/plain": [
              "<matplotlib.axes._subplots.AxesSubplot at 0x7fc1abadbd50>"
            ]
          },
          "metadata": {},
          "execution_count": 50
        },
        {
          "output_type": "display_data",
          "data": {
            "text/plain": [
              "<Figure size 1080x360 with 1 Axes>"
            ],
            "image/png": "[encoded data removed]"
          },
          "metadata": {
            "needs_background": "light"
          }
        }
      ]
    },
    {
      "cell_type": "markdown",
      "source": [
        "Clients with lower income (betrween 0 and 20000) are most likely to default"
      ],
      "metadata": {
        "id": "q1miQMxEdSB_"
      }
    },
    {
      "cell_type": "code",
      "source": [
        "#To determine if the amount borrowed affects the applicant's ability to repay\n",
        "# Line graph for the amount borrowed vs the default rate\n",
        "plt.figure(figsize=(15, 5))\n",
        "sns.histplot(data=df, x='credit_amount', hue='default',binwidth=20000)\n",
        "plt.title(\"Distribution for the amount borrowed vs the default rate\", fontweight='bold')\n",
        "plt.show()"
      ],
      "metadata": {
        "colab": {
          "base_uri": "https://localhost:8080/"
        },
        "id": "XoH57ATwdUk-",
        "outputId": "4068f874-26f8-47e2-ab7f-2e9e6032b71f"
      },
      "execution_count": null,
      "outputs": [
        {
          "output_type": "display_data",
          "data": {
            "text/plain": [
              "<Figure size 1080x360 with 1 Axes>"
            ],
            "image/png": "[encoded data removed]"
          },
          "metadata": {
            "needs_background": "light"
          }
        }
      ]
    },
    {
      "cell_type": "code",
      "source": [
        "#To determine the relationship between the contract type of the loan and  the loan amount \n",
        "sns.histplot( x = df['credit_amount'],hue = df['loan_contract_type'],binwidth=25000)"
      ],
      "metadata": {
        "colab": {
          "base_uri": "https://localhost:8080/"
        },
        "id": "LWXa-jvWdZ7W",
        "outputId": "7565de87-40af-491f-96a1-dd80329e72b9"
      },
      "execution_count": null,
      "outputs": [
        {
          "output_type": "execute_result",
          "data": {
            "text/plain": [
              "<matplotlib.axes._subplots.AxesSubplot at 0x7fc1ab498b90>"
            ]
          },
          "metadata": {},
          "execution_count": 52
        },
        {
          "output_type": "display_data",
          "data": {
            "text/plain": [
              "<Figure size 432x288 with 1 Axes>"
            ],
            "image/png": "[encoded data removed]"
          },
          "metadata": {
            "needs_background": "light"
          }
        }
      ]
    },
    {
      "cell_type": "markdown",
      "source": [
        "Rolling contracts are more likely between 0 to 25000\n",
        "\n",
        "Cash loans are more likely between 25000 to 50000"
      ],
      "metadata": {
        "id": "0xh1-k8XddPH"
      }
    },
    {
      "cell_type": "code",
      "source": [
        "#To determine if the loan_contract_type of the applicant affects the default rate\n",
        "#Stacked column chart for loan_contract_type  agaist default rate\n",
        "plt.figure(figsize=(9, 5))\n",
        "sns.countplot(x = df[\"loan_contract_type\"], hue = df[\"default\"])\n",
        "plt.xlabel('loan_contract_type ')\n",
        "plt.ylabel('default')\n",
        "plt.title('Distribution of loan_contract_type  agaist default rate') \n",
        "plt.show()"
      ],
      "metadata": {
        "colab": {
          "base_uri": "https://localhost:8080/"
        },
        "id": "LjyZoGPKdjLj",
        "outputId": "6514ece7-ae76-47cc-9bbc-d6f193e1334c"
      },
      "execution_count": null,
      "outputs": [
        {
          "output_type": "display_data",
          "data": {
            "text/plain": [
              "<Figure size 648x360 with 1 Axes>"
            ],
            "image/png": "[encoded data removed]"
          },
          "metadata": {
            "needs_background": "light"
          }
        }
      ]
    },
    {
      "cell_type": "code",
      "source": [
        "#correlation\n",
        "df.corr()"
      ],
      "metadata": {
        "colab": {
          "base_uri": "https://localhost:8080/"
        },
        "id": "ZD2juQ5zdm80",
        "outputId": "855808eb-8e46-41a1-b7c2-b733a2beac33"
      },
      "execution_count": null,
      "outputs": [
        {
          "output_type": "execute_result",
          "data": {
            "text/plain": [
              "                            client_income  car_owned  bike_owned  active_loan  \\\n",
              "client_income                    1.000000   0.153050   -0.006272     0.004427   \n",
              "car_owned                        0.153050   1.000000   -0.000820    -0.001128   \n",
              "bike_owned                      -0.006272  -0.000820    1.000000    -0.000570   \n",
              "active_loan                      0.004427  -0.001128   -0.000570     1.000000   \n",
              "house_own                        0.004820  -0.009502    0.002497    -0.006854   \n",
              "child_count                      0.025212   0.099390    0.000032     0.003915   \n",
              "credit_amount                    0.293063   0.108980    0.000789     0.001821   \n",
              "loan_annuity                     0.359123   0.134306   -0.006316    -0.000670   \n",
              "population_region_relative      -0.000367  -0.003209    0.008342     0.005997   \n",
              "age_days                        -0.048979  -0.128647    0.005650     0.004534   \n",
              "employed_days                   -0.121977  -0.152791    0.002831     0.004106   \n",
              "registration_days               -0.053916  -0.079600   -0.001005     0.002102   \n",
              "id_days                         -0.020676  -0.013238    0.005094     0.004294   \n",
              "mobile_tag                            NaN        NaN         NaN          NaN   \n",
              "homephone_tag                   -0.037740   0.011527   -0.004599    -0.001577   \n",
              "workphone_working               -0.003807  -0.009908   -0.008683    -0.001677   \n",
              "client_family_members            0.028790   0.146732    0.001408     0.002257   \n",
              "cleint_city_rating              -0.172029  -0.022646    0.003553     0.000458   \n",
              "application_process_day          0.001515  -0.002353   -0.003889     0.000209   \n",
              "application_process_hour         0.071451   0.013553   -0.000128     0.001449   \n",
              "score_source_2                   0.050795   0.027060    0.004654    -0.004740   \n",
              "phone_change                     0.033532   0.033000   -0.000811     0.007470   \n",
              "credit_bureau                    0.021817  -0.040366   -0.002318     0.009183   \n",
              "default                         -0.020530  -0.024320   -0.001057     0.005592   \n",
              "age                             -0.048949  -0.128419    0.005659     0.004345   \n",
              "\n",
              "                            house_own  child_count  credit_amount  \\\n",
              "client_income                0.004820     0.025212       0.293063   \n",
              "car_owned                   -0.009502     0.099390       0.108980   \n",
              "bike_owned                   0.002497     0.000032       0.000789   \n",
              "active_loan                 -0.006854     0.003915       0.001821   \n",
              "house_own                    1.000000    -0.004541      -0.039185   \n",
              "child_count                 -0.004541     1.000000       0.001543   \n",
              "credit_amount               -0.039185     0.001543       1.000000   \n",
              "loan_annuity                -0.005191     0.022463       0.741648   \n",
              "population_region_relative   0.004114    -0.003876      -0.002655   \n",
              "age_days                     0.115145    -0.316940       0.050666   \n",
              "employed_days                0.067229    -0.230786      -0.069734   \n",
              "registration_days            0.022937    -0.169550      -0.009280   \n",
              "id_days                     -0.007348     0.022610       0.002948   \n",
              "mobile_tag                        NaN          NaN            NaN   \n",
              "homephone_tag               -0.109382     0.049810      -0.021965   \n",
              "workphone_working           -0.038784    -0.028522       0.030739   \n",
              "client_family_members        0.006072     0.848084       0.059294   \n",
              "cleint_city_rating           0.001988     0.022415      -0.111237   \n",
              "application_process_day      0.011932    -0.000569      -0.005958   \n",
              "application_process_hour    -0.101274    -0.010073       0.047207   \n",
              "score_source_2               0.002633    -0.009528       0.049656   \n",
              "phone_change                -0.021647     0.011978       0.065317   \n",
              "credit_bureau                0.062929    -0.037652      -0.045055   \n",
              "default                      0.003841     0.020880      -0.030076   \n",
              "age                          0.114988    -0.316843       0.050677   \n",
              "\n",
              "                            loan_annuity  population_region_relative  \\\n",
              "client_income                   0.359123                   -0.000367   \n",
              "car_owned                       0.134306                   -0.003209   \n",
              "bike_owned                     -0.006316                    0.008342   \n",
              "active_loan                    -0.000670                    0.005997   \n",
              "house_own                      -0.005191                    0.004114   \n",
              "child_count                     0.022463                   -0.003876   \n",
              "credit_amount                   0.741648                   -0.002655   \n",
              "loan_annuity                    1.000000                   -0.001778   \n",
              "population_region_relative     -0.001778                    1.000000   \n",
              "age_days                       -0.009861                    0.000166   \n",
              "employed_days                  -0.106761                   -0.002890   \n",
              "registration_days              -0.036238                    0.000714   \n",
              "id_days                        -0.012334                    0.002637   \n",
              "mobile_tag                           NaN                         NaN   \n",
              "homephone_tag                  -0.029764                   -0.003375   \n",
              "workphone_working               0.012172                    0.004962   \n",
              "client_family_members           0.072609                   -0.001561   \n",
              "cleint_city_rating             -0.138245                   -0.012472   \n",
              "application_process_day         0.003037                    0.001113   \n",
              "application_process_hour        0.049790                    0.007401   \n",
              "score_source_2                  0.048818                    0.002102   \n",
              "phone_change                    0.053999                   -0.000324   \n",
              "credit_bureau                  -0.013861                   -0.003057   \n",
              "default                        -0.012467                   -0.002453   \n",
              "age                            -0.009909                    0.000110   \n",
              "\n",
              "                            age_days  ...  workphone_working  \\\n",
              "client_income              -0.048979  ...          -0.003807   \n",
              "car_owned                  -0.128647  ...          -0.009908   \n",
              "bike_owned                  0.005650  ...          -0.008683   \n",
              "active_loan                 0.004534  ...          -0.001677   \n",
              "house_own                   0.115145  ...          -0.038784   \n",
              "child_count                -0.316940  ...          -0.028522   \n",
              "credit_amount               0.050666  ...           0.030739   \n",
              "loan_annuity               -0.009861  ...           0.012172   \n",
              "population_region_relative  0.000166  ...           0.004962   \n",
              "age_days                    1.000000  ...           0.039287   \n",
              "employed_days               0.603286  ...           0.015857   \n",
              "registration_days           0.315471  ...           0.068283   \n",
              "id_days                     0.263630  ...           0.036070   \n",
              "mobile_tag                       NaN  ...                NaN   \n",
              "homephone_tag              -0.163270  ...           0.290636   \n",
              "workphone_working           0.039287  ...           1.000000   \n",
              "client_family_members      -0.271835  ...          -0.015689   \n",
              "cleint_city_rating         -0.006540  ...          -0.074206   \n",
              "application_process_day     0.009954  ...          -0.012994   \n",
              "application_process_hour   -0.083914  ...           0.058735   \n",
              "score_source_2              0.034209  ...           0.021696   \n",
              "phone_change                0.077089  ...           0.066285   \n",
              "credit_bureau               0.065878  ...          -0.028379   \n",
              "default                    -0.074116  ...          -0.029051   \n",
              "age                         0.999692  ...           0.039272   \n",
              "\n",
              "                            client_family_members  cleint_city_rating  \\\n",
              "client_income                            0.028790           -0.172029   \n",
              "car_owned                                0.146732           -0.022646   \n",
              "bike_owned                               0.001408            0.003553   \n",
              "active_loan                              0.002257            0.000458   \n",
              "house_own                                0.006072            0.001988   \n",
              "child_count                              0.848084            0.022415   \n",
              "credit_amount                            0.059294           -0.111237   \n",
              "loan_annuity                             0.072609           -0.138245   \n",
              "population_region_relative              -0.001561           -0.012472   \n",
              "age_days                                -0.271835           -0.006540   \n",
              "employed_days                           -0.228200            0.037782   \n",
              "registration_days                       -0.162201           -0.068951   \n",
              "id_days                                  0.013024            0.008616   \n",
              "mobile_tag                                    NaN                 NaN   \n",
              "homephone_tag                            0.063485            0.013244   \n",
              "workphone_working                       -0.015689           -0.074206   \n",
              "client_family_members                    1.000000            0.031171   \n",
              "cleint_city_rating                       0.031171            1.000000   \n",
              "application_process_day                  0.002826            0.007981   \n",
              "application_process_hour                -0.017502           -0.262748   \n",
              "score_source_2                          -0.002097           -0.115646   \n",
              "phone_change                             0.032836           -0.019878   \n",
              "credit_bureau                           -0.028224            0.012005   \n",
              "default                                  0.011761            0.056136   \n",
              "age                                     -0.271821           -0.006504   \n",
              "\n",
              "                            application_process_day  application_process_hour  \\\n",
              "client_income                              0.001515                  0.071451   \n",
              "car_owned                                 -0.002353                  0.013553   \n",
              "bike_owned                                -0.003889                 -0.000128   \n",
              "active_loan                                0.000209                  0.001449   \n",
              "house_own                                  0.011932                 -0.101274   \n",
              "child_count                               -0.000569                 -0.010073   \n",
              "credit_amount                             -0.005958                  0.047207   \n",
              "loan_annuity                               0.003037                  0.049790   \n",
              "population_region_relative                 0.001113                  0.007401   \n",
              "age_days                                   0.009954                 -0.083914   \n",
              "employed_days                              0.005309                 -0.084270   \n",
              "registration_days                          0.000381                  0.014239   \n",
              "id_days                                    0.000945                 -0.020888   \n",
              "mobile_tag                                      NaN                       NaN   \n",
              "homephone_tag                             -0.019338                  0.038043   \n",
              "workphone_working                         -0.012994                  0.058735   \n",
              "client_family_members                      0.002826                 -0.017502   \n",
              "cleint_city_rating                         0.007981                 -0.262748   \n",
              "application_process_day                    1.000000                 -0.028935   \n",
              "application_process_hour                  -0.028935                  1.000000   \n",
              "score_source_2                            -0.004874                  0.063326   \n",
              "phone_change                              -0.004818                  0.010456   \n",
              "credit_bureau                             -0.000805                 -0.025207   \n",
              "default                                    0.007212                 -0.019681   \n",
              "age                                        0.009732                 -0.083725   \n",
              "\n",
              "                            score_source_2  phone_change  credit_bureau  \\\n",
              "client_income                     0.050795      0.033532       0.021817   \n",
              "car_owned                         0.027060      0.033000      -0.040366   \n",
              "bike_owned                        0.004654     -0.000811      -0.002318   \n",
              "active_loan                      -0.004740      0.007470       0.009183   \n",
              "house_own                         0.002633     -0.021647       0.062929   \n",
              "child_count                      -0.009528      0.011978      -0.037652   \n",
              "credit_amount                     0.049656      0.065317      -0.045055   \n",
              "loan_annuity                      0.048818      0.053999      -0.013861   \n",
              "population_region_relative        0.002102     -0.000324      -0.003057   \n",
              "age_days                          0.034209      0.077089       0.065878   \n",
              "employed_days                    -0.009758     -0.023108       0.039172   \n",
              "registration_days                 0.023327      0.049952       0.020090   \n",
              "id_days                           0.022998      0.084828       0.031921   \n",
              "mobile_tag                             NaN           NaN            NaN   \n",
              "homephone_tag                    -0.010037      0.051008      -0.069109   \n",
              "workphone_working                 0.021696      0.066285      -0.028379   \n",
              "client_family_members            -0.002097      0.032836      -0.028224   \n",
              "cleint_city_rating               -0.115646     -0.019878       0.012005   \n",
              "application_process_day          -0.004874     -0.004818      -0.000805   \n",
              "application_process_hour          0.063326      0.010456      -0.025207   \n",
              "score_source_2                    1.000000      0.074825      -0.009722   \n",
              "phone_change                      0.074825      1.000000       0.100455   \n",
              "credit_bureau                    -0.009722      0.100455       1.000000   \n",
              "default                          -0.062820     -0.051696       0.020254   \n",
              "age                               0.034228      0.076896       0.065981   \n",
              "\n",
              "                             default       age  \n",
              "client_income              -0.020530 -0.048949  \n",
              "car_owned                  -0.024320 -0.128419  \n",
              "bike_owned                 -0.001057  0.005659  \n",
              "active_loan                 0.005592  0.004345  \n",
              "house_own                   0.003841  0.114988  \n",
              "child_count                 0.020880 -0.316843  \n",
              "credit_amount              -0.030076  0.050677  \n",
              "loan_annuity               -0.012467 -0.009909  \n",
              "population_region_relative -0.002453  0.000110  \n",
              "age_days                   -0.074116  0.999692  \n",
              "employed_days              -0.043096  0.603183  \n",
              "registration_days          -0.038884  0.315346  \n",
              "id_days                    -0.053931  0.263163  \n",
              "mobile_tag                       NaN       NaN  \n",
              "homephone_tag               0.019684 -0.163278  \n",
              "workphone_working          -0.029051  0.039272  \n",
              "client_family_members       0.011761 -0.271821  \n",
              "cleint_city_rating          0.056136 -0.006504  \n",
              "application_process_day     0.007212  0.009732  \n",
              "application_process_hour   -0.019681 -0.083725  \n",
              "score_source_2             -0.062820  0.034228  \n",
              "phone_change               -0.051696  0.076896  \n",
              "credit_bureau               0.020254  0.065981  \n",
              "default                     1.000000 -0.074057  \n",
              "age                        -0.074057  1.000000  \n",
              "\n",
              "[25 rows x 25 columns]"
            ],
            "text/html": [
              "\n",
              "  <div id=\"df-78a2be27-9c78-48af-aaba-7932d24eb84d\">\n",
              "    <div class=\"colab-df-container\">\n",
              "      <div>\n",
              "<style scoped>\n",
              "    .dataframe tbody tr th:only-of-type {\n",
              "        vertical-align: middle;\n",
              "    }\n",
              "\n",
              "    .dataframe tbody tr th {\n",
              "        vertical-align: top;\n",
              "    }\n",
              "\n",
              "    .dataframe thead th {\n",
              "        text-align: right;\n",
              "    }\n",
              "</style>\n",
              "<table border=\"1\" class=\"dataframe\">\n",
              "  <thead>\n",
              "    <tr style=\"text-align: right;\">\n",
              "      <th></th>\n",
              "      <th>client_income</th>\n",
              "      <th>car_owned</th>\n",
              "      <th>bike_owned</th>\n",
              "      <th>active_loan</th>\n",
              "      <th>house_own</th>\n",
              "      <th>child_count</th>\n",
              "      <th>credit_amount</th>\n",
              "      <th>loan_annuity</th>\n",
              "      <th>population_region_relative</th>\n",
              "      <th>age_days</th>\n",
              "      <th>...</th>\n",
              "      <th>workphone_working</th>\n",
              "      <th>client_family_members</th>\n",
              "      <th>cleint_city_rating</th>\n",
              "      <th>application_process_day</th>\n",
              "      <th>application_process_hour</th>\n",
              "      <th>score_source_2</th>\n",
              "      <th>phone_change</th>\n",
              "      <th>credit_bureau</th>\n",
              "      <th>default</th>\n",
              "      <th>age</th>\n",
              "    </tr>\n",
              "  </thead>\n",
              "  <tbody>\n",
              "    <tr>\n",
              "      <th>client_income</th>\n",
              "      <td>1.000000</td>\n",
              "      <td>0.153050</td>\n",
              "      <td>-0.006272</td>\n",
              "      <td>0.004427</td>\n",
              "      <td>0.004820</td>\n",
              "      <td>0.025212</td>\n",
              "      <td>0.293063</td>\n",
              "      <td>0.359123</td>\n",
              "      <td>-0.000367</td>\n",
              "      <td>-0.048979</td>\n",
              "      <td>...</td>\n",
              "      <td>-0.003807</td>\n",
              "      <td>0.028790</td>\n",
              "      <td>-0.172029</td>\n",
              "      <td>0.001515</td>\n",
              "      <td>0.071451</td>\n",
              "      <td>0.050795</td>\n",
              "      <td>0.033532</td>\n",
              "      <td>0.021817</td>\n",
              "      <td>-0.020530</td>\n",
              "      <td>-0.048949</td>\n",
              "    </tr>\n",
              "    <tr>\n",
              "      <th>car_owned</th>\n",
              "      <td>0.153050</td>\n",
              "      <td>1.000000</td>\n",
              "      <td>-0.000820</td>\n",
              "      <td>-0.001128</td>\n",
              "      <td>-0.009502</td>\n",
              "      <td>0.099390</td>\n",
              "      <td>0.108980</td>\n",
              "      <td>0.134306</td>\n",
              "      <td>-0.003209</td>\n",
              "      <td>-0.128647</td>\n",
              "      <td>...</td>\n",
              "      <td>-0.009908</td>\n",
              "      <td>0.146732</td>\n",
              "      <td>-0.022646</td>\n",
              "      <td>-0.002353</td>\n",
              "      <td>0.013553</td>\n",
              "      <td>0.027060</td>\n",
              "      <td>0.033000</td>\n",
              "      <td>-0.040366</td>\n",
              "      <td>-0.024320</td>\n",
              "      <td>-0.128419</td>\n",
              "    </tr>\n",
              "    <tr>\n",
              "      <th>bike_owned</th>\n",
              "      <td>-0.006272</td>\n",
              "      <td>-0.000820</td>\n",
              "      <td>1.000000</td>\n",
              "      <td>-0.000570</td>\n",
              "      <td>0.002497</td>\n",
              "      <td>0.000032</td>\n",
              "      <td>0.000789</td>\n",
              "      <td>-0.006316</td>\n",
              "      <td>0.008342</td>\n",
              "      <td>0.005650</td>\n",
              "      <td>...</td>\n",
              "      <td>-0.008683</td>\n",
              "      <td>0.001408</td>\n",
              "      <td>0.003553</td>\n",
              "      <td>-0.003889</td>\n",
              "      <td>-0.000128</td>\n",
              "      <td>0.004654</td>\n",
              "      <td>-0.000811</td>\n",
              "      <td>-0.002318</td>\n",
              "      <td>-0.001057</td>\n",
              "      <td>0.005659</td>\n",
              "    </tr>\n",
              "    <tr>\n",
              "      <th>active_loan</th>\n",
              "      <td>0.004427</td>\n",
              "      <td>-0.001128</td>\n",
              "      <td>-0.000570</td>\n",
              "      <td>1.000000</td>\n",
              "      <td>-0.006854</td>\n",
              "      <td>0.003915</td>\n",
              "      <td>0.001821</td>\n",
              "      <td>-0.000670</td>\n",
              "      <td>0.005997</td>\n",
              "      <td>0.004534</td>\n",
              "      <td>...</td>\n",
              "      <td>-0.001677</td>\n",
              "      <td>0.002257</td>\n",
              "      <td>0.000458</td>\n",
              "      <td>0.000209</td>\n",
              "      <td>0.001449</td>\n",
              "      <td>-0.004740</td>\n",
              "      <td>0.007470</td>\n",
              "      <td>0.009183</td>\n",
              "      <td>0.005592</td>\n",
              "      <td>0.004345</td>\n",
              "    </tr>\n",
              "    <tr>\n",
              "      <th>house_own</th>\n",
              "      <td>0.004820</td>\n",
              "      <td>-0.009502</td>\n",
              "      <td>0.002497</td>\n",
              "      <td>-0.006854</td>\n",
              "      <td>1.000000</td>\n",
              "      <td>-0.004541</td>\n",
              "      <td>-0.039185</td>\n",
              "      <td>-0.005191</td>\n",
              "      <td>0.004114</td>\n",
              "      <td>0.115145</td>\n",
              "      <td>...</td>\n",
              "      <td>-0.038784</td>\n",
              "      <td>0.006072</td>\n",
              "      <td>0.001988</td>\n",
              "      <td>0.011932</td>\n",
              "      <td>-0.101274</td>\n",
              "      <td>0.002633</td>\n",
              "      <td>-0.021647</td>\n",
              "      <td>0.062929</td>\n",
              "      <td>0.003841</td>\n",
              "      <td>0.114988</td>\n",
              "    </tr>\n",
              "    <tr>\n",
              "      <th>child_count</th>\n",
              "      <td>0.025212</td>\n",
              "      <td>0.099390</td>\n",
              "      <td>0.000032</td>\n",
              "      <td>0.003915</td>\n",
              "      <td>-0.004541</td>\n",
              "      <td>1.000000</td>\n",
              "      <td>0.001543</td>\n",
              "      <td>0.022463</td>\n",
              "      <td>-0.003876</td>\n",
              "      <td>-0.316940</td>\n",
              "      <td>...</td>\n",
              "      <td>-0.028522</td>\n",
              "      <td>0.848084</td>\n",
              "      <td>0.022415</td>\n",
              "      <td>-0.000569</td>\n",
              "      <td>-0.010073</td>\n",
              "      <td>-0.009528</td>\n",
              "      <td>0.011978</td>\n",
              "      <td>-0.037652</td>\n",
              "      <td>0.020880</td>\n",
              "      <td>-0.316843</td>\n",
              "    </tr>\n",
              "    <tr>\n",
              "      <th>credit_amount</th>\n",
              "      <td>0.293063</td>\n",
              "      <td>0.108980</td>\n",
              "      <td>0.000789</td>\n",
              "      <td>0.001821</td>\n",
              "      <td>-0.039185</td>\n",
              "      <td>0.001543</td>\n",
              "      <td>1.000000</td>\n",
              "      <td>0.741648</td>\n",
              "      <td>-0.002655</td>\n",
              "      <td>0.050666</td>\n",
              "      <td>...</td>\n",
              "      <td>0.030739</td>\n",
              "      <td>0.059294</td>\n",
              "      <td>-0.111237</td>\n",
              "      <td>-0.005958</td>\n",
              "      <td>0.047207</td>\n",
              "      <td>0.049656</td>\n",
              "      <td>0.065317</td>\n",
              "      <td>-0.045055</td>\n",
              "      <td>-0.030076</td>\n",
              "      <td>0.050677</td>\n",
              "    </tr>\n",
              "    <tr>\n",
              "      <th>loan_annuity</th>\n",
              "      <td>0.359123</td>\n",
              "      <td>0.134306</td>\n",
              "      <td>-0.006316</td>\n",
              "      <td>-0.000670</td>\n",
              "      <td>-0.005191</td>\n",
              "      <td>0.022463</td>\n",
              "      <td>0.741648</td>\n",
              "      <td>1.000000</td>\n",
              "      <td>-0.001778</td>\n",
              "      <td>-0.009861</td>\n",
              "      <td>...</td>\n",
              "      <td>0.012172</td>\n",
              "      <td>0.072609</td>\n",
              "      <td>-0.138245</td>\n",
              "      <td>0.003037</td>\n",
              "      <td>0.049790</td>\n",
              "      <td>0.048818</td>\n",
              "      <td>0.053999</td>\n",
              "      <td>-0.013861</td>\n",
              "      <td>-0.012467</td>\n",
              "      <td>-0.009909</td>\n",
              "    </tr>\n",
              "    <tr>\n",
              "      <th>population_region_relative</th>\n",
              "      <td>-0.000367</td>\n",
              "      <td>-0.003209</td>\n",
              "      <td>0.008342</td>\n",
              "      <td>0.005997</td>\n",
              "      <td>0.004114</td>\n",
              "      <td>-0.003876</td>\n",
              "      <td>-0.002655</td>\n",
              "      <td>-0.001778</td>\n",
              "      <td>1.000000</td>\n",
              "      <td>0.000166</td>\n",
              "      <td>...</td>\n",
              "      <td>0.004962</td>\n",
              "      <td>-0.001561</td>\n",
              "      <td>-0.012472</td>\n",
              "      <td>0.001113</td>\n",
              "      <td>0.007401</td>\n",
              "      <td>0.002102</td>\n",
              "      <td>-0.000324</td>\n",
              "      <td>-0.003057</td>\n",
              "      <td>-0.002453</td>\n",
              "      <td>0.000110</td>\n",
              "    </tr>\n",
              "    <tr>\n",
              "      <th>age_days</th>\n",
              "      <td>-0.048979</td>\n",
              "      <td>-0.128647</td>\n",
              "      <td>0.005650</td>\n",
              "      <td>0.004534</td>\n",
              "      <td>0.115145</td>\n",
              "      <td>-0.316940</td>\n",
              "      <td>0.050666</td>\n",
              "      <td>-0.009861</td>\n",
              "      <td>0.000166</td>\n",
              "      <td>1.000000</td>\n",
              "      <td>...</td>\n",
              "      <td>0.039287</td>\n",
              "      <td>-0.271835</td>\n",
              "      <td>-0.006540</td>\n",
              "      <td>0.009954</td>\n",
              "      <td>-0.083914</td>\n",
              "      <td>0.034209</td>\n",
              "      <td>0.077089</td>\n",
              "      <td>0.065878</td>\n",
              "      <td>-0.074116</td>\n",
              "      <td>0.999692</td>\n",
              "    </tr>\n",
              "    <tr>\n",
              "      <th>employed_days</th>\n",
              "      <td>-0.121977</td>\n",
              "      <td>-0.152791</td>\n",
              "      <td>0.002831</td>\n",
              "      <td>0.004106</td>\n",
              "      <td>0.067229</td>\n",
              "      <td>-0.230786</td>\n",
              "      <td>-0.069734</td>\n",
              "      <td>-0.106761</td>\n",
              "      <td>-0.002890</td>\n",
              "      <td>0.603286</td>\n",
              "      <td>...</td>\n",
              "      <td>0.015857</td>\n",
              "      <td>-0.228200</td>\n",
              "      <td>0.037782</td>\n",
              "      <td>0.005309</td>\n",
              "      <td>-0.084270</td>\n",
              "      <td>-0.009758</td>\n",
              "      <td>-0.023108</td>\n",
              "      <td>0.039172</td>\n",
              "      <td>-0.043096</td>\n",
              "      <td>0.603183</td>\n",
              "    </tr>\n",
              "    <tr>\n",
              "      <th>registration_days</th>\n",
              "      <td>-0.053916</td>\n",
              "      <td>-0.079600</td>\n",
              "      <td>-0.001005</td>\n",
              "      <td>0.002102</td>\n",
              "      <td>0.022937</td>\n",
              "      <td>-0.169550</td>\n",
              "      <td>-0.009280</td>\n",
              "      <td>-0.036238</td>\n",
              "      <td>0.000714</td>\n",
              "      <td>0.315471</td>\n",
              "      <td>...</td>\n",
              "      <td>0.068283</td>\n",
              "      <td>-0.162201</td>\n",
              "      <td>-0.068951</td>\n",
              "      <td>0.000381</td>\n",
              "      <td>0.014239</td>\n",
              "      <td>0.023327</td>\n",
              "      <td>0.049952</td>\n",
              "      <td>0.020090</td>\n",
              "      <td>-0.038884</td>\n",
              "      <td>0.315346</td>\n",
              "    </tr>\n",
              "    <tr>\n",
              "      <th>id_days</th>\n",
              "      <td>-0.020676</td>\n",
              "      <td>-0.013238</td>\n",
              "      <td>0.005094</td>\n",
              "      <td>0.004294</td>\n",
              "      <td>-0.007348</td>\n",
              "      <td>0.022610</td>\n",
              "      <td>0.002948</td>\n",
              "      <td>-0.012334</td>\n",
              "      <td>0.002637</td>\n",
              "      <td>0.263630</td>\n",
              "      <td>...</td>\n",
              "      <td>0.036070</td>\n",
              "      <td>0.013024</td>\n",
              "      <td>0.008616</td>\n",
              "      <td>0.000945</td>\n",
              "      <td>-0.020888</td>\n",
              "      <td>0.022998</td>\n",
              "      <td>0.084828</td>\n",
              "      <td>0.031921</td>\n",
              "      <td>-0.053931</td>\n",
              "      <td>0.263163</td>\n",
              "    </tr>\n",
              "    <tr>\n",
              "      <th>mobile_tag</th>\n",
              "      <td>NaN</td>\n",
              "      <td>NaN</td>\n",
              "      <td>NaN</td>\n",
              "      <td>NaN</td>\n",
              "      <td>NaN</td>\n",
              "      <td>NaN</td>\n",
              "      <td>NaN</td>\n",
              "      <td>NaN</td>\n",
              "      <td>NaN</td>\n",
              "      <td>NaN</td>\n",
              "      <td>...</td>\n",
              "      <td>NaN</td>\n",
              "      <td>NaN</td>\n",
              "      <td>NaN</td>\n",
              "      <td>NaN</td>\n",
              "      <td>NaN</td>\n",
              "      <td>NaN</td>\n",
              "      <td>NaN</td>\n",
              "      <td>NaN</td>\n",
              "      <td>NaN</td>\n",
              "      <td>NaN</td>\n",
              "    </tr>\n",
              "    <tr>\n",
              "      <th>homephone_tag</th>\n",
              "      <td>-0.037740</td>\n",
              "      <td>0.011527</td>\n",
              "      <td>-0.004599</td>\n",
              "      <td>-0.001577</td>\n",
              "      <td>-0.109382</td>\n",
              "      <td>0.049810</td>\n",
              "      <td>-0.021965</td>\n",
              "      <td>-0.029764</td>\n",
              "      <td>-0.003375</td>\n",
              "      <td>-0.163270</td>\n",
              "      <td>...</td>\n",
              "      <td>0.290636</td>\n",
              "      <td>0.063485</td>\n",
              "      <td>0.013244</td>\n",
              "      <td>-0.019338</td>\n",
              "      <td>0.038043</td>\n",
              "      <td>-0.010037</td>\n",
              "      <td>0.051008</td>\n",
              "      <td>-0.069109</td>\n",
              "      <td>0.019684</td>\n",
              "      <td>-0.163278</td>\n",
              "    </tr>\n",
              "    <tr>\n",
              "      <th>workphone_working</th>\n",
              "      <td>-0.003807</td>\n",
              "      <td>-0.009908</td>\n",
              "      <td>-0.008683</td>\n",
              "      <td>-0.001677</td>\n",
              "      <td>-0.038784</td>\n",
              "      <td>-0.028522</td>\n",
              "      <td>0.030739</td>\n",
              "      <td>0.012172</td>\n",
              "      <td>0.004962</td>\n",
              "      <td>0.039287</td>\n",
              "      <td>...</td>\n",
              "      <td>1.000000</td>\n",
              "      <td>-0.015689</td>\n",
              "      <td>-0.074206</td>\n",
              "      <td>-0.012994</td>\n",
              "      <td>0.058735</td>\n",
              "      <td>0.021696</td>\n",
              "      <td>0.066285</td>\n",
              "      <td>-0.028379</td>\n",
              "      <td>-0.029051</td>\n",
              "      <td>0.039272</td>\n",
              "    </tr>\n",
              "    <tr>\n",
              "      <th>client_family_members</th>\n",
              "      <td>0.028790</td>\n",
              "      <td>0.146732</td>\n",
              "      <td>0.001408</td>\n",
              "      <td>0.002257</td>\n",
              "      <td>0.006072</td>\n",
              "      <td>0.848084</td>\n",
              "      <td>0.059294</td>\n",
              "      <td>0.072609</td>\n",
              "      <td>-0.001561</td>\n",
              "      <td>-0.271835</td>\n",
              "      <td>...</td>\n",
              "      <td>-0.015689</td>\n",
              "      <td>1.000000</td>\n",
              "      <td>0.031171</td>\n",
              "      <td>0.002826</td>\n",
              "      <td>-0.017502</td>\n",
              "      <td>-0.002097</td>\n",
              "      <td>0.032836</td>\n",
              "      <td>-0.028224</td>\n",
              "      <td>0.011761</td>\n",
              "      <td>-0.271821</td>\n",
              "    </tr>\n",
              "    <tr>\n",
              "      <th>cleint_city_rating</th>\n",
              "      <td>-0.172029</td>\n",
              "      <td>-0.022646</td>\n",
              "      <td>0.003553</td>\n",
              "      <td>0.000458</td>\n",
              "      <td>0.001988</td>\n",
              "      <td>0.022415</td>\n",
              "      <td>-0.111237</td>\n",
              "      <td>-0.138245</td>\n",
              "      <td>-0.012472</td>\n",
              "      <td>-0.006540</td>\n",
              "      <td>...</td>\n",
              "      <td>-0.074206</td>\n",
              "      <td>0.031171</td>\n",
              "      <td>1.000000</td>\n",
              "      <td>0.007981</td>\n",
              "      <td>-0.262748</td>\n",
              "      <td>-0.115646</td>\n",
              "      <td>-0.019878</td>\n",
              "      <td>0.012005</td>\n",
              "      <td>0.056136</td>\n",
              "      <td>-0.006504</td>\n",
              "    </tr>\n",
              "    <tr>\n",
              "      <th>application_process_day</th>\n",
              "      <td>0.001515</td>\n",
              "      <td>-0.002353</td>\n",
              "      <td>-0.003889</td>\n",
              "      <td>0.000209</td>\n",
              "      <td>0.011932</td>\n",
              "      <td>-0.000569</td>\n",
              "      <td>-0.005958</td>\n",
              "      <td>0.003037</td>\n",
              "      <td>0.001113</td>\n",
              "      <td>0.009954</td>\n",
              "      <td>...</td>\n",
              "      <td>-0.012994</td>\n",
              "      <td>0.002826</td>\n",
              "      <td>0.007981</td>\n",
              "      <td>1.000000</td>\n",
              "      <td>-0.028935</td>\n",
              "      <td>-0.004874</td>\n",
              "      <td>-0.004818</td>\n",
              "      <td>-0.000805</td>\n",
              "      <td>0.007212</td>\n",
              "      <td>0.009732</td>\n",
              "    </tr>\n",
              "    <tr>\n",
              "      <th>application_process_hour</th>\n",
              "      <td>0.071451</td>\n",
              "      <td>0.013553</td>\n",
              "      <td>-0.000128</td>\n",
              "      <td>0.001449</td>\n",
              "      <td>-0.101274</td>\n",
              "      <td>-0.010073</td>\n",
              "      <td>0.047207</td>\n",
              "      <td>0.049790</td>\n",
              "      <td>0.007401</td>\n",
              "      <td>-0.083914</td>\n",
              "      <td>...</td>\n",
              "      <td>0.058735</td>\n",
              "      <td>-0.017502</td>\n",
              "      <td>-0.262748</td>\n",
              "      <td>-0.028935</td>\n",
              "      <td>1.000000</td>\n",
              "      <td>0.063326</td>\n",
              "      <td>0.010456</td>\n",
              "      <td>-0.025207</td>\n",
              "      <td>-0.019681</td>\n",
              "      <td>-0.083725</td>\n",
              "    </tr>\n",
              "    <tr>\n",
              "      <th>score_source_2</th>\n",
              "      <td>0.050795</td>\n",
              "      <td>0.027060</td>\n",
              "      <td>0.004654</td>\n",
              "      <td>-0.004740</td>\n",
              "      <td>0.002633</td>\n",
              "      <td>-0.009528</td>\n",
              "      <td>0.049656</td>\n",
              "      <td>0.048818</td>\n",
              "      <td>0.002102</td>\n",
              "      <td>0.034209</td>\n",
              "      <td>...</td>\n",
              "      <td>0.021696</td>\n",
              "      <td>-0.002097</td>\n",
              "      <td>-0.115646</td>\n",
              "      <td>-0.004874</td>\n",
              "      <td>0.063326</td>\n",
              "      <td>1.000000</td>\n",
              "      <td>0.074825</td>\n",
              "      <td>-0.009722</td>\n",
              "      <td>-0.062820</td>\n",
              "      <td>0.034228</td>\n",
              "    </tr>\n",
              "    <tr>\n",
              "      <th>phone_change</th>\n",
              "      <td>0.033532</td>\n",
              "      <td>0.033000</td>\n",
              "      <td>-0.000811</td>\n",
              "      <td>0.007470</td>\n",
              "      <td>-0.021647</td>\n",
              "      <td>0.011978</td>\n",
              "      <td>0.065317</td>\n",
              "      <td>0.053999</td>\n",
              "      <td>-0.000324</td>\n",
              "      <td>0.077089</td>\n",
              "      <td>...</td>\n",
              "      <td>0.066285</td>\n",
              "      <td>0.032836</td>\n",
              "      <td>-0.019878</td>\n",
              "      <td>-0.004818</td>\n",
              "      <td>0.010456</td>\n",
              "      <td>0.074825</td>\n",
              "      <td>1.000000</td>\n",
              "      <td>0.100455</td>\n",
              "      <td>-0.051696</td>\n",
              "      <td>0.076896</td>\n",
              "    </tr>\n",
              "    <tr>\n",
              "      <th>credit_bureau</th>\n",
              "      <td>0.021817</td>\n",
              "      <td>-0.040366</td>\n",
              "      <td>-0.002318</td>\n",
              "      <td>0.009183</td>\n",
              "      <td>0.062929</td>\n",
              "      <td>-0.037652</td>\n",
              "      <td>-0.045055</td>\n",
              "      <td>-0.013861</td>\n",
              "      <td>-0.003057</td>\n",
              "      <td>0.065878</td>\n",
              "      <td>...</td>\n",
              "      <td>-0.028379</td>\n",
              "      <td>-0.028224</td>\n",
              "      <td>0.012005</td>\n",
              "      <td>-0.000805</td>\n",
              "      <td>-0.025207</td>\n",
              "      <td>-0.009722</td>\n",
              "      <td>0.100455</td>\n",
              "      <td>1.000000</td>\n",
              "      <td>0.020254</td>\n",
              "      <td>0.065981</td>\n",
              "    </tr>\n",
              "    <tr>\n",
              "      <th>default</th>\n",
              "      <td>-0.020530</td>\n",
              "      <td>-0.024320</td>\n",
              "      <td>-0.001057</td>\n",
              "      <td>0.005592</td>\n",
              "      <td>0.003841</td>\n",
              "      <td>0.020880</td>\n",
              "      <td>-0.030076</td>\n",
              "      <td>-0.012467</td>\n",
              "      <td>-0.002453</td>\n",
              "      <td>-0.074116</td>\n",
              "      <td>...</td>\n",
              "      <td>-0.029051</td>\n",
              "      <td>0.011761</td>\n",
              "      <td>0.056136</td>\n",
              "      <td>0.007212</td>\n",
              "      <td>-0.019681</td>\n",
              "      <td>-0.062820</td>\n",
              "      <td>-0.051696</td>\n",
              "      <td>0.020254</td>\n",
              "      <td>1.000000</td>\n",
              "      <td>-0.074057</td>\n",
              "    </tr>\n",
              "    <tr>\n",
              "      <th>age</th>\n",
              "      <td>-0.048949</td>\n",
              "      <td>-0.128419</td>\n",
              "      <td>0.005659</td>\n",
              "      <td>0.004345</td>\n",
              "      <td>0.114988</td>\n",
              "      <td>-0.316843</td>\n",
              "      <td>0.050677</td>\n",
              "      <td>-0.009909</td>\n",
              "      <td>0.000110</td>\n",
              "      <td>0.999692</td>\n",
              "      <td>...</td>\n",
              "      <td>0.039272</td>\n",
              "      <td>-0.271821</td>\n",
              "      <td>-0.006504</td>\n",
              "      <td>0.009732</td>\n",
              "      <td>-0.083725</td>\n",
              "      <td>0.034228</td>\n",
              "      <td>0.076896</td>\n",
              "      <td>0.065981</td>\n",
              "      <td>-0.074057</td>\n",
              "      <td>1.000000</td>\n",
              "    </tr>\n",
              "  </tbody>\n",
              "</table>\n",
              "<p>25 rows × 25 columns</p>\n",
              "</div>\n",
              "      <button class=\"colab-df-convert\" onclick=\"convertToInteractive('df-78a2be27-9c78-48af-aaba-7932d24eb84d')\"\n",
              "              title=\"Convert this dataframe to an interactive table.\"\n",
              "              style=\"display:none;\">\n",
              "        \n",
              "  <svg xmlns=\"http://www.w3.org/2000/svg\" height=\"24px\"viewBox=\"0 0 24 24\"\n",
              "       width=\"24px\">\n",
              "    <path d=\"M0 0h24v24H0V0z\" fill=\"none\"/>\n",
              "    <path d=\"M18.56 5.44l.94 2.06.94-2.06 2.06-.94-2.06-.94-.94-2.06-.94 2.06-2.06.94zm-11 1L8.5 8.5l.94-2.06 2.06-.94-2.06-.94L8.5 2.5l-.94 2.06-2.06.94zm10 10l.94 2.06.94-2.06 2.06-.94-2.06-.94-.94-2.06-.94 2.06-2.06.94z\"/><path d=\"M17.41 7.96l-1.37-1.37c-.4-.4-.92-.59-1.43-.59-.52 0-1.04.2-1.43.59L10.3 9.45l-7.72 7.72c-.78.78-.78 2.05 0 2.83L4 21.41c.39.39.9.59 1.41.59.51 0 1.02-.2 1.41-.59l7.78-7.78 2.81-2.81c.8-.78.8-2.07 0-2.86zM5.41 20L4 18.59l7.72-7.72 1.47 1.35L5.41 20z\"/>\n",
              "  </svg>\n",
              "      </button>\n",
              "      \n",
              "  <style>\n",
              "    .colab-df-container {\n",
              "      display:flex;\n",
              "      flex-wrap:wrap;\n",
              "      gap: 12px;\n",
              "    }\n",
              "\n",
              "    .colab-df-convert {\n",
              "      background-color: #E8F0FE;\n",
              "      border: none;\n",
              "      border-radius: 50%;\n",
              "      cursor: pointer;\n",
              "      display: none;\n",
              "      fill: #1967D2;\n",
              "      height: 32px;\n",
              "      padding: 0 0 0 0;\n",
              "      width: 32px;\n",
              "    }\n",
              "\n",
              "    .colab-df-convert:hover {\n",
              "      background-color: #E2EBFA;\n",
              "      box-shadow: 0px 1px 2px rgba(60, 64, 67, 0.3), 0px 1px 3px 1px rgba(60, 64, 67, 0.15);\n",
              "      fill: #174EA6;\n",
              "    }\n",
              "\n",
              "    [theme=dark] .colab-df-convert {\n",
              "      background-color: #3B4455;\n",
              "      fill: #D2E3FC;\n",
              "    }\n",
              "\n",
              "    [theme=dark] .colab-df-convert:hover {\n",
              "      background-color: #434B5C;\n",
              "      box-shadow: 0px 1px 3px 1px rgba(0, 0, 0, 0.15);\n",
              "      filter: drop-shadow(0px 1px 2px rgba(0, 0, 0, 0.3));\n",
              "      fill: #FFFFFF;\n",
              "    }\n",
              "  </style>\n",
              "\n",
              "      <script>\n",
              "        const buttonEl =\n",
              "          document.querySelector('#df-78a2be27-9c78-48af-aaba-7932d24eb84d button.colab-df-convert');\n",
              "        buttonEl.style.display =\n",
              "          google.colab.kernel.accessAllowed ? 'block' : 'none';\n",
              "\n",
              "        async function convertToInteractive(key) {\n",
              "          const element = document.querySelector('#df-78a2be27-9c78-48af-aaba-7932d24eb84d');\n",
              "          const dataTable =\n",
              "            await google.colab.kernel.invokeFunction('convertToInteractive',\n",
              "                                                     [key], {});\n",
              "          if (!dataTable) return;\n",
              "\n",
              "          const docLinkHtml = 'Like what you see? Visit the ' +\n",
              "            '<a target=\"_blank\" href=https://colab.research.google.com/notebooks/data_table.ipynb>data table notebook</a>'\n",
              "            + ' to learn more about interactive tables.';\n",
              "          element.innerHTML = '';\n",
              "          dataTable['output_type'] = 'display_data';\n",
              "          await google.colab.output.renderOutput(dataTable, element);\n",
              "          const docLink = document.createElement('div');\n",
              "          docLink.innerHTML = docLinkHtml;\n",
              "          element.appendChild(docLink);\n",
              "        }\n",
              "      </script>\n",
              "    </div>\n",
              "  </div>\n",
              "  "
            ]
          },
          "metadata": {},
          "execution_count": 54
        }
      ]
    },
    {
      "cell_type": "markdown",
      "source": [
        "## **C) Multi-variate Analysis**"
      ],
      "metadata": {
        "id": "xGn_QBIPdtND"
      }
    },
    {
      "cell_type": "code",
      "source": [
        "#Plotting a heat map to show correlation between the variables\n",
        "plt.figure(figsize=(30,20))\n",
        "sns.heatmap(df.corr(),annot=True,cmap=\"Reds\",fmt=\".2f\");\n",
        "plt.show()"
      ],
      "metadata": {
        "colab": {
          "base_uri": "https://localhost:8080/",
          "height": 837
        },
        "id": "xTF6mxo3dw1H",
        "outputId": "4800f797-dfbc-45bb-bf70-0e18141272b2"
      },
      "execution_count": null,
      "outputs": [
        {
          "output_type": "display_data",
          "data": {
            "text/plain": [
              "<Figure size 2160x1440 with 2 Axes>"
            ],
            "image/png": "[encoded data removed]"
          },
          "metadata": {
            "needs_background": "light"
          }
        }
      ]
    },
    {
      "cell_type": "markdown",
      "source": [
        "The following are the standout correlations;\n",
        "\n",
        "Coefficient of one accross the diagonal shows that a variable perfectly correlates to itself\n",
        "\n",
        "There is a strong positive correlation(0.85) between child count and client family members\n",
        "\n",
        "There is a string positive correlation (0.6) between age in days and employed days\n",
        "\n",
        "There is a weak positive correlation (0.39) between client income and loan annuity\n",
        "\n",
        "There is a weak positive correlation (0.32) between client income and credit amount\n",
        "\n",
        "The other features have zero and weak correlations between each other"
      ],
      "metadata": {
        "id": "8PN7poPQd0kp"
      }
    },
    {
      "cell_type": "code",
      "source": [
        "df.head(2)"
      ],
      "metadata": {
        "colab": {
          "base_uri": "https://localhost:8080/",
          "height": 205
        },
        "id": "iM-3liVId3h4",
        "outputId": "0cd88ecc-e7f2-48a2-eed2-d667a1f4b402"
      },
      "execution_count": null,
      "outputs": [
        {
          "output_type": "execute_result",
          "data": {
            "text/plain": [
              "   client_income  car_owned  bike_owned  active_loan  house_own  child_count  \\\n",
              "0         6750.0        0.0         0.0          1.0        0.0          0.0   \n",
              "1        20250.0        1.0         0.0          1.0        1.0          0.0   \n",
              "\n",
              "   credit_amount  loan_annuity accompany_client client_income_type  ...  \\\n",
              "0       61190.55       3416.85            Alone         Commercial  ...   \n",
              "1       15282.00       1826.55            Alone            Service  ...   \n",
              "\n",
              "  application_process_day application_process_hour client_permanent_match_tag  \\\n",
              "0                     6.0                     17.0                        Yes   \n",
              "1                     3.0                     10.0                        Yes   \n",
              "\n",
              "  client_contact_work_tag type_organization  score_source_2  phone_change  \\\n",
              "0                     Yes     Self-employed        0.478787          63.0   \n",
              "1                     Yes        Government        0.215068           0.0   \n",
              "\n",
              "   credit_bureau  default  age  \n",
              "0       1.892904      0.0   38  \n",
              "1       1.892904      0.0   38  \n",
              "\n",
              "[2 rows x 36 columns]"
            ],
            "text/html": [
              "\n",
              "  <div id=\"df-c8fdfa63-6c1c-431a-b132-a99962a58f4e\">\n",
              "    <div class=\"colab-df-container\">\n",
              "      <div>\n",
              "<style scoped>\n",
              "    .dataframe tbody tr th:only-of-type {\n",
              "        vertical-align: middle;\n",
              "    }\n",
              "\n",
              "    .dataframe tbody tr th {\n",
              "        vertical-align: top;\n",
              "    }\n",
              "\n",
              "    .dataframe thead th {\n",
              "        text-align: right;\n",
              "    }\n",
              "</style>\n",
              "<table border=\"1\" class=\"dataframe\">\n",
              "  <thead>\n",
              "    <tr style=\"text-align: right;\">\n",
              "      <th></th>\n",
              "      <th>client_income</th>\n",
              "      <th>car_owned</th>\n",
              "      <th>bike_owned</th>\n",
              "      <th>active_loan</th>\n",
              "      <th>house_own</th>\n",
              "      <th>child_count</th>\n",
              "      <th>credit_amount</th>\n",
              "      <th>loan_annuity</th>\n",
              "      <th>accompany_client</th>\n",
              "      <th>client_income_type</th>\n",
              "      <th>...</th>\n",
              "      <th>application_process_day</th>\n",
              "      <th>application_process_hour</th>\n",
              "      <th>client_permanent_match_tag</th>\n",
              "      <th>client_contact_work_tag</th>\n",
              "      <th>type_organization</th>\n",
              "      <th>score_source_2</th>\n",
              "      <th>phone_change</th>\n",
              "      <th>credit_bureau</th>\n",
              "      <th>default</th>\n",
              "      <th>age</th>\n",
              "    </tr>\n",
              "  </thead>\n",
              "  <tbody>\n",
              "    <tr>\n",
              "      <th>0</th>\n",
              "      <td>6750.0</td>\n",
              "      <td>0.0</td>\n",
              "      <td>0.0</td>\n",
              "      <td>1.0</td>\n",
              "      <td>0.0</td>\n",
              "      <td>0.0</td>\n",
              "      <td>61190.55</td>\n",
              "      <td>3416.85</td>\n",
              "      <td>Alone</td>\n",
              "      <td>Commercial</td>\n",
              "      <td>...</td>\n",
              "      <td>6.0</td>\n",
              "      <td>17.0</td>\n",
              "      <td>Yes</td>\n",
              "      <td>Yes</td>\n",
              "      <td>Self-employed</td>\n",
              "      <td>0.478787</td>\n",
              "      <td>63.0</td>\n",
              "      <td>1.892904</td>\n",
              "      <td>0.0</td>\n",
              "      <td>38</td>\n",
              "    </tr>\n",
              "    <tr>\n",
              "      <th>1</th>\n",
              "      <td>20250.0</td>\n",
              "      <td>1.0</td>\n",
              "      <td>0.0</td>\n",
              "      <td>1.0</td>\n",
              "      <td>1.0</td>\n",
              "      <td>0.0</td>\n",
              "      <td>15282.00</td>\n",
              "      <td>1826.55</td>\n",
              "      <td>Alone</td>\n",
              "      <td>Service</td>\n",
              "      <td>...</td>\n",
              "      <td>3.0</td>\n",
              "      <td>10.0</td>\n",
              "      <td>Yes</td>\n",
              "      <td>Yes</td>\n",
              "      <td>Government</td>\n",
              "      <td>0.215068</td>\n",
              "      <td>0.0</td>\n",
              "      <td>1.892904</td>\n",
              "      <td>0.0</td>\n",
              "      <td>38</td>\n",
              "    </tr>\n",
              "  </tbody>\n",
              "</table>\n",
              "<p>2 rows × 36 columns</p>\n",
              "</div>\n",
              "      <button class=\"colab-df-convert\" onclick=\"convertToInteractive('df-c8fdfa63-6c1c-431a-b132-a99962a58f4e')\"\n",
              "              title=\"Convert this dataframe to an interactive table.\"\n",
              "              style=\"display:none;\">\n",
              "        \n",
              "  <svg xmlns=\"http://www.w3.org/2000/svg\" height=\"24px\"viewBox=\"0 0 24 24\"\n",
              "       width=\"24px\">\n",
              "    <path d=\"M0 0h24v24H0V0z\" fill=\"none\"/>\n",
              "    <path d=\"M18.56 5.44l.94 2.06.94-2.06 2.06-.94-2.06-.94-.94-2.06-.94 2.06-2.06.94zm-11 1L8.5 8.5l.94-2.06 2.06-.94-2.06-.94L8.5 2.5l-.94 2.06-2.06.94zm10 10l.94 2.06.94-2.06 2.06-.94-2.06-.94-.94-2.06-.94 2.06-2.06.94z\"/><path d=\"M17.41 7.96l-1.37-1.37c-.4-.4-.92-.59-1.43-.59-.52 0-1.04.2-1.43.59L10.3 9.45l-7.72 7.72c-.78.78-.78 2.05 0 2.83L4 21.41c.39.39.9.59 1.41.59.51 0 1.02-.2 1.41-.59l7.78-7.78 2.81-2.81c.8-.78.8-2.07 0-2.86zM5.41 20L4 18.59l7.72-7.72 1.47 1.35L5.41 20z\"/>\n",
              "  </svg>\n",
              "      </button>\n",
              "      \n",
              "  <style>\n",
              "    .colab-df-container {\n",
              "      display:flex;\n",
              "      flex-wrap:wrap;\n",
              "      gap: 12px;\n",
              "    }\n",
              "\n",
              "    .colab-df-convert {\n",
              "      background-color: #E8F0FE;\n",
              "      border: none;\n",
              "      border-radius: 50%;\n",
              "      cursor: pointer;\n",
              "      display: none;\n",
              "      fill: #1967D2;\n",
              "      height: 32px;\n",
              "      padding: 0 0 0 0;\n",
              "      width: 32px;\n",
              "    }\n",
              "\n",
              "    .colab-df-convert:hover {\n",
              "      background-color: #E2EBFA;\n",
              "      box-shadow: 0px 1px 2px rgba(60, 64, 67, 0.3), 0px 1px 3px 1px rgba(60, 64, 67, 0.15);\n",
              "      fill: #174EA6;\n",
              "    }\n",
              "\n",
              "    [theme=dark] .colab-df-convert {\n",
              "      background-color: #3B4455;\n",
              "      fill: #D2E3FC;\n",
              "    }\n",
              "\n",
              "    [theme=dark] .colab-df-convert:hover {\n",
              "      background-color: #434B5C;\n",
              "      box-shadow: 0px 1px 3px 1px rgba(0, 0, 0, 0.15);\n",
              "      filter: drop-shadow(0px 1px 2px rgba(0, 0, 0, 0.3));\n",
              "      fill: #FFFFFF;\n",
              "    }\n",
              "  </style>\n",
              "\n",
              "      <script>\n",
              "        const buttonEl =\n",
              "          document.querySelector('#df-c8fdfa63-6c1c-431a-b132-a99962a58f4e button.colab-df-convert');\n",
              "        buttonEl.style.display =\n",
              "          google.colab.kernel.accessAllowed ? 'block' : 'none';\n",
              "\n",
              "        async function convertToInteractive(key) {\n",
              "          const element = document.querySelector('#df-c8fdfa63-6c1c-431a-b132-a99962a58f4e');\n",
              "          const dataTable =\n",
              "            await google.colab.kernel.invokeFunction('convertToInteractive',\n",
              "                                                     [key], {});\n",
              "          if (!dataTable) return;\n",
              "\n",
              "          const docLinkHtml = 'Like what you see? Visit the ' +\n",
              "            '<a target=\"_blank\" href=https://colab.research.google.com/notebooks/data_table.ipynb>data table notebook</a>'\n",
              "            + ' to learn more about interactive tables.';\n",
              "          element.innerHTML = '';\n",
              "          dataTable['output_type'] = 'display_data';\n",
              "          await google.colab.output.renderOutput(dataTable, element);\n",
              "          const docLink = document.createElement('div');\n",
              "          docLink.innerHTML = docLinkHtml;\n",
              "          element.appendChild(docLink);\n",
              "        }\n",
              "      </script>\n",
              "    </div>\n",
              "  </div>\n",
              "  "
            ]
          },
          "metadata": {},
          "execution_count": 56
        }
      ]
    },
    {
      "cell_type": "markdown",
      "source": [
        "**FEATURE ENGINEERING**"
      ],
      "metadata": {
        "id": "a8aKi4OzeCny"
      }
    },
    {
      "cell_type": "code",
      "source": [
        "# FEATURE ENGINEERING\n",
        "# \n",
        "#installing category encoder\n",
        "!pip install category_encoders"
      ],
      "metadata": {
        "colab": {
          "base_uri": "https://localhost:8080/"
        },
        "id": "xBi_jcO1eH_K",
        "outputId": "066e23b2-5196-456e-a113-7225903ba98f"
      },
      "execution_count": null,
      "outputs": [
        {
          "output_type": "stream",
          "name": "stdout",
          "text": [
            "Looking in indexes: https://pypi.org/simple, https://us-python.pkg.dev/colab-wheels/public/simple/\n",
            "Collecting category_encoders\n",
            "  Downloading category_encoders-2.5.0-py2.py3-none-any.whl (69 kB)\n",
            "\u001b[K     |████████████████████████████████| 69 kB 6.5 MB/s \n",
            "\u001b[?25hRequirement already satisfied: pandas>=1.0.5 in /usr/local/lib/python3.7/dist-packages (from category_encoders) (1.3.5)\n",
            "Requirement already satisfied: patsy>=0.5.1 in /usr/local/lib/python3.7/dist-packages (from category_encoders) (0.5.2)\n",
            "Requirement already satisfied: scikit-learn>=0.20.0 in /usr/local/lib/python3.7/dist-packages (from category_encoders) (1.0.2)\n",
            "Requirement already satisfied: numpy>=1.14.0 in /usr/local/lib/python3.7/dist-packages (from category_encoders) (1.21.6)\n",
            "Requirement already satisfied: statsmodels>=0.9.0 in /usr/local/lib/python3.7/dist-packages (from category_encoders) (0.10.2)\n",
            "Requirement already satisfied: scipy>=1.0.0 in /usr/local/lib/python3.7/dist-packages (from category_encoders) (1.4.1)\n",
            "Requirement already satisfied: python-dateutil>=2.7.3 in /usr/local/lib/python3.7/dist-packages (from pandas>=1.0.5->category_encoders) (2.8.2)\n",
            "Requirement already satisfied: pytz>=2017.3 in /usr/local/lib/python3.7/dist-packages (from pandas>=1.0.5->category_encoders) (2022.1)\n",
            "Requirement already satisfied: six in /usr/local/lib/python3.7/dist-packages (from patsy>=0.5.1->category_encoders) (1.15.0)\n",
            "Requirement already satisfied: threadpoolctl>=2.0.0 in /usr/local/lib/python3.7/dist-packages (from scikit-learn>=0.20.0->category_encoders) (3.1.0)\n",
            "Requirement already satisfied: joblib>=0.11 in /usr/local/lib/python3.7/dist-packages (from scikit-learn>=0.20.0->category_encoders) (1.1.0)\n",
            "Installing collected packages: category-encoders\n",
            "Successfully installed category-encoders-2.5.0\n"
          ]
        }
      ]
    },
    {
      "cell_type": "code",
      "source": [
        "# import category encoders\n",
        "import category_encoders as ce\n",
        "\n",
        "#These are the categorical columns that will be converted to numberical\n",
        "cateogry_columns=df.select_dtypes(include=['object']).columns.tolist()\n",
        "for i in cateogry_columns:\n",
        "  print('\\n')\n",
        "  print(train[i].unique())"
      ],
      "metadata": {
        "colab": {
          "base_uri": "https://localhost:8080/"
        },
        "id": "ObXSshpNeLFP",
        "outputId": "ea6a9e4c-9fcd-42af-924e-3cda0d9ee4b7"
      },
      "execution_count": null,
      "outputs": [
        {
          "output_type": "stream",
          "name": "stdout",
          "text": [
            "\n",
            "\n",
            "['Alone' 'Relative' 'Others' 'Kids' 'Partner' 'Group']\n",
            "\n",
            "\n",
            "['Commercial' 'Service' 'Retired' 'Govt Job' 'Student' 'Unemployed'\n",
            " 'Maternity leave']\n",
            "\n",
            "\n",
            "['Secondary' 'Graduation' 'Graduation dropout' 'Junior secondary'\n",
            " 'Post Grad']\n",
            "\n",
            "\n",
            "['M' 'W' 'S' 'D']\n",
            "\n",
            "\n",
            "['Male' 'Female' 'other']\n",
            "\n",
            "\n",
            "['CL' 'RL']\n",
            "\n",
            "\n",
            "['Home' 'Family' 'Office' 'Municipal' 'Rental' 'Shared']\n",
            "\n",
            "\n",
            "['Sales' 'N/A' 'Realty agents' 'Laborers' 'Core' 'Drivers' 'Managers'\n",
            " 'Accountants' 'High skill tech' 'Cleaning' 'HR' 'Waiters/barmen'\n",
            " 'Low-skill Laborers' 'Medicine' 'Cooking' 'Private service' 'Security'\n",
            " 'IT' 'Secretaries']\n",
            "\n",
            "\n",
            "['Yes' 'No']\n",
            "\n",
            "\n",
            "['Yes' 'No']\n",
            "\n",
            "\n",
            "['Self-employed' 'Government' 'XNA' 'Business Entity Type 3' 'Other' 'N/A'\n",
            " 'Industry: type 3' 'Business Entity Type 2' 'Business Entity Type 1'\n",
            " 'Transport: type 4' 'Construction' 'Kindergarten' 'Trade: type 3'\n",
            " 'Industry: type 2' 'Trade: type 7' 'Trade: type 2' 'Agriculture'\n",
            " 'Military' 'Medicine' 'Housing' 'Industry: type 1' 'Industry: type 11'\n",
            " 'Bank' 'School' 'Industry: type 9' 'Postal' 'University'\n",
            " 'Transport: type 2' 'Restaurant' 'Electricity' 'Police'\n",
            " 'Industry: type 4' 'Security Ministries' 'Services' 'Transport: type 3'\n",
            " 'Mobile' 'Hotel' 'Security' 'Industry: type 7' 'Advertising' 'Cleaning'\n",
            " 'Realtor' 'Trade: type 6' 'Culture' 'Industry: type 5' 'Telecom'\n",
            " 'Trade: type 1' 'Industry: type 12' 'Industry: type 8' 'Insurance'\n",
            " 'Emergency' 'Legal Services' 'Industry: type 10' 'Trade: type 4'\n",
            " 'Industry: type 6' 'Transport: type 1' 'Industry: type 13' 'Religion'\n",
            " 'Trade: type 5']\n"
          ]
        }
      ]
    },
    {
      "cell_type": "code",
      "source": [
        "# encode categorical variables with ordinal encoding\n",
        "\n",
        "encoder = ce.OrdinalEncoder(df.columns)\n",
        "df = encoder.fit_transform(df)\n",
        "df.head(2)"
      ],
      "metadata": {
        "colab": {
          "base_uri": "https://localhost:8080/",
          "height": 205
        },
        "id": "3Ui2ipuoeO2C",
        "outputId": "8b7abddb-20a1-4a5b-e593-08d8fa1a05bc"
      },
      "execution_count": null,
      "outputs": [
        {
          "output_type": "execute_result",
          "data": {
            "text/plain": [
              "   client_income  car_owned  bike_owned  active_loan  house_own  child_count  \\\n",
              "0         6750.0        0.0         0.0          1.0        0.0          0.0   \n",
              "1        20250.0        1.0         0.0          1.0        1.0          0.0   \n",
              "\n",
              "   credit_amount  loan_annuity  accompany_client  client_income_type  ...  \\\n",
              "0       61190.55       3416.85                 1                   1  ...   \n",
              "1       15282.00       1826.55                 1                   2  ...   \n",
              "\n",
              "   application_process_day  application_process_hour  \\\n",
              "0                      6.0                      17.0   \n",
              "1                      3.0                      10.0   \n",
              "\n",
              "   client_permanent_match_tag  client_contact_work_tag  type_organization  \\\n",
              "0                           1                        1                  1   \n",
              "1                           1                        1                  2   \n",
              "\n",
              "   score_source_2  phone_change  credit_bureau  default  age  \n",
              "0        0.478787          63.0       1.892904      0.0   38  \n",
              "1        0.215068           0.0       1.892904      0.0   38  \n",
              "\n",
              "[2 rows x 36 columns]"
            ],
            "text/html": [
              "\n",
              "  <div id=\"df-5e9a2d1e-e954-413e-aeea-1e38e0d3401e\">\n",
              "    <div class=\"colab-df-container\">\n",
              "      <div>\n",
              "<style scoped>\n",
              "    .dataframe tbody tr th:only-of-type {\n",
              "        vertical-align: middle;\n",
              "    }\n",
              "\n",
              "    .dataframe tbody tr th {\n",
              "        vertical-align: top;\n",
              "    }\n",
              "\n",
              "    .dataframe thead th {\n",
              "        text-align: right;\n",
              "    }\n",
              "</style>\n",
              "<table border=\"1\" class=\"dataframe\">\n",
              "  <thead>\n",
              "    <tr style=\"text-align: right;\">\n",
              "      <th></th>\n",
              "      <th>client_income</th>\n",
              "      <th>car_owned</th>\n",
              "      <th>bike_owned</th>\n",
              "      <th>active_loan</th>\n",
              "      <th>house_own</th>\n",
              "      <th>child_count</th>\n",
              "      <th>credit_amount</th>\n",
              "      <th>loan_annuity</th>\n",
              "      <th>accompany_client</th>\n",
              "      <th>client_income_type</th>\n",
              "      <th>...</th>\n",
              "      <th>application_process_day</th>\n",
              "      <th>application_process_hour</th>\n",
              "      <th>client_permanent_match_tag</th>\n",
              "      <th>client_contact_work_tag</th>\n",
              "      <th>type_organization</th>\n",
              "      <th>score_source_2</th>\n",
              "      <th>phone_change</th>\n",
              "      <th>credit_bureau</th>\n",
              "      <th>default</th>\n",
              "      <th>age</th>\n",
              "    </tr>\n",
              "  </thead>\n",
              "  <tbody>\n",
              "    <tr>\n",
              "      <th>0</th>\n",
              "      <td>6750.0</td>\n",
              "      <td>0.0</td>\n",
              "      <td>0.0</td>\n",
              "      <td>1.0</td>\n",
              "      <td>0.0</td>\n",
              "      <td>0.0</td>\n",
              "      <td>61190.55</td>\n",
              "      <td>3416.85</td>\n",
              "      <td>1</td>\n",
              "      <td>1</td>\n",
              "      <td>...</td>\n",
              "      <td>6.0</td>\n",
              "      <td>17.0</td>\n",
              "      <td>1</td>\n",
              "      <td>1</td>\n",
              "      <td>1</td>\n",
              "      <td>0.478787</td>\n",
              "      <td>63.0</td>\n",
              "      <td>1.892904</td>\n",
              "      <td>0.0</td>\n",
              "      <td>38</td>\n",
              "    </tr>\n",
              "    <tr>\n",
              "      <th>1</th>\n",
              "      <td>20250.0</td>\n",
              "      <td>1.0</td>\n",
              "      <td>0.0</td>\n",
              "      <td>1.0</td>\n",
              "      <td>1.0</td>\n",
              "      <td>0.0</td>\n",
              "      <td>15282.00</td>\n",
              "      <td>1826.55</td>\n",
              "      <td>1</td>\n",
              "      <td>2</td>\n",
              "      <td>...</td>\n",
              "      <td>3.0</td>\n",
              "      <td>10.0</td>\n",
              "      <td>1</td>\n",
              "      <td>1</td>\n",
              "      <td>2</td>\n",
              "      <td>0.215068</td>\n",
              "      <td>0.0</td>\n",
              "      <td>1.892904</td>\n",
              "      <td>0.0</td>\n",
              "      <td>38</td>\n",
              "    </tr>\n",
              "  </tbody>\n",
              "</table>\n",
              "<p>2 rows × 36 columns</p>\n",
              "</div>\n",
              "      <button class=\"colab-df-convert\" onclick=\"convertToInteractive('df-5e9a2d1e-e954-413e-aeea-1e38e0d3401e')\"\n",
              "              title=\"Convert this dataframe to an interactive table.\"\n",
              "              style=\"display:none;\">\n",
              "        \n",
              "  <svg xmlns=\"http://www.w3.org/2000/svg\" height=\"24px\"viewBox=\"0 0 24 24\"\n",
              "       width=\"24px\">\n",
              "    <path d=\"M0 0h24v24H0V0z\" fill=\"none\"/>\n",
              "    <path d=\"M18.56 5.44l.94 2.06.94-2.06 2.06-.94-2.06-.94-.94-2.06-.94 2.06-2.06.94zm-11 1L8.5 8.5l.94-2.06 2.06-.94-2.06-.94L8.5 2.5l-.94 2.06-2.06.94zm10 10l.94 2.06.94-2.06 2.06-.94-2.06-.94-.94-2.06-.94 2.06-2.06.94z\"/><path d=\"M17.41 7.96l-1.37-1.37c-.4-.4-.92-.59-1.43-.59-.52 0-1.04.2-1.43.59L10.3 9.45l-7.72 7.72c-.78.78-.78 2.05 0 2.83L4 21.41c.39.39.9.59 1.41.59.51 0 1.02-.2 1.41-.59l7.78-7.78 2.81-2.81c.8-.78.8-2.07 0-2.86zM5.41 20L4 18.59l7.72-7.72 1.47 1.35L5.41 20z\"/>\n",
              "  </svg>\n",
              "      </button>\n",
              "      \n",
              "  <style>\n",
              "    .colab-df-container {\n",
              "      display:flex;\n",
              "      flex-wrap:wrap;\n",
              "      gap: 12px;\n",
              "    }\n",
              "\n",
              "    .colab-df-convert {\n",
              "      background-color: #E8F0FE;\n",
              "      border: none;\n",
              "      border-radius: 50%;\n",
              "      cursor: pointer;\n",
              "      display: none;\n",
              "      fill: #1967D2;\n",
              "      height: 32px;\n",
              "      padding: 0 0 0 0;\n",
              "      width: 32px;\n",
              "    }\n",
              "\n",
              "    .colab-df-convert:hover {\n",
              "      background-color: #E2EBFA;\n",
              "      box-shadow: 0px 1px 2px rgba(60, 64, 67, 0.3), 0px 1px 3px 1px rgba(60, 64, 67, 0.15);\n",
              "      fill: #174EA6;\n",
              "    }\n",
              "\n",
              "    [theme=dark] .colab-df-convert {\n",
              "      background-color: #3B4455;\n",
              "      fill: #D2E3FC;\n",
              "    }\n",
              "\n",
              "    [theme=dark] .colab-df-convert:hover {\n",
              "      background-color: #434B5C;\n",
              "      box-shadow: 0px 1px 3px 1px rgba(0, 0, 0, 0.15);\n",
              "      filter: drop-shadow(0px 1px 2px rgba(0, 0, 0, 0.3));\n",
              "      fill: #FFFFFF;\n",
              "    }\n",
              "  </style>\n",
              "\n",
              "      <script>\n",
              "        const buttonEl =\n",
              "          document.querySelector('#df-5e9a2d1e-e954-413e-aeea-1e38e0d3401e button.colab-df-convert');\n",
              "        buttonEl.style.display =\n",
              "          google.colab.kernel.accessAllowed ? 'block' : 'none';\n",
              "\n",
              "        async function convertToInteractive(key) {\n",
              "          const element = document.querySelector('#df-5e9a2d1e-e954-413e-aeea-1e38e0d3401e');\n",
              "          const dataTable =\n",
              "            await google.colab.kernel.invokeFunction('convertToInteractive',\n",
              "                                                     [key], {});\n",
              "          if (!dataTable) return;\n",
              "\n",
              "          const docLinkHtml = 'Like what you see? Visit the ' +\n",
              "            '<a target=\"_blank\" href=https://colab.research.google.com/notebooks/data_table.ipynb>data table notebook</a>'\n",
              "            + ' to learn more about interactive tables.';\n",
              "          element.innerHTML = '';\n",
              "          dataTable['output_type'] = 'display_data';\n",
              "          await google.colab.output.renderOutput(dataTable, element);\n",
              "          const docLink = document.createElement('div');\n",
              "          docLink.innerHTML = docLinkHtml;\n",
              "          element.appendChild(docLink);\n",
              "        }\n",
              "      </script>\n",
              "    </div>\n",
              "  </div>\n",
              "  "
            ]
          },
          "metadata": {},
          "execution_count": 59
        }
      ]
    },
    {
      "cell_type": "code",
      "source": [
        "df.info()"
      ],
      "metadata": {
        "colab": {
          "base_uri": "https://localhost:8080/"
        },
        "id": "N1gxemP_eSjQ",
        "outputId": "f90dfa75-4ec5-4f9f-dd67-4cf80db78a79"
      },
      "execution_count": null,
      "outputs": [
        {
          "output_type": "stream",
          "name": "stdout",
          "text": [
            "<class 'pandas.core.frame.DataFrame'>\n",
            "Int64Index: 59438 entries, 0 to 60617\n",
            "Data columns (total 36 columns):\n",
            " #   Column                      Non-Null Count  Dtype  \n",
            "---  ------                      --------------  -----  \n",
            " 0   client_income               59438 non-null  float64\n",
            " 1   car_owned                   59438 non-null  float64\n",
            " 2   bike_owned                  59438 non-null  float64\n",
            " 3   active_loan                 59438 non-null  float64\n",
            " 4   house_own                   59438 non-null  float64\n",
            " 5   child_count                 59438 non-null  float64\n",
            " 6   credit_amount               59438 non-null  float64\n",
            " 7   loan_annuity                59438 non-null  float64\n",
            " 8   accompany_client            59438 non-null  int64  \n",
            " 9   client_income_type          59438 non-null  int64  \n",
            " 10  client_education            59438 non-null  int64  \n",
            " 11  client_marital_status       59438 non-null  int64  \n",
            " 12  client_gender               59438 non-null  int64  \n",
            " 13  loan_contract_type          59438 non-null  int64  \n",
            " 14  client_housing_type         59438 non-null  int64  \n",
            " 15  population_region_relative  59438 non-null  float64\n",
            " 16  age_days                    59438 non-null  float64\n",
            " 17  employed_days               59438 non-null  float64\n",
            " 18  registration_days           59438 non-null  float64\n",
            " 19  id_days                     59438 non-null  float64\n",
            " 20  mobile_tag                  59438 non-null  int64  \n",
            " 21  homephone_tag               59438 non-null  int64  \n",
            " 22  workphone_working           59438 non-null  int64  \n",
            " 23  client_occupation           59438 non-null  int64  \n",
            " 24  client_family_members       59438 non-null  float64\n",
            " 25  cleint_city_rating          59438 non-null  float64\n",
            " 26  application_process_day     59438 non-null  float64\n",
            " 27  application_process_hour    59438 non-null  float64\n",
            " 28  client_permanent_match_tag  59438 non-null  int64  \n",
            " 29  client_contact_work_tag     59438 non-null  int64  \n",
            " 30  type_organization           59438 non-null  int64  \n",
            " 31  score_source_2              59438 non-null  float64\n",
            " 32  phone_change                59438 non-null  float64\n",
            " 33  credit_bureau               59438 non-null  float64\n",
            " 34  default                     59438 non-null  float64\n",
            " 35  age                         59438 non-null  int64  \n",
            "dtypes: float64(21), int64(15)\n",
            "memory usage: 18.8 MB\n"
          ]
        }
      ]
    },
    {
      "cell_type": "markdown",
      "source": [
        "# **7. Naive Bayes**"
      ],
      "metadata": {
        "id": "2DItFn-q8vcK"
      }
    },
    {
      "cell_type": "code",
      "source": [
        "# Loading the libraries \n",
        "#\n",
        "from sklearn.naive_bayes import MultinomialNB\n",
        "from sklearn.model_selection import train_test_split\n",
        "from sklearn.preprocessing import StandardScaler\n",
        "from sklearn.ensemble import RandomForestClassifier\n",
        "from sklearn.metrics import classification_report, confusion_matrix\n",
        "from sklearn.metrics import accuracy_score\n",
        "from sklearn import metrics"
      ],
      "metadata": {
        "id": "w9Tbyv3c81Xd"
      },
      "execution_count": null,
      "outputs": []
    },
    {
      "cell_type": "markdown",
      "source": [
        "**MultinomialNB**"
      ],
      "metadata": {
        "id": "mCQwUdpNag-O"
      }
    },
    {
      "cell_type": "code",
      "source": [
        "# split the data into labels and features\n",
        "\n",
        "X = df.drop(columns=['default']).values\n",
        "y = df['default'].values\n",
        "\n",
        "# splitting into train an test sets\n",
        "\n",
        "# X_train, X_test, y_train, y_test = train_test_split(X,y, test_size = 0.2, random_state=0, stratify=df['default'])\n",
        "X_train, X_test, y_train, y_test = train_test_split(X,y, test_size = 0.2, random_state=0)\n",
        "\n",
        "# Modelling for training and predictions\n",
        "\n",
        "clf = MultinomialNB()  \n",
        "clf = clf.fit(X_train, y_train) \n",
        "\n",
        "# predicting using the model built\n",
        "\n",
        "y_pred = clf.predict(X_test)"
      ],
      "metadata": {
        "id": "Wz-WiWR684a_"
      },
      "execution_count": null,
      "outputs": []
    },
    {
      "cell_type": "code",
      "source": [
        "# Evaluating the Algorithm\n",
        "# ---\n",
        "# \n",
        "print('The accuracy of the model is ',metrics.accuracy_score(y_test, y_pred))\n",
        "print(confusion_matrix(y_test, y_pred))\n",
        "print('\\n', 'Classification report')\n",
        "print(classification_report(y_test, y_pred))"
      ],
      "metadata": {
        "colab": {
          "base_uri": "https://localhost:8080/"
        },
        "id": "ybjzlCRN_Lkx",
        "outputId": "35d8a8be-5ee8-4a26-addd-6b919601171f"
      },
      "execution_count": null,
      "outputs": [
        {
          "output_type": "stream",
          "name": "stdout",
          "text": [
            "The accuracy of the model is  0.25420592193808883\n",
            "[[2221 8736]\n",
            " [ 130  801]]\n",
            "\n",
            " Classification report\n",
            "              precision    recall  f1-score   support\n",
            "\n",
            "         0.0       0.94      0.20      0.33     10957\n",
            "         1.0       0.08      0.86      0.15       931\n",
            "\n",
            "    accuracy                           0.25     11888\n",
            "   macro avg       0.51      0.53      0.24     11888\n",
            "weighted avg       0.88      0.25      0.32     11888\n",
            "\n"
          ]
        }
      ]
    },
    {
      "cell_type": "markdown",
      "source": [
        "Accuracy Score is **25.36%**\n",
        "\n",
        "The precision of class 0 is **95%** and precision class 1 is **0.09%** which is too low caused by the class imbalance."
      ],
      "metadata": {
        "id": "ov6Q5ULMItX5"
      }
    },
    {
      "cell_type": "markdown",
      "source": [
        "**Gaussian**"
      ],
      "metadata": {
        "id": "bDcZMjTUam3r"
      }
    },
    {
      "cell_type": "code",
      "source": [
        "from sklearn.naive_bayes import GaussianNB\n",
        "\n",
        "# split the data into labels and features\n",
        "\n",
        "X = df.drop(columns=['default']).values\n",
        "y = df['default'].values\n",
        "\n",
        "# splitting into train an test sets\n",
        "\n",
        "# X_train, X_test, y_train, y_test = train_test_split(X,y, test_size = 0.2, random_state=0, stratify=df['default'])\n",
        "X_train, X_test, y_train, y_test = train_test_split(X,y, test_size = 0.2, random_state=0)\n",
        "\n",
        "# Modelling for training and predictions\n",
        "\n",
        "clf = GaussianNB()  \n",
        "clf = clf.fit(X_train, y_train) \n",
        "\n",
        "# predicting using the model built\n",
        "\n",
        "y_pred1 = clf.predict(X_test)"
      ],
      "metadata": {
        "id": "bPGXfehOayIH"
      },
      "execution_count": null,
      "outputs": []
    },
    {
      "cell_type": "code",
      "source": [
        "# Evaluating the Algorithm\n",
        "# ---\n",
        "# \n",
        "print('The accuracy of the model is ',metrics.accuracy_score(y_test, y_pred1))\n",
        "print(confusion_matrix(y_test, y_pred1))\n",
        "print('\\n', 'Classification report')\n",
        "print(classification_report(y_test, y_pred1))"
      ],
      "metadata": {
        "colab": {
          "base_uri": "https://localhost:8080/"
        },
        "id": "Xhv7R-W_ayTe",
        "outputId": "8ca923f1-1f01-40b0-9e66-bd656ff080f8"
      },
      "execution_count": null,
      "outputs": [
        {
          "output_type": "stream",
          "name": "stdout",
          "text": [
            "The accuracy of the model is  0.9213492597577388\n",
            "[[10951     6]\n",
            " [  929     2]]\n",
            "\n",
            " Classification report\n",
            "              precision    recall  f1-score   support\n",
            "\n",
            "         0.0       0.92      1.00      0.96     10957\n",
            "         1.0       0.25      0.00      0.00       931\n",
            "\n",
            "    accuracy                           0.92     11888\n",
            "   macro avg       0.59      0.50      0.48     11888\n",
            "weighted avg       0.87      0.92      0.88     11888\n",
            "\n"
          ]
        }
      ]
    },
    {
      "cell_type": "markdown",
      "source": [
        "Accuracy Score is **91.97%**\n",
        "\n",
        "The precision of class 0 is **92%** and precision class 1 is **0.00%** which is too low caused by the class imbalance."
      ],
      "metadata": {
        "id": "Yq0llSzALkbT"
      }
    },
    {
      "cell_type": "markdown",
      "source": [
        "**Bernoulli**"
      ],
      "metadata": {
        "id": "e9kXcPRabQAd"
      }
    },
    {
      "cell_type": "code",
      "source": [
        "from sklearn.naive_bayes import BernoulliNB\n",
        "# split the data into labels and features\n",
        "\n",
        "X = df.drop(columns=['default'])\n",
        "y = df['default']\n",
        "\n",
        "# splitting into train an test sets\n",
        "\n",
        "# X_train, X_test, y_train, y_test = train_test_split(X,y, test_size = 0.2, random_state=0, stratify=df['default'])\n",
        "X_train, X_test, y_train, y_test = train_test_split(X,y, test_size = 0.2, random_state=0)\n",
        "\n",
        "# Modelling for training and predictions\n",
        "\n",
        "clf = BernoulliNB()\n",
        "clf = clf.fit(X_train, y_train) \n",
        "\n",
        "# predicting using the model built\n",
        "\n",
        "y_pred2 = clf.predict(X_test)"
      ],
      "metadata": {
        "id": "owx1iOMfbXkA"
      },
      "execution_count": null,
      "outputs": []
    },
    {
      "cell_type": "code",
      "source": [
        "# Evaluating the Algorithm\n",
        "# ---\n",
        "# \n",
        "print('The accuracy of the model is ',metrics.accuracy_score(y_test, y_pred2))\n",
        "print(confusion_matrix(y_test, y_pred2))\n",
        "print('\\n', 'Classification report')\n",
        "print(classification_report(y_test, y_pred2))"
      ],
      "metadata": {
        "colab": {
          "base_uri": "https://localhost:8080/"
        },
        "id": "nJxC5L-BbXxt",
        "outputId": "fd3f3fc2-3b97-44d8-aebf-c80fc860633b"
      },
      "execution_count": null,
      "outputs": [
        {
          "output_type": "stream",
          "name": "stdout",
          "text": [
            "The accuracy of the model is  0.921685733512786\n",
            "[[10957     0]\n",
            " [  931     0]]\n",
            "\n",
            " Classification report\n",
            "              precision    recall  f1-score   support\n",
            "\n",
            "         0.0       0.92      1.00      0.96     10957\n",
            "         1.0       0.00      0.00      0.00       931\n",
            "\n",
            "    accuracy                           0.92     11888\n",
            "   macro avg       0.46      0.50      0.48     11888\n",
            "weighted avg       0.85      0.92      0.88     11888\n",
            "\n"
          ]
        }
      ]
    },
    {
      "cell_type": "markdown",
      "source": [
        "Accuracy Score is **91.97%**\n",
        "\n",
        "The recall of class 0 is **100%** and recall class 1 is **0.00%** which is too low caused by the class imbalance."
      ],
      "metadata": {
        "id": "IBtxN4GFLu1r"
      }
    },
    {
      "cell_type": "markdown",
      "source": [
        "**Oversample minority class**"
      ],
      "metadata": {
        "id": "Ed3pV5UpvMgP"
      }
    },
    {
      "cell_type": "code",
      "source": [
        "train_data = pd.concat([X_train,y_train],axis=1)\n",
        "\n",
        "default_zero = train_data[train_data.default==0]\n",
        "default_one = train_data[train_data.default==1]"
      ],
      "metadata": {
        "id": "CRd6bALKvTyK"
      },
      "execution_count": null,
      "outputs": []
    },
    {
      "cell_type": "code",
      "source": [
        "#For Sampling\n",
        "from sklearn.utils import resample\n",
        "\n",
        "upsampled_One = resample(default_one,\n",
        "                          replace=True, # sample with replacement\n",
        "                          n_samples=len(default_zero), # match number in majority class\n",
        "                          random_state=27) # reproducible results\n",
        "\n",
        "# combine majority and upsampled minority\n",
        "upsampled = pd.concat([default_zero, upsampled_One])"
      ],
      "metadata": {
        "id": "FW9cFGvfvjy3"
      },
      "execution_count": null,
      "outputs": []
    },
    {
      "cell_type": "code",
      "source": [
        "y_train.value_counts()"
      ],
      "metadata": {
        "colab": {
          "base_uri": "https://localhost:8080/"
        },
        "id": "7lqfvFQVvoSI",
        "outputId": "360492d6-5165-4efe-c149-b9f525d5ea1d"
      },
      "execution_count": null,
      "outputs": [
        {
          "output_type": "execute_result",
          "data": {
            "text/plain": [
              "0.0    43664\n",
              "1.0     3886\n",
              "Name: default, dtype: int64"
            ]
          },
          "metadata": {},
          "execution_count": 70
        }
      ]
    },
    {
      "cell_type": "code",
      "source": [
        "upsampled['default'].value_counts()\n"
      ],
      "metadata": {
        "colab": {
          "base_uri": "https://localhost:8080/"
        },
        "id": "cwaqgpzKvogJ",
        "outputId": "659cfe62-6556-44c2-e66e-8c4609c2b871"
      },
      "execution_count": null,
      "outputs": [
        {
          "output_type": "execute_result",
          "data": {
            "text/plain": [
              "0.0    43664\n",
              "1.0    43664\n",
              "Name: default, dtype: int64"
            ]
          },
          "metadata": {},
          "execution_count": 71
        }
      ]
    },
    {
      "cell_type": "code",
      "source": [
        "# split the data into labels and features\n",
        "\n",
        "X = upsampled.drop(columns=['default']).values\n",
        "y = upsampled['default'].values\n",
        "\n",
        "# splitting into train an test sets\n",
        "\n",
        "# X_train, X_test, y_train, y_test = train_test_split(X,y, test_size = 0.2, random_state=0, stratify=upsampled['default'])\n",
        "X_train, X_test, y_train, y_test = train_test_split(X,y, test_size = 0.2, random_state=0)\n",
        "\n",
        "# Modelling for training and predictions\n",
        "\n",
        "# clf = MultinomialNB()  \n",
        "clf = GaussianNB()  \n",
        "# clf = BernoulliNB()\n",
        "\n",
        "clf = clf.fit(X_train, y_train) \n",
        "\n",
        "# predicting using the model built\n",
        "\n",
        "y_pred5 = clf.predict(X_test)\n",
        "prediction_train = clf.predict(X_train)"
      ],
      "metadata": {
        "id": "nWFu69eBxZYA"
      },
      "execution_count": null,
      "outputs": []
    },
    {
      "cell_type": "code",
      "source": [
        "# Evaluating the Algorithm\n",
        "# ---\n",
        "# \n",
        "print('The accuracy of the test model is ',metrics.accuracy_score(y_test, y_pred5))\n",
        "print('The accuracy of the train model is ',metrics.accuracy_score(y_train, prediction_train))\n",
        "print(confusion_matrix(y_test, y_pred5))\n",
        "print('\\n', 'Classification report')\n",
        "print(classification_report(y_test, y_pred5))"
      ],
      "metadata": {
        "colab": {
          "base_uri": "https://localhost:8080/"
        },
        "id": "E01Jo9-IxpK9",
        "outputId": "05faee83-2522-4cd0-cdab-fbfe82191df4"
      },
      "execution_count": null,
      "outputs": [
        {
          "output_type": "stream",
          "name": "stdout",
          "text": [
            "The accuracy of the test model is  0.568075117370892\n",
            "The accuracy of the train model is  0.5643840714551545\n",
            "[[3429 5215]\n",
            " [2329 6493]]\n",
            "\n",
            " Classification report\n",
            "              precision    recall  f1-score   support\n",
            "\n",
            "         0.0       0.60      0.40      0.48      8644\n",
            "         1.0       0.55      0.74      0.63      8822\n",
            "\n",
            "    accuracy                           0.57     17466\n",
            "   macro avg       0.58      0.57      0.55     17466\n",
            "weighted avg       0.57      0.57      0.56     17466\n",
            "\n"
          ]
        }
      ]
    },
    {
      "cell_type": "markdown",
      "source": [
        "After dealing with the class imbalance, the model worked better on class 1 but less accurate on class 0\n",
        "\n",
        "Accuracy Score is **57.06%**\n",
        "\n",
        "The recall of class 0 is **44%** and recall class 1 is **70%** "
      ],
      "metadata": {
        "id": "VpS9xCRNN04g"
      }
    },
    {
      "cell_type": "markdown",
      "source": [
        "**Undersample majority class**"
      ],
      "metadata": {
        "id": "PKn8MPEmyqVE"
      }
    },
    {
      "cell_type": "code",
      "source": [
        "df['default'].value_counts()"
      ],
      "metadata": {
        "colab": {
          "base_uri": "https://localhost:8080/"
        },
        "id": "Jwy_Uceizanh",
        "outputId": "6bbf6cfb-c9f7-44c4-fc9a-f2cfefb2048f"
      },
      "execution_count": null,
      "outputs": [
        {
          "output_type": "execute_result",
          "data": {
            "text/plain": [
              "0.0    54621\n",
              "1.0     4817\n",
              "Name: default, dtype: int64"
            ]
          },
          "metadata": {},
          "execution_count": 74
        }
      ]
    },
    {
      "cell_type": "code",
      "source": [
        "downsampled_Zero = resample(default_zero,\n",
        "                                replace = False, # sample without replacement\n",
        "                                n_samples = len(default_one), # match minority n\n",
        "                                random_state = 27) # reproducible results\n",
        "\n",
        "# combine minority and downsampled majority\n",
        "downsampled = pd.concat([downsampled_Zero, default_one])"
      ],
      "metadata": {
        "id": "p4_6L4xjzgY8"
      },
      "execution_count": null,
      "outputs": []
    },
    {
      "cell_type": "code",
      "source": [
        "downsampled['default'].value_counts()"
      ],
      "metadata": {
        "colab": {
          "base_uri": "https://localhost:8080/"
        },
        "id": "hJSs6Q4izgmo",
        "outputId": "3575cde5-7cf5-4fcd-e6bb-4f42d63846e1"
      },
      "execution_count": null,
      "outputs": [
        {
          "output_type": "execute_result",
          "data": {
            "text/plain": [
              "0.0    3886\n",
              "1.0    3886\n",
              "Name: default, dtype: int64"
            ]
          },
          "metadata": {},
          "execution_count": 76
        }
      ]
    },
    {
      "cell_type": "code",
      "source": [
        "# split the data into labels and features\n",
        "\n",
        "X = downsampled.drop(columns=['default']).values\n",
        "y = downsampled['default'].values\n",
        "\n",
        "# splitting into train an test sets\n",
        "\n",
        "# X_train, X_test, y_train, y_test = train_test_split(X,y, test_size = 0.2, random_state=0, stratify=downsampled['default'])\n",
        "X_train, X_test, y_train, y_test = train_test_split(X,y, test_size = 0.2, random_state=0)\n",
        "\n",
        "# Modelling for training and predictions\n",
        "\n",
        "# clf = MultinomialNB()  \n",
        "clf = GaussianNB()  \n",
        "# clf = BernoulliNB()\n",
        "\n",
        "clf = clf.fit(X_train, y_train) \n",
        "\n",
        "# predicting using the model built\n",
        "\n",
        "y_pred5 = clf.predict(X_test)\n",
        "prediction_train = clf.predict(X_train)"
      ],
      "metadata": {
        "id": "NlIsQwsu1Fc1"
      },
      "execution_count": null,
      "outputs": []
    },
    {
      "cell_type": "code",
      "source": [
        "# Evaluating the Algorithm\n",
        "# ---\n",
        "# \n",
        "print('The accuracy of the test model is ',metrics.accuracy_score(y_test, y_pred5))\n",
        "print('The accuracy of the train model is ',metrics.accuracy_score(y_train, prediction_train))\n",
        "print(confusion_matrix(y_test, y_pred5))\n",
        "print('\\n', 'Classification report')\n",
        "print(classification_report(y_test, y_pred5))"
      ],
      "metadata": {
        "colab": {
          "base_uri": "https://localhost:8080/"
        },
        "id": "PGoeZfMD1Fwn",
        "outputId": "6e1f9bd4-17de-43f5-8ed0-80da6b78f64a"
      },
      "execution_count": null,
      "outputs": [
        {
          "output_type": "stream",
          "name": "stdout",
          "text": [
            "The accuracy of the test model is  0.5633440514469453\n",
            "The accuracy of the train model is  0.5819527103104392\n",
            "[[351 425]\n",
            " [254 525]]\n",
            "\n",
            " Classification report\n",
            "              precision    recall  f1-score   support\n",
            "\n",
            "         0.0       0.58      0.45      0.51       776\n",
            "         1.0       0.55      0.67      0.61       779\n",
            "\n",
            "    accuracy                           0.56      1555\n",
            "   macro avg       0.57      0.56      0.56      1555\n",
            "weighted avg       0.57      0.56      0.56      1555\n",
            "\n"
          ]
        }
      ]
    },
    {
      "cell_type": "markdown",
      "source": [
        "Training with the undersample to deal with class imbalance produced almost similar results with the oversampling\n",
        "\n",
        "Accuracy Score is **57.95%**\n",
        "\n",
        "The recall of class 0 is **43%** and recall class 1 is **73%**"
      ],
      "metadata": {
        "id": "rKrbjHR2QLyB"
      }
    },
    {
      "cell_type": "markdown",
      "source": [
        "**Hyperparameter Tuning**"
      ],
      "metadata": {
        "id": "DpAJ-wSR_YxJ"
      }
    },
    {
      "cell_type": "code",
      "source": [
        "# split the data into labels and features\n",
        "\n",
        "X = downsampled.drop(columns=['default']).values\n",
        "y = downsampled['default'].values\n",
        "\n",
        "# splitting into train an test sets\n",
        "\n",
        "X_train, X_test, y_train, y_test = train_test_split(X,y, test_size = 0.4, random_state=0)"
      ],
      "metadata": {
        "id": "ykArgV-S_f8C"
      },
      "execution_count": null,
      "outputs": []
    },
    {
      "cell_type": "code",
      "source": [
        "from sklearn.model_selection import GridSearchCV\n",
        "\n",
        "# Defining the hyper parameters for the Naive Bayes\n",
        "param_grid_nb = { 'var_smoothing': np.logspace(0,-9, num=100)}\n",
        "\n",
        "grid = GridSearchCV(estimator=GaussianNB(), param_grid=param_grid_nb, verbose=1, cv=10, n_jobs=-1)\n",
        "grid.fit(X_train, y_train)\n",
        "print(grid.best_estimator_)\n",
        "\n",
        "print(grid.best_params_)\n",
        "\n",
        "# #Creating a better model based on the parameters given to us by the greadsearch\n",
        "# # predicting using the model built\n",
        "\n",
        "y_pred = grid.predict(X_test)\n",
        "\n",
        "# Evaluating the Algorithm\n",
        "# ---\n",
        "print('The accuracy of the model is ',metrics.accuracy_score(y_test, y_pred))\n",
        "print('\\n', 'Confusion matrix')\n",
        "print(confusion_matrix(y_test, y_pred))\n",
        "print('\\n', 'Classification report')\n",
        "print(classification_report(y_test, y_pred))"
      ],
      "metadata": {
        "colab": {
          "base_uri": "https://localhost:8080/"
        },
        "id": "S2Lt6eSW_gIT",
        "outputId": "97c1f5b7-55db-44a1-d5e0-1fa3b112d40c"
      },
      "execution_count": null,
      "outputs": [
        {
          "output_type": "stream",
          "name": "stdout",
          "text": [
            "Fitting 10 folds for each of 100 candidates, totalling 1000 fits\n",
            "GaussianNB(var_smoothing=2.310129700083158e-09)\n",
            "{'var_smoothing': 2.310129700083158e-09}\n",
            "The accuracy of the model is  0.574139594724992\n",
            "\n",
            " Confusion matrix\n",
            "[[ 729  836]\n",
            " [ 488 1056]]\n",
            "\n",
            " Classification report\n",
            "              precision    recall  f1-score   support\n",
            "\n",
            "         0.0       0.60      0.47      0.52      1565\n",
            "         1.0       0.56      0.68      0.61      1544\n",
            "\n",
            "    accuracy                           0.57      3109\n",
            "   macro avg       0.58      0.57      0.57      3109\n",
            "weighted avg       0.58      0.57      0.57      3109\n",
            "\n"
          ]
        }
      ]
    },
    {
      "cell_type": "markdown",
      "source": [
        "****"
      ],
      "metadata": {
        "id": "fN7W4LYa8-Ex"
      }
    },
    {
      "cell_type": "markdown",
      "source": [
        "With hyperparameter tuning, the accuracy produced almost similar results with the oversampling and undersampling\n",
        "\n",
        "Accuracy Score is **57.89%**\n",
        "\n",
        "The recall of class 0 is **44%** and recall class 1 is **72%**"
      ],
      "metadata": {
        "id": "GW46BZAzRSah"
      }
    },
    {
      "cell_type": "markdown",
      "source": [
        "# **8. Decision Tree**"
      ],
      "metadata": {
        "id": "V-K8ptst9cTk"
      }
    },
    {
      "cell_type": "code",
      "source": [
        "from sklearn.tree import DecisionTreeClassifier\n",
        "from sklearn.model_selection import train_test_split\n",
        "# Create a decision tree classifier\n",
        "\n",
        "tree = DecisionTreeClassifier()\n",
        "X = df.drop('default', axis = 1)\n",
        "y = df['default']\n",
        "X_train, X_test, y_train, y_test = train_test_split(X, y, test_size=0.33, random_state=42)\n",
        "\n",
        "\n",
        "# Train it on our training set.\n",
        "tree = tree.fit(X_train, y_train)\n",
        "\n",
        "# Predict based on the model we've trained\n",
        "y_pred = tree.predict(X_test)\n",
        "\n",
        "\n",
        "from sklearn import metrics\n",
        "\n",
        "# Model Accuracy, how often is the classifier correct?\n",
        "print(\"Accuracy:\",metrics.accuracy_score(y_test, y_pred))"
      ],
      "metadata": {
        "colab": {
          "base_uri": "https://localhost:8080/"
        },
        "id": "FP3W42RK9pSQ",
        "outputId": "27b6d8e0-37e4-4935-ad38-386e59def579"
      },
      "execution_count": null,
      "outputs": [
        {
          "output_type": "stream",
          "name": "stdout",
          "text": [
            "Accuracy: 0.8526127963293398\n"
          ]
        }
      ]
    },
    {
      "cell_type": "code",
      "source": [
        "# Getting the confusion matrix\n",
        "print(metrics.confusion_matrix(y_test, y_pred))"
      ],
      "metadata": {
        "colab": {
          "base_uri": "https://localhost:8080/"
        },
        "id": "A5CEoAZz-IkX",
        "outputId": "0fadb426-8e74-4975-eaf9-25fcaa8e912e"
      },
      "execution_count": null,
      "outputs": [
        {
          "output_type": "stream",
          "name": "stdout",
          "text": [
            "[[16435  1586]\n",
            " [ 1305   289]]\n"
          ]
        }
      ]
    },
    {
      "cell_type": "code",
      "source": [
        "# Getting the classification report\n",
        "print(metrics.classification_report(y_test, y_pred))"
      ],
      "metadata": {
        "colab": {
          "base_uri": "https://localhost:8080/"
        },
        "id": "NyzkYIdG-LID",
        "outputId": "b9183793-0a54-4940-a5bd-c2cdc049c714"
      },
      "execution_count": null,
      "outputs": [
        {
          "output_type": "stream",
          "name": "stdout",
          "text": [
            "              precision    recall  f1-score   support\n",
            "\n",
            "         0.0       0.93      0.91      0.92     18021\n",
            "         1.0       0.15      0.18      0.17      1594\n",
            "\n",
            "    accuracy                           0.85     19615\n",
            "   macro avg       0.54      0.55      0.54     19615\n",
            "weighted avg       0.86      0.85      0.86     19615\n",
            "\n"
          ]
        }
      ]
    },
    {
      "cell_type": "markdown",
      "source": [
        "The F1 score is a measure of the models precision and recall, it is important as accuracy is not always the most reliable measure for classification problem. As we can see from the cell above, the model is better at making accurate predictions of not defaulting and better recal of the same. In this case its best to get a model that perfoms these two the best"
      ],
      "metadata": {
        "id": "WXPZPrKu-RIM"
      }
    },
    {
      "cell_type": "markdown",
      "source": [
        "# **9. Random forest**"
      ],
      "metadata": {
        "id": "aqQRr1uMAv20"
      }
    },
    {
      "cell_type": "code",
      "source": [
        "from sklearn.ensemble import RandomForestClassifier\n",
        "# Fitting RF classifier to the Training set\n",
        "rand_forest = RandomForestClassifier()\n",
        "\n",
        "# Train it on our training set.\n",
        "rand_forest.fit(X_train, y_train)\n",
        "\n",
        "# Predict based on the model we've trained\n",
        "y_pred = rand_forest.predict(X_test)\n",
        "\n",
        "# Model Accuracy, how often is the classifier correct?\n",
        "print(\"Accuracy:\",metrics.accuracy_score(y_test, y_pred))"
      ],
      "metadata": {
        "colab": {
          "base_uri": "https://localhost:8080/"
        },
        "id": "AKnDsFuCA5e7",
        "outputId": "33809122-0c28-45a4-8689-0dde18e4c3da"
      },
      "execution_count": null,
      "outputs": [
        {
          "output_type": "stream",
          "name": "stdout",
          "text": [
            "Accuracy: 0.9211317868977823\n"
          ]
        }
      ]
    },
    {
      "cell_type": "markdown",
      "source": [
        "The accuracy of random forest is about 92%"
      ],
      "metadata": {
        "id": "1ygOXjQtA9pH"
      }
    },
    {
      "cell_type": "code",
      "source": [
        "# Getting the confusion matrix\n",
        "print(metrics.confusion_matrix(y_test, y_pred))"
      ],
      "metadata": {
        "colab": {
          "base_uri": "https://localhost:8080/"
        },
        "id": "uIjDsb5eBEui",
        "outputId": "90135718-2b17-42b9-a7fd-9202677c62af"
      },
      "execution_count": null,
      "outputs": [
        {
          "output_type": "stream",
          "name": "stdout",
          "text": [
            "[[18021     0]\n",
            " [ 1547    47]]\n"
          ]
        }
      ]
    },
    {
      "cell_type": "code",
      "source": [
        "# Getting the classification report\n",
        "print(metrics.classification_report(y_test, y_pred))"
      ],
      "metadata": {
        "colab": {
          "base_uri": "https://localhost:8080/"
        },
        "id": "boOxMgfLBH8K",
        "outputId": "3ca9185e-c6c5-4434-b3eb-7dc6da6ecf38"
      },
      "execution_count": null,
      "outputs": [
        {
          "output_type": "stream",
          "name": "stdout",
          "text": [
            "              precision    recall  f1-score   support\n",
            "\n",
            "         0.0       0.92      1.00      0.96     18021\n",
            "         1.0       1.00      0.03      0.06      1594\n",
            "\n",
            "    accuracy                           0.92     19615\n",
            "   macro avg       0.96      0.51      0.51     19615\n",
            "weighted avg       0.93      0.92      0.89     19615\n",
            "\n"
          ]
        }
      ]
    },
    {
      "cell_type": "markdown",
      "source": [
        "The f1 score in this model has a better value for not defaulting in comparison with the previous one, however its score for defaulting is lower than the previous"
      ],
      "metadata": {
        "id": "DqKrGg7-BmV3"
      }
    },
    {
      "cell_type": "markdown",
      "source": [
        "# **10. ADA boost and Gradient boost**"
      ],
      "metadata": {
        "id": "e-dT-yEDYV4l"
      }
    },
    {
      "cell_type": "markdown",
      "source": [
        ""
      ],
      "metadata": {
        "id": "dfjT_gwJKkd_"
      }
    },
    {
      "cell_type": "code",
      "source": [
        "# Importing the libraries\n",
        "from sklearn.ensemble import AdaBoostClassifier, GradientBoostingClassifier\n",
        "\n",
        "# Fitting AdaBoost classifier to the Training set\n",
        "AdB_classifier = AdaBoostClassifier(random_state=0)\n",
        "AdB_classifier.fit(X_train, y_train)\n",
        "\n",
        "# Fitting Gradient Boosting classifier to the Training set\n",
        "GBM_classifier = GradientBoostingClassifier(random_state=0, learning_rate=0.1)\n",
        "GBM_classifier.fit(X_train, y_train)"
      ],
      "metadata": {
        "colab": {
          "base_uri": "https://localhost:8080/"
        },
        "id": "ZPJ6EhOKeDQA",
        "outputId": "e4a0a415-4ce2-4e8f-b358-36b4a8a65f28"
      },
      "execution_count": null,
      "outputs": [
        {
          "output_type": "execute_result",
          "data": {
            "text/plain": [
              "GradientBoostingClassifier(random_state=0)"
            ]
          },
          "metadata": {},
          "execution_count": 87
        }
      ]
    },
    {
      "cell_type": "code",
      "source": [
        "# Getting the predicted values\n",
        "y_pred_AdB = AdB_classifier.predict(X_test)\n",
        "y_pred_GBM = GBM_classifier.predict(X_test)\n",
        "\n",
        "# Model Accuracy, how often is the classifier correct?\n",
        "print(\"Accuracy RF:\",metrics.accuracy_score(y_test, y_pred))\n",
        "print(\"Accuracy Ada Boost:\",metrics.accuracy_score(y_test, y_pred_AdB))\n",
        "print(\"Accuracy Gradient Boost:\",metrics.accuracy_score(y_test, y_pred_GBM))"
      ],
      "metadata": {
        "colab": {
          "base_uri": "https://localhost:8080/"
        },
        "id": "UnMlmdz_eHV2",
        "outputId": "48843971-ba38-4565-9c7a-034bfdc3253f"
      },
      "execution_count": null,
      "outputs": [
        {
          "output_type": "stream",
          "name": "stdout",
          "text": [
            "Accuracy RF: 0.9211317868977823\n",
            "Accuracy Ada Boost: 0.9180219219984705\n",
            "Accuracy Gradient Boost: 0.9185317359163905\n"
          ]
        }
      ]
    },
    {
      "cell_type": "markdown",
      "source": [
        "Random forest has the highest accuracy with ada boost having the lowest accuracy"
      ],
      "metadata": {
        "id": "kYI0ddbZeOIU"
      }
    },
    {
      "cell_type": "code",
      "source": [
        "# Model confusion matrix , how often is the classifier correct?\n",
        "print(\"Confusion matrix RF:\"'\\n',metrics.confusion_matrix(y_test, y_pred))\n",
        "print(\"Confusion matrix Ada Boost:\"'\\n',metrics.confusion_matrix(y_test, y_pred_AdB))\n",
        "print(\"Confusion matrix Gradient Boost:\"'\\n',metrics.confusion_matrix(y_test, y_pred_GBM))"
      ],
      "metadata": {
        "colab": {
          "base_uri": "https://localhost:8080/"
        },
        "id": "CAhmqcw-eV3i",
        "outputId": "80d6775b-ca85-48f7-9d32-8d6146626c11"
      },
      "execution_count": null,
      "outputs": [
        {
          "output_type": "stream",
          "name": "stdout",
          "text": [
            "Confusion matrix RF:\n",
            " [[18021     0]\n",
            " [ 1547    47]]\n",
            "Confusion matrix Ada Boost:\n",
            " [[17996    25]\n",
            " [ 1583    11]]\n",
            "Confusion matrix Gradient Boost:\n",
            " [[18005    16]\n",
            " [ 1582    12]]\n"
          ]
        }
      ]
    },
    {
      "cell_type": "code",
      "source": [
        "# Model classification_report matrix , how often is the classifier correct?\n",
        "print(\"classification_report RF:\"'\\n',metrics.classification_report(y_test, y_pred))\n",
        "print(\"classification_report Ada Boost:\"'\\n',metrics.classification_report(y_test, y_pred_AdB))\n",
        "print(\"classification_report Gradient Boost:\"'\\n',metrics.classification_report(y_test, y_pred_GBM))"
      ],
      "metadata": {
        "colab": {
          "base_uri": "https://localhost:8080/"
        },
        "id": "Nup4KbfieaG1",
        "outputId": "286992a8-f88c-4dd7-a2c0-c8d4a8696b0d"
      },
      "execution_count": null,
      "outputs": [
        {
          "output_type": "stream",
          "name": "stdout",
          "text": [
            "classification_report RF:\n",
            "               precision    recall  f1-score   support\n",
            "\n",
            "         0.0       0.92      1.00      0.96     18021\n",
            "         1.0       1.00      0.03      0.06      1594\n",
            "\n",
            "    accuracy                           0.92     19615\n",
            "   macro avg       0.96      0.51      0.51     19615\n",
            "weighted avg       0.93      0.92      0.89     19615\n",
            "\n",
            "classification_report Ada Boost:\n",
            "               precision    recall  f1-score   support\n",
            "\n",
            "         0.0       0.92      1.00      0.96     18021\n",
            "         1.0       0.31      0.01      0.01      1594\n",
            "\n",
            "    accuracy                           0.92     19615\n",
            "   macro avg       0.61      0.50      0.49     19615\n",
            "weighted avg       0.87      0.92      0.88     19615\n",
            "\n",
            "classification_report Gradient Boost:\n",
            "               precision    recall  f1-score   support\n",
            "\n",
            "         0.0       0.92      1.00      0.96     18021\n",
            "         1.0       0.43      0.01      0.01      1594\n",
            "\n",
            "    accuracy                           0.92     19615\n",
            "   macro avg       0.67      0.50      0.49     19615\n",
            "weighted avg       0.88      0.92      0.88     19615\n",
            "\n"
          ]
        }
      ]
    },
    {
      "cell_type": "markdown",
      "source": [
        "The accuracy is very high but it is due to the class imbalance as the default class is about 8% thus class rebalancing will be important to improve the f1 scores which are very low"
      ],
      "metadata": {
        "id": "FvvDXwGFeefk"
      }
    },
    {
      "cell_type": "markdown",
      "source": [
        "**Resampling using oversampler**"
      ],
      "metadata": {
        "id": "c_DV-hHGeteB"
      }
    },
    {
      "cell_type": "code",
      "source": [
        "from imblearn.over_sampling import RandomOverSampler\n",
        "# define oversampling strategy\n",
        "oversample = RandomOverSampler(sampling_strategy='minority')\n",
        "\n",
        "# define oversampling strategy\n",
        "oversample = RandomOverSampler(sampling_strategy=0.3)\n",
        "\n",
        "# fit and apply the transform\n",
        "X_over, y_over = oversample.fit_resample(X, y)\n",
        "\n",
        "# Split into train and test set\n",
        "from sklearn.model_selection import train_test_split\n",
        "X_train, X_test, y_train, y_test = train_test_split(X_over, y_over, test_size=0.2, random_state=0)"
      ],
      "metadata": {
        "id": "3FN_ztC5ezJr"
      },
      "execution_count": null,
      "outputs": []
    },
    {
      "cell_type": "markdown",
      "source": [
        "Chose oversampling to prevent information loss from the larger non default class"
      ],
      "metadata": {
        "id": "EDoF_ZG7e22B"
      }
    },
    {
      "cell_type": "markdown",
      "source": [
        "# **11. K - Nearest Neighbours**"
      ],
      "metadata": {
        "id": "CtDEsVoyBQAd"
      }
    },
    {
      "cell_type": "code",
      "source": [
        "import pandas as pd\n",
        "import numpy as np\n",
        "import matplotlib.pyplot as plt\n",
        "import seaborn as sns\n",
        "from sklearn.model_selection import train_test_split\n",
        "from sklearn.neighbors import KNeighborsRegressor\n",
        "from sklearn.metrics import mean_squared_error\n",
        "from sklearn.preprocessing import StandardScaler\n",
        "from sklearn.neighbors import KNeighborsClassifier\n",
        "from sklearn.metrics import  accuracy_score\n",
        "from sklearn.metrics import classification_report, confusion_matrix\n",
        "%matplotlib inline"
      ],
      "metadata": {
        "id": "6oyUAFkKyzY8"
      },
      "execution_count": null,
      "outputs": []
    },
    {
      "cell_type": "code",
      "source": [
        "# Implementing the Solution\n",
        "# define our x and y\n",
        "# \n",
        "X = df.drop(columns=['default']).values\n",
        "y = df['default'].values"
      ],
      "metadata": {
        "id": "hVEIef57xz8w"
      },
      "execution_count": null,
      "outputs": []
    },
    {
      "cell_type": "code",
      "source": [
        "# splitting data into train and test sets\n",
        "# \n",
        "from sklearn.model_selection import train_test_split\n",
        "\n",
        "X_train, X_test, y_train, y_test = train_test_split(X,y, test_size=0.2, random_state=0)"
      ],
      "metadata": {
        "id": "M8LVCvCMzjiX"
      },
      "execution_count": null,
      "outputs": []
    },
    {
      "cell_type": "code",
      "source": [
        "# scaling our features\n",
        "# \n",
        "\n",
        "from sklearn.preprocessing import StandardScaler\n",
        "\n",
        "sc = StandardScaler()\n",
        "\n",
        "X_train = sc.fit_transform(X_train)\n",
        "X_test = sc.transform(X_test)"
      ],
      "metadata": {
        "id": "8jx5nLns0H8a"
      },
      "execution_count": null,
      "outputs": []
    },
    {
      "cell_type": "code",
      "source": [
        "# training our model KNN\n",
        "\n",
        "from sklearn.neighbors import KNeighborsClassifier\n",
        "\n",
        "classifier = KNeighborsClassifier(n_neighbors=11, metric='euclidean')\n",
        "classifier.fit(X_train, y_train)"
      ],
      "metadata": {
        "colab": {
          "base_uri": "https://localhost:8080/"
        },
        "id": "lDlX1tHB0L7-",
        "outputId": "6c152480-992a-4287-deab-ed53f619ee7d"
      },
      "execution_count": null,
      "outputs": [
        {
          "output_type": "execute_result",
          "data": {
            "text/plain": [
              "KNeighborsClassifier(metric='euclidean', n_neighbors=11)"
            ]
          },
          "metadata": {},
          "execution_count": 96
        }
      ]
    },
    {
      "cell_type": "code",
      "source": [
        "# make predictions with our trained model\n",
        "# \n",
        "y_pred = classifier.predict(X_test)\n",
        "\n",
        "comparison_frame = pd.DataFrame({'actual':y_test.flatten(), 'predicted':y_pred.flatten()})\n",
        "comparison_frame"
      ],
      "metadata": {
        "colab": {
          "base_uri": "https://localhost:8080/",
          "height": 423
        },
        "id": "0RFczpNC0XSK",
        "outputId": "86d97de4-12c2-4382-cc7c-c63713ba4e7d"
      },
      "execution_count": null,
      "outputs": [
        {
          "output_type": "execute_result",
          "data": {
            "text/plain": [
              "       actual  predicted\n",
              "0         0.0        0.0\n",
              "1         0.0        0.0\n",
              "2         0.0        0.0\n",
              "3         0.0        0.0\n",
              "4         0.0        0.0\n",
              "...       ...        ...\n",
              "11883     0.0        0.0\n",
              "11884     0.0        0.0\n",
              "11885     0.0        0.0\n",
              "11886     0.0        0.0\n",
              "11887     0.0        0.0\n",
              "\n",
              "[11888 rows x 2 columns]"
            ],
            "text/html": [
              "\n",
              "  <div id=\"df-675e228f-8e03-4d6c-8b02-ac936df29008\">\n",
              "    <div class=\"colab-df-container\">\n",
              "      <div>\n",
              "<style scoped>\n",
              "    .dataframe tbody tr th:only-of-type {\n",
              "        vertical-align: middle;\n",
              "    }\n",
              "\n",
              "    .dataframe tbody tr th {\n",
              "        vertical-align: top;\n",
              "    }\n",
              "\n",
              "    .dataframe thead th {\n",
              "        text-align: right;\n",
              "    }\n",
              "</style>\n",
              "<table border=\"1\" class=\"dataframe\">\n",
              "  <thead>\n",
              "    <tr style=\"text-align: right;\">\n",
              "      <th></th>\n",
              "      <th>actual</th>\n",
              "      <th>predicted</th>\n",
              "    </tr>\n",
              "  </thead>\n",
              "  <tbody>\n",
              "    <tr>\n",
              "      <th>0</th>\n",
              "      <td>0.0</td>\n",
              "      <td>0.0</td>\n",
              "    </tr>\n",
              "    <tr>\n",
              "      <th>1</th>\n",
              "      <td>0.0</td>\n",
              "      <td>0.0</td>\n",
              "    </tr>\n",
              "    <tr>\n",
              "      <th>2</th>\n",
              "      <td>0.0</td>\n",
              "      <td>0.0</td>\n",
              "    </tr>\n",
              "    <tr>\n",
              "      <th>3</th>\n",
              "      <td>0.0</td>\n",
              "      <td>0.0</td>\n",
              "    </tr>\n",
              "    <tr>\n",
              "      <th>4</th>\n",
              "      <td>0.0</td>\n",
              "      <td>0.0</td>\n",
              "    </tr>\n",
              "    <tr>\n",
              "      <th>...</th>\n",
              "      <td>...</td>\n",
              "      <td>...</td>\n",
              "    </tr>\n",
              "    <tr>\n",
              "      <th>11883</th>\n",
              "      <td>0.0</td>\n",
              "      <td>0.0</td>\n",
              "    </tr>\n",
              "    <tr>\n",
              "      <th>11884</th>\n",
              "      <td>0.0</td>\n",
              "      <td>0.0</td>\n",
              "    </tr>\n",
              "    <tr>\n",
              "      <th>11885</th>\n",
              "      <td>0.0</td>\n",
              "      <td>0.0</td>\n",
              "    </tr>\n",
              "    <tr>\n",
              "      <th>11886</th>\n",
              "      <td>0.0</td>\n",
              "      <td>0.0</td>\n",
              "    </tr>\n",
              "    <tr>\n",
              "      <th>11887</th>\n",
              "      <td>0.0</td>\n",
              "      <td>0.0</td>\n",
              "    </tr>\n",
              "  </tbody>\n",
              "</table>\n",
              "<p>11888 rows × 2 columns</p>\n",
              "</div>\n",
              "      <button class=\"colab-df-convert\" onclick=\"convertToInteractive('df-675e228f-8e03-4d6c-8b02-ac936df29008')\"\n",
              "              title=\"Convert this dataframe to an interactive table.\"\n",
              "              style=\"display:none;\">\n",
              "        \n",
              "  <svg xmlns=\"http://www.w3.org/2000/svg\" height=\"24px\"viewBox=\"0 0 24 24\"\n",
              "       width=\"24px\">\n",
              "    <path d=\"M0 0h24v24H0V0z\" fill=\"none\"/>\n",
              "    <path d=\"M18.56 5.44l.94 2.06.94-2.06 2.06-.94-2.06-.94-.94-2.06-.94 2.06-2.06.94zm-11 1L8.5 8.5l.94-2.06 2.06-.94-2.06-.94L8.5 2.5l-.94 2.06-2.06.94zm10 10l.94 2.06.94-2.06 2.06-.94-2.06-.94-.94-2.06-.94 2.06-2.06.94z\"/><path d=\"M17.41 7.96l-1.37-1.37c-.4-.4-.92-.59-1.43-.59-.52 0-1.04.2-1.43.59L10.3 9.45l-7.72 7.72c-.78.78-.78 2.05 0 2.83L4 21.41c.39.39.9.59 1.41.59.51 0 1.02-.2 1.41-.59l7.78-7.78 2.81-2.81c.8-.78.8-2.07 0-2.86zM5.41 20L4 18.59l7.72-7.72 1.47 1.35L5.41 20z\"/>\n",
              "  </svg>\n",
              "      </button>\n",
              "      \n",
              "  <style>\n",
              "    .colab-df-container {\n",
              "      display:flex;\n",
              "      flex-wrap:wrap;\n",
              "      gap: 12px;\n",
              "    }\n",
              "\n",
              "    .colab-df-convert {\n",
              "      background-color: #E8F0FE;\n",
              "      border: none;\n",
              "      border-radius: 50%;\n",
              "      cursor: pointer;\n",
              "      display: none;\n",
              "      fill: #1967D2;\n",
              "      height: 32px;\n",
              "      padding: 0 0 0 0;\n",
              "      width: 32px;\n",
              "    }\n",
              "\n",
              "    .colab-df-convert:hover {\n",
              "      background-color: #E2EBFA;\n",
              "      box-shadow: 0px 1px 2px rgba(60, 64, 67, 0.3), 0px 1px 3px 1px rgba(60, 64, 67, 0.15);\n",
              "      fill: #174EA6;\n",
              "    }\n",
              "\n",
              "    [theme=dark] .colab-df-convert {\n",
              "      background-color: #3B4455;\n",
              "      fill: #D2E3FC;\n",
              "    }\n",
              "\n",
              "    [theme=dark] .colab-df-convert:hover {\n",
              "      background-color: #434B5C;\n",
              "      box-shadow: 0px 1px 3px 1px rgba(0, 0, 0, 0.15);\n",
              "      filter: drop-shadow(0px 1px 2px rgba(0, 0, 0, 0.3));\n",
              "      fill: #FFFFFF;\n",
              "    }\n",
              "  </style>\n",
              "\n",
              "      <script>\n",
              "        const buttonEl =\n",
              "          document.querySelector('#df-675e228f-8e03-4d6c-8b02-ac936df29008 button.colab-df-convert');\n",
              "        buttonEl.style.display =\n",
              "          google.colab.kernel.accessAllowed ? 'block' : 'none';\n",
              "\n",
              "        async function convertToInteractive(key) {\n",
              "          const element = document.querySelector('#df-675e228f-8e03-4d6c-8b02-ac936df29008');\n",
              "          const dataTable =\n",
              "            await google.colab.kernel.invokeFunction('convertToInteractive',\n",
              "                                                     [key], {});\n",
              "          if (!dataTable) return;\n",
              "\n",
              "          const docLinkHtml = 'Like what you see? Visit the ' +\n",
              "            '<a target=\"_blank\" href=https://colab.research.google.com/notebooks/data_table.ipynb>data table notebook</a>'\n",
              "            + ' to learn more about interactive tables.';\n",
              "          element.innerHTML = '';\n",
              "          dataTable['output_type'] = 'display_data';\n",
              "          await google.colab.output.renderOutput(dataTable, element);\n",
              "          const docLink = document.createElement('div');\n",
              "          docLink.innerHTML = docLinkHtml;\n",
              "          element.appendChild(docLink);\n",
              "        }\n",
              "      </script>\n",
              "    </div>\n",
              "  </div>\n",
              "  "
            ]
          },
          "metadata": {},
          "execution_count": 97
        }
      ]
    },
    {
      "cell_type": "code",
      "source": [
        "from sklearn import metrics\n",
        "\n",
        "# Model Accuracy, how often is the classifier correct?\n",
        "print(\"Accuracy:\",metrics.accuracy_score(y_test, y_pred))"
      ],
      "metadata": {
        "colab": {
          "base_uri": "https://localhost:8080/"
        },
        "id": "Y4jlTig31Q4q",
        "outputId": "49c511b4-5cca-4dac-9552-4d403b971640"
      },
      "execution_count": null,
      "outputs": [
        {
          "output_type": "stream",
          "name": "stdout",
          "text": [
            "Accuracy: 0.9214333781965006\n"
          ]
        }
      ]
    },
    {
      "cell_type": "code",
      "source": [
        "# Getting the confusion matrix\n",
        "print(metrics.confusion_matrix(y_test, y_pred))"
      ],
      "metadata": {
        "colab": {
          "base_uri": "https://localhost:8080/"
        },
        "id": "JM5CPk0712T2",
        "outputId": "ab2e84fd-4aa8-4d98-da10-55fc257c22eb"
      },
      "execution_count": null,
      "outputs": [
        {
          "output_type": "stream",
          "name": "stdout",
          "text": [
            "[[10950     7]\n",
            " [  927     4]]\n"
          ]
        }
      ]
    },
    {
      "cell_type": "code",
      "source": [
        "# Getting the classification report\n",
        "print(metrics.classification_report(y_test, y_pred))"
      ],
      "metadata": {
        "colab": {
          "base_uri": "https://localhost:8080/"
        },
        "id": "pATpsb_c2XTm",
        "outputId": "2f8ef21c-5f6b-4d4b-9969-ac7c26ea6a9f"
      },
      "execution_count": null,
      "outputs": [
        {
          "output_type": "stream",
          "name": "stdout",
          "text": [
            "              precision    recall  f1-score   support\n",
            "\n",
            "         0.0       0.92      1.00      0.96     10957\n",
            "         1.0       0.36      0.00      0.01       931\n",
            "\n",
            "    accuracy                           0.92     11888\n",
            "   macro avg       0.64      0.50      0.48     11888\n",
            "weighted avg       0.88      0.92      0.88     11888\n",
            "\n"
          ]
        }
      ]
    },
    {
      "cell_type": "markdown",
      "source": [
        "**Using SMOTE to counter Class Imbalance**"
      ],
      "metadata": {
        "id": "K5U22-45u7Os"
      }
    },
    {
      "cell_type": "code",
      "source": [
        "import imblearn\n",
        "print(imblearn.__version__)\n",
        "from imblearn.over_sampling import SMOTE\n",
        "from collections import Counter\n"
      ],
      "metadata": {
        "colab": {
          "base_uri": "https://localhost:8080/"
        },
        "id": "FnhEVjpyqpqv",
        "outputId": "4eb035f8-7b5a-4ce1-962a-6fa744629389"
      },
      "execution_count": null,
      "outputs": [
        {
          "output_type": "stream",
          "name": "stdout",
          "text": [
            "0.8.1\n"
          ]
        }
      ]
    },
    {
      "cell_type": "code",
      "source": [
        "# splitting data into train and test sets\n",
        "# \n",
        "from sklearn.model_selection import train_test_split\n",
        "\n",
        "X_train, X_test, y_train, y_test = train_test_split(X,y, test_size=0.2, random_state=0)"
      ],
      "metadata": {
        "id": "uoPbA2raqt0F"
      },
      "execution_count": null,
      "outputs": []
    },
    {
      "cell_type": "code",
      "source": [
        "counter = Counter(y_train)\n",
        "print(counter)"
      ],
      "metadata": {
        "colab": {
          "base_uri": "https://localhost:8080/"
        },
        "id": "txuhaVJmsNw7",
        "outputId": "31f82abc-c0da-4f62-82c5-1662ed51ad72"
      },
      "execution_count": null,
      "outputs": [
        {
          "output_type": "stream",
          "name": "stdout",
          "text": [
            "Counter({0.0: 43664, 1.0: 3886})\n"
          ]
        }
      ]
    },
    {
      "cell_type": "code",
      "source": [
        "oversample = SMOTE()\n",
        "X_train, y_train = oversample.fit_resample(X_train, y_train)\n",
        "counter = Counter(y_train)\n",
        "print(counter)\n",
        "# training our model KNN\n",
        "\n",
        "from sklearn.neighbors import KNeighborsClassifier\n",
        "\n",
        "classifier = KNeighborsClassifier(n_neighbors=10)\n",
        "classifier.fit(X_train, y_train)\n",
        "# make predictions with our trained model\n",
        "# \n",
        "y_pred = classifier.predict(X_test)\n",
        "\n",
        "comparison_frame = pd.DataFrame({'actual':y_test.flatten(), 'predicted':y_pred.flatten()})\n",
        "comparison_frame\n"
      ],
      "metadata": {
        "colab": {
          "base_uri": "https://localhost:8080/",
          "height": 442
        },
        "id": "edcskCFZsvia",
        "outputId": "cd3657e2-e2fb-4d4f-8537-283c4460b0eb"
      },
      "execution_count": null,
      "outputs": [
        {
          "output_type": "stream",
          "name": "stdout",
          "text": [
            "Counter({0.0: 43664, 1.0: 43664})\n"
          ]
        },
        {
          "output_type": "execute_result",
          "data": {
            "text/plain": [
              "       actual  predicted\n",
              "0         0.0        0.0\n",
              "1         0.0        0.0\n",
              "2         0.0        1.0\n",
              "3         0.0        0.0\n",
              "4         0.0        1.0\n",
              "...       ...        ...\n",
              "11883     0.0        0.0\n",
              "11884     0.0        0.0\n",
              "11885     0.0        1.0\n",
              "11886     0.0        1.0\n",
              "11887     0.0        1.0\n",
              "\n",
              "[11888 rows x 2 columns]"
            ],
            "text/html": [
              "\n",
              "  <div id=\"df-9480811e-d7fd-4930-ae2e-add1ee2d177e\">\n",
              "    <div class=\"colab-df-container\">\n",
              "      <div>\n",
              "<style scoped>\n",
              "    .dataframe tbody tr th:only-of-type {\n",
              "        vertical-align: middle;\n",
              "    }\n",
              "\n",
              "    .dataframe tbody tr th {\n",
              "        vertical-align: top;\n",
              "    }\n",
              "\n",
              "    .dataframe thead th {\n",
              "        text-align: right;\n",
              "    }\n",
              "</style>\n",
              "<table border=\"1\" class=\"dataframe\">\n",
              "  <thead>\n",
              "    <tr style=\"text-align: right;\">\n",
              "      <th></th>\n",
              "      <th>actual</th>\n",
              "      <th>predicted</th>\n",
              "    </tr>\n",
              "  </thead>\n",
              "  <tbody>\n",
              "    <tr>\n",
              "      <th>0</th>\n",
              "      <td>0.0</td>\n",
              "      <td>0.0</td>\n",
              "    </tr>\n",
              "    <tr>\n",
              "      <th>1</th>\n",
              "      <td>0.0</td>\n",
              "      <td>0.0</td>\n",
              "    </tr>\n",
              "    <tr>\n",
              "      <th>2</th>\n",
              "      <td>0.0</td>\n",
              "      <td>1.0</td>\n",
              "    </tr>\n",
              "    <tr>\n",
              "      <th>3</th>\n",
              "      <td>0.0</td>\n",
              "      <td>0.0</td>\n",
              "    </tr>\n",
              "    <tr>\n",
              "      <th>4</th>\n",
              "      <td>0.0</td>\n",
              "      <td>1.0</td>\n",
              "    </tr>\n",
              "    <tr>\n",
              "      <th>...</th>\n",
              "      <td>...</td>\n",
              "      <td>...</td>\n",
              "    </tr>\n",
              "    <tr>\n",
              "      <th>11883</th>\n",
              "      <td>0.0</td>\n",
              "      <td>0.0</td>\n",
              "    </tr>\n",
              "    <tr>\n",
              "      <th>11884</th>\n",
              "      <td>0.0</td>\n",
              "      <td>0.0</td>\n",
              "    </tr>\n",
              "    <tr>\n",
              "      <th>11885</th>\n",
              "      <td>0.0</td>\n",
              "      <td>1.0</td>\n",
              "    </tr>\n",
              "    <tr>\n",
              "      <th>11886</th>\n",
              "      <td>0.0</td>\n",
              "      <td>1.0</td>\n",
              "    </tr>\n",
              "    <tr>\n",
              "      <th>11887</th>\n",
              "      <td>0.0</td>\n",
              "      <td>1.0</td>\n",
              "    </tr>\n",
              "  </tbody>\n",
              "</table>\n",
              "<p>11888 rows × 2 columns</p>\n",
              "</div>\n",
              "      <button class=\"colab-df-convert\" onclick=\"convertToInteractive('df-9480811e-d7fd-4930-ae2e-add1ee2d177e')\"\n",
              "              title=\"Convert this dataframe to an interactive table.\"\n",
              "              style=\"display:none;\">\n",
              "        \n",
              "  <svg xmlns=\"http://www.w3.org/2000/svg\" height=\"24px\"viewBox=\"0 0 24 24\"\n",
              "       width=\"24px\">\n",
              "    <path d=\"M0 0h24v24H0V0z\" fill=\"none\"/>\n",
              "    <path d=\"M18.56 5.44l.94 2.06.94-2.06 2.06-.94-2.06-.94-.94-2.06-.94 2.06-2.06.94zm-11 1L8.5 8.5l.94-2.06 2.06-.94-2.06-.94L8.5 2.5l-.94 2.06-2.06.94zm10 10l.94 2.06.94-2.06 2.06-.94-2.06-.94-.94-2.06-.94 2.06-2.06.94z\"/><path d=\"M17.41 7.96l-1.37-1.37c-.4-.4-.92-.59-1.43-.59-.52 0-1.04.2-1.43.59L10.3 9.45l-7.72 7.72c-.78.78-.78 2.05 0 2.83L4 21.41c.39.39.9.59 1.41.59.51 0 1.02-.2 1.41-.59l7.78-7.78 2.81-2.81c.8-.78.8-2.07 0-2.86zM5.41 20L4 18.59l7.72-7.72 1.47 1.35L5.41 20z\"/>\n",
              "  </svg>\n",
              "      </button>\n",
              "      \n",
              "  <style>\n",
              "    .colab-df-container {\n",
              "      display:flex;\n",
              "      flex-wrap:wrap;\n",
              "      gap: 12px;\n",
              "    }\n",
              "\n",
              "    .colab-df-convert {\n",
              "      background-color: #E8F0FE;\n",
              "      border: none;\n",
              "      border-radius: 50%;\n",
              "      cursor: pointer;\n",
              "      display: none;\n",
              "      fill: #1967D2;\n",
              "      height: 32px;\n",
              "      padding: 0 0 0 0;\n",
              "      width: 32px;\n",
              "    }\n",
              "\n",
              "    .colab-df-convert:hover {\n",
              "      background-color: #E2EBFA;\n",
              "      box-shadow: 0px 1px 2px rgba(60, 64, 67, 0.3), 0px 1px 3px 1px rgba(60, 64, 67, 0.15);\n",
              "      fill: #174EA6;\n",
              "    }\n",
              "\n",
              "    [theme=dark] .colab-df-convert {\n",
              "      background-color: #3B4455;\n",
              "      fill: #D2E3FC;\n",
              "    }\n",
              "\n",
              "    [theme=dark] .colab-df-convert:hover {\n",
              "      background-color: #434B5C;\n",
              "      box-shadow: 0px 1px 3px 1px rgba(0, 0, 0, 0.15);\n",
              "      filter: drop-shadow(0px 1px 2px rgba(0, 0, 0, 0.3));\n",
              "      fill: #FFFFFF;\n",
              "    }\n",
              "  </style>\n",
              "\n",
              "      <script>\n",
              "        const buttonEl =\n",
              "          document.querySelector('#df-9480811e-d7fd-4930-ae2e-add1ee2d177e button.colab-df-convert');\n",
              "        buttonEl.style.display =\n",
              "          google.colab.kernel.accessAllowed ? 'block' : 'none';\n",
              "\n",
              "        async function convertToInteractive(key) {\n",
              "          const element = document.querySelector('#df-9480811e-d7fd-4930-ae2e-add1ee2d177e');\n",
              "          const dataTable =\n",
              "            await google.colab.kernel.invokeFunction('convertToInteractive',\n",
              "                                                     [key], {});\n",
              "          if (!dataTable) return;\n",
              "\n",
              "          const docLinkHtml = 'Like what you see? Visit the ' +\n",
              "            '<a target=\"_blank\" href=https://colab.research.google.com/notebooks/data_table.ipynb>data table notebook</a>'\n",
              "            + ' to learn more about interactive tables.';\n",
              "          element.innerHTML = '';\n",
              "          dataTable['output_type'] = 'display_data';\n",
              "          await google.colab.output.renderOutput(dataTable, element);\n",
              "          const docLink = document.createElement('div');\n",
              "          docLink.innerHTML = docLinkHtml;\n",
              "          element.appendChild(docLink);\n",
              "        }\n",
              "      </script>\n",
              "    </div>\n",
              "  </div>\n",
              "  "
            ]
          },
          "metadata": {},
          "execution_count": 104
        }
      ]
    },
    {
      "cell_type": "code",
      "source": [
        "from sklearn import metrics\n",
        "\n",
        "# Model Accuracy, how often is the classifier correct?\n",
        "print(\"Accuracy:\",metrics.accuracy_score(y_test, y_pred))"
      ],
      "metadata": {
        "colab": {
          "base_uri": "https://localhost:8080/"
        },
        "id": "ksq9nDzd2eLq",
        "outputId": "5cbeb974-957f-48f9-8964-8338da1f3056"
      },
      "execution_count": null,
      "outputs": [
        {
          "output_type": "stream",
          "name": "stdout",
          "text": [
            "Accuracy: 0.6451043068640646\n"
          ]
        }
      ]
    },
    {
      "cell_type": "code",
      "source": [
        "# Getting the confusion matrix\n",
        "print(metrics.confusion_matrix(y_test, y_pred))"
      ],
      "metadata": {
        "colab": {
          "base_uri": "https://localhost:8080/"
        },
        "id": "L5pdvYp-2y-n",
        "outputId": "395ed983-637c-402b-c618-3d701ab442a7"
      },
      "execution_count": null,
      "outputs": [
        {
          "output_type": "stream",
          "name": "stdout",
          "text": [
            "[[7278 3679]\n",
            " [ 540  391]]\n"
          ]
        }
      ]
    },
    {
      "cell_type": "code",
      "source": [
        "# Getting the classification report\n",
        "print(metrics.classification_report(y_test, y_pred))"
      ],
      "metadata": {
        "colab": {
          "base_uri": "https://localhost:8080/"
        },
        "id": "u9MILmJ326oz",
        "outputId": "e5bd537d-4aca-43e4-9315-6403e7fcca59"
      },
      "execution_count": null,
      "outputs": [
        {
          "output_type": "stream",
          "name": "stdout",
          "text": [
            "              precision    recall  f1-score   support\n",
            "\n",
            "         0.0       0.93      0.66      0.78     10957\n",
            "         1.0       0.10      0.42      0.16       931\n",
            "\n",
            "    accuracy                           0.65     11888\n",
            "   macro avg       0.51      0.54      0.47     11888\n",
            "weighted avg       0.87      0.65      0.73     11888\n",
            "\n"
          ]
        }
      ]
    },
    {
      "cell_type": "markdown",
      "source": [
        "**Random Under Sampling**\n"
      ],
      "metadata": {
        "id": "3QOfB_Pu6q1a"
      }
    },
    {
      "cell_type": "code",
      "source": [
        "from collections import Counter\n",
        "from imblearn.under_sampling import RandomUnderSampler\n",
        "from sklearn.model_selection import train_test_split\n",
        "import pandas as pd\n",
        "import numpy as np\n",
        "import warnings"
      ],
      "metadata": {
        "id": "gfj3dG_58Kfa"
      },
      "execution_count": null,
      "outputs": []
    },
    {
      "cell_type": "code",
      "source": [
        "# Implementing the Solution\n",
        "# define our x and y\n",
        "# \n",
        "X = df.drop(columns=['default']).values\n",
        "y = df['default'].values"
      ],
      "metadata": {
        "id": "92lJ1XgC6gXZ"
      },
      "execution_count": null,
      "outputs": []
    },
    {
      "cell_type": "code",
      "source": [
        "# splitting data into train and test sets\n",
        "# \n",
        "from sklearn.model_selection import train_test_split\n",
        "\n",
        "X_train, X_test, y_train, y_test = train_test_split(X,y, test_size=0.2, random_state=0)"
      ],
      "metadata": {
        "id": "ehKjXrtM6uIj"
      },
      "execution_count": null,
      "outputs": []
    },
    {
      "cell_type": "code",
      "source": [
        "# summarize class distribution\n",
        "print(\"Before undersampling: \", Counter(y_train))"
      ],
      "metadata": {
        "colab": {
          "base_uri": "https://localhost:8080/"
        },
        "id": "Vtt_DZis6524",
        "outputId": "fe9e6a00-b62c-460d-af23-3a4fca849d06"
      },
      "execution_count": null,
      "outputs": [
        {
          "output_type": "stream",
          "name": "stdout",
          "text": [
            "Before undersampling:  Counter({0.0: 43664, 1.0: 3886})\n"
          ]
        }
      ]
    },
    {
      "cell_type": "code",
      "source": [
        "# define undersampling strategy\n",
        "undersample = RandomUnderSampler(sampling_strategy='majority')"
      ],
      "metadata": {
        "id": "_iNFWugx7DAl"
      },
      "execution_count": null,
      "outputs": []
    },
    {
      "cell_type": "code",
      "source": [
        "# fit and apply the transform\n",
        "X_train_under, y_train_under = undersample.fit_resample(X_train, y_train)"
      ],
      "metadata": {
        "id": "DCEe_0388OYB"
      },
      "execution_count": null,
      "outputs": []
    },
    {
      "cell_type": "code",
      "source": [
        "# summarize class distribution\n",
        "print(\"After undersampling: \", Counter(y_train_under))"
      ],
      "metadata": {
        "colab": {
          "base_uri": "https://localhost:8080/"
        },
        "id": "fA0-4RNJ8Wy8",
        "outputId": "63aa878a-5ea1-4d82-f396-83ede4c69f45"
      },
      "execution_count": null,
      "outputs": [
        {
          "output_type": "stream",
          "name": "stdout",
          "text": [
            "After undersampling:  Counter({0.0: 3886, 1.0: 3886})\n"
          ]
        }
      ]
    },
    {
      "cell_type": "code",
      "source": [
        "# training our model KNN\n",
        "\n",
        "from sklearn.neighbors import KNeighborsClassifier\n",
        "\n",
        "classifier = KNeighborsClassifier(n_neighbors=10)\n",
        "classifier.fit(X_train, y_train)\n",
        "# make predictions with our trained model\n",
        "# \n",
        "y_pred = classifier.predict(X_test)"
      ],
      "metadata": {
        "id": "6gZR5lwN9i87"
      },
      "execution_count": null,
      "outputs": []
    },
    {
      "cell_type": "code",
      "source": [
        "from sklearn import metrics\n",
        "\n",
        "# Model Accuracy, how often is the classifier correct?\n",
        "print(\"Accuracy:\",metrics.accuracy_score(y_test, y_pred))"
      ],
      "metadata": {
        "colab": {
          "base_uri": "https://localhost:8080/"
        },
        "id": "9Sn6RwRMAFeb",
        "outputId": "9e6dc108-fc61-48d0-e2f1-7b57974a5a39"
      },
      "execution_count": null,
      "outputs": [
        {
          "output_type": "stream",
          "name": "stdout",
          "text": [
            "Accuracy: 0.9213492597577388\n"
          ]
        }
      ]
    },
    {
      "cell_type": "code",
      "source": [
        "# Getting the confusion matrix\n",
        "print(metrics.confusion_matrix(y_test, y_pred))"
      ],
      "metadata": {
        "colab": {
          "base_uri": "https://localhost:8080/"
        },
        "id": "-y1E8CfjAY0f",
        "outputId": "c155374d-dfd7-4e6e-a7c2-f8e4b64fc96a"
      },
      "execution_count": null,
      "outputs": [
        {
          "output_type": "stream",
          "name": "stdout",
          "text": [
            "[[10953     4]\n",
            " [  931     0]]\n"
          ]
        }
      ]
    },
    {
      "cell_type": "code",
      "source": [
        "# Getting the classification report\n",
        "print(metrics.classification_report(y_test, y_pred))"
      ],
      "metadata": {
        "colab": {
          "base_uri": "https://localhost:8080/"
        },
        "id": "USur_bPKAfa4",
        "outputId": "2d57fba9-347e-4f5d-bb5f-fec4eb8b28fa"
      },
      "execution_count": null,
      "outputs": [
        {
          "output_type": "stream",
          "name": "stdout",
          "text": [
            "              precision    recall  f1-score   support\n",
            "\n",
            "         0.0       0.92      1.00      0.96     10957\n",
            "         1.0       0.00      0.00      0.00       931\n",
            "\n",
            "    accuracy                           0.92     11888\n",
            "   macro avg       0.46      0.50      0.48     11888\n",
            "weighted avg       0.85      0.92      0.88     11888\n",
            "\n"
          ]
        }
      ]
    },
    {
      "cell_type": "markdown",
      "source": [
        "# **CONCLUSIONS**"
      ],
      "metadata": {
        "id": "qkABoP0wMXAI"
      }
    },
    {
      "cell_type": "markdown",
      "source": [
        "**RECOMMENDATION**"
      ],
      "metadata": {
        "id": "c5gsyoeJRh4R"
      }
    },
    {
      "cell_type": "markdown",
      "source": [
        "Target customers with rolling loans because they have a lower default rate\n",
        "Target customers with income above $20,000 because they have a lower default rate \n",
        "\n",
        "• Target customers who borrow amount greater than $ 50,000 because they have a lower default rate\n",
        "\n",
        "Avoid lending loans to clients who do not indicate their occupation because they have a higher default rate\n",
        "\n",
        "Target customers who do not have an active loan\n",
        "\n",
        "Perform background checks for clients of ages between 25 and 45 because they have a higher default rate\n",
        "\n",
        "Check on external validation using score source variable column as it is the most\n",
        "\n",
        "important determinant of the default rate.\n",
        "\n",
        "Perform background checks for clients who are married because they have a higher default rate"
      ],
      "metadata": {
        "id": "WCY92j_GRmLP"
      }
    }
  ]
}